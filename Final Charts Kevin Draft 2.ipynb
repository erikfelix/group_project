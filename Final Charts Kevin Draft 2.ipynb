{
 "cells": [
  {
   "cell_type": "code",
   "execution_count": 2,
   "id": "582ed5a9-1ddc-44b4-8038-7591a8d1fef2",
   "metadata": {},
   "outputs": [
    {
     "name": "stderr",
     "output_type": "stream",
     "text": [
      "/opt/conda/lib/python3.9/site-packages/geopandas/_compat.py:106: UserWarning: The Shapely GEOS version (3.9.1-CAPI-1.14.2) is incompatible with the GEOS version PyGEOS was compiled with (3.10.1-CAPI-1.16.0). Conversions between both will be slow.\n",
      "  warnings.warn(\n"
     ]
    }
   ],
   "source": [
    "# Let's start by importing all of the libraries we'll need for our analyses\n",
    "\n",
    "import pandas as pd\n",
    "\n",
    "import geopandas as gpd\n",
    "\n",
    "from shapely.geometry import Point\n",
    "\n",
    "import contextily as ctx\n",
    "\n",
    "import matplotlib.pyplot as plt\n",
    "\n",
    "# for interactive plots\n",
    "import plotly.express as px\n",
    "\n",
    "import plotly.graph_objects as go\n",
    "\n",
    "# for network analysis\n",
    "import networkx as nx\n",
    "\n",
    "# for street network analysis\n",
    "import osmnx as ox"
   ]
  },
  {
   "cell_type": "code",
   "execution_count": 3,
   "id": "df3e0496-950c-452b-94d1-bf8f6386e531",
   "metadata": {},
   "outputs": [],
   "source": [
    "pd.set_option('display.max_columns', None)"
   ]
  },
  {
   "cell_type": "code",
   "execution_count": 4,
   "id": "3afaab54-7b53-4dfa-aff8-678f1fa046a9",
   "metadata": {},
   "outputs": [],
   "source": [
    "df = gpd.read_file('stn_reg_dropna.geojson')"
   ]
  },
  {
   "cell_type": "code",
   "execution_count": 5,
   "id": "923ad6f3-7080-46b4-871d-f5475b045c72",
   "metadata": {},
   "outputs": [
    {
     "data": {
      "text/plain": [
       "(212, 44)"
      ]
     },
     "execution_count": 5,
     "metadata": {},
     "output_type": "execute_result"
    }
   ],
   "source": [
    "df.shape"
   ]
  },
  {
   "cell_type": "code",
   "execution_count": 6,
   "id": "f047c0d4-2a0f-422b-a626-4f773251492a",
   "metadata": {},
   "outputs": [
    {
     "data": {
      "text/html": [
       "<div>\n",
       "<style scoped>\n",
       "    .dataframe tbody tr th:only-of-type {\n",
       "        vertical-align: middle;\n",
       "    }\n",
       "\n",
       "    .dataframe tbody tr th {\n",
       "        vertical-align: top;\n",
       "    }\n",
       "\n",
       "    .dataframe thead th {\n",
       "        text-align: right;\n",
       "    }\n",
       "</style>\n",
       "<table border=\"1\" class=\"dataframe\">\n",
       "  <thead>\n",
       "    <tr style=\"text-align: right;\">\n",
       "      <th></th>\n",
       "      <th>FIPS</th>\n",
       "      <th>Census Tract</th>\n",
       "      <th>11 Total Population</th>\n",
       "      <th>11 Total Foreign Born</th>\n",
       "      <th>11 Total Entered 2000 or later</th>\n",
       "      <th>11 Europe</th>\n",
       "      <th>11 Europe Entered 2000 or later</th>\n",
       "      <th>11 Asia</th>\n",
       "      <th>11 Asia Entered 2000 or later</th>\n",
       "      <th>11 Latin America</th>\n",
       "      <th>11 Caribbean</th>\n",
       "      <th>11 Caribbean Entered 2000 or later</th>\n",
       "      <th>11 Central America</th>\n",
       "      <th>11 Mexico</th>\n",
       "      <th>11 Mexico Entered 2000 or later</th>\n",
       "      <th>11 Other Central America</th>\n",
       "      <th>11 Other Central America 2000 or later</th>\n",
       "      <th>11 South America</th>\n",
       "      <th>11 South America Entered 2000 or later</th>\n",
       "      <th>11 Other areas</th>\n",
       "      <th>11 Other areas Entered 2000 or later</th>\n",
       "      <th>19 Total Population</th>\n",
       "      <th>19 Total Foreign Born</th>\n",
       "      <th>19 Total Entered 2010 or later</th>\n",
       "      <th>19 Europe</th>\n",
       "      <th>19 Europe Entered 2010 or later</th>\n",
       "      <th>19 Asia</th>\n",
       "      <th>19 Asia Entered 2010 or later</th>\n",
       "      <th>19 Latin America</th>\n",
       "      <th>19 Caribbean</th>\n",
       "      <th>19 Caribbean entered 2010 or later</th>\n",
       "      <th>19 Central America</th>\n",
       "      <th>19 Mexico</th>\n",
       "      <th>19 Mexico Entered 2010 or later</th>\n",
       "      <th>19 Other Central America</th>\n",
       "      <th>19 Other Central America Entered 2010 or later</th>\n",
       "      <th>19 South America</th>\n",
       "      <th>19 South America Entered 2010 or later</th>\n",
       "      <th>19 Other Areas</th>\n",
       "      <th>19 Other Areas Entered 2010 or later</th>\n",
       "      <th>% Change Foreign Born</th>\n",
       "      <th>region</th>\n",
       "      <th>station</th>\n",
       "      <th>geometry</th>\n",
       "    </tr>\n",
       "  </thead>\n",
       "  <tbody>\n",
       "    <tr>\n",
       "      <th>0</th>\n",
       "      <td>06037181000</td>\n",
       "      <td>Census Tract 1810, Los Angeles, CA</td>\n",
       "      <td>6574.0</td>\n",
       "      <td>2172.0</td>\n",
       "      <td>161.0</td>\n",
       "      <td>88.0</td>\n",
       "      <td>0.0</td>\n",
       "      <td>1039.0</td>\n",
       "      <td>137.0</td>\n",
       "      <td>941.0</td>\n",
       "      <td>33.0</td>\n",
       "      <td>0.0</td>\n",
       "      <td>545.0</td>\n",
       "      <td>360.0</td>\n",
       "      <td>7.0</td>\n",
       "      <td>185.0</td>\n",
       "      <td>17.0</td>\n",
       "      <td>363.0</td>\n",
       "      <td>0.0</td>\n",
       "      <td>104.0</td>\n",
       "      <td>0.0</td>\n",
       "      <td>6458.0</td>\n",
       "      <td>1774.0</td>\n",
       "      <td>155.0</td>\n",
       "      <td>155.0</td>\n",
       "      <td>0.0</td>\n",
       "      <td>1081.0</td>\n",
       "      <td>85.0</td>\n",
       "      <td>523.0</td>\n",
       "      <td>47.0</td>\n",
       "      <td>0.0</td>\n",
       "      <td>363.0</td>\n",
       "      <td>264.0</td>\n",
       "      <td>70.0</td>\n",
       "      <td>99.0</td>\n",
       "      <td>0.0</td>\n",
       "      <td>113.0</td>\n",
       "      <td>0.0</td>\n",
       "      <td>15.0</td>\n",
       "      <td>0.0</td>\n",
       "      <td>-5.569441</td>\n",
       "      <td>NELA</td>\n",
       "      <td>None</td>\n",
       "      <td>MULTIPOLYGON (((-118.22860 34.14689, -118.2285...</td>\n",
       "    </tr>\n",
       "    <tr>\n",
       "      <th>1</th>\n",
       "      <td>06037181300</td>\n",
       "      <td>Census Tract 1813, Los Angeles, CA</td>\n",
       "      <td>3860.0</td>\n",
       "      <td>1428.0</td>\n",
       "      <td>188.0</td>\n",
       "      <td>77.0</td>\n",
       "      <td>8.0</td>\n",
       "      <td>845.0</td>\n",
       "      <td>144.0</td>\n",
       "      <td>491.0</td>\n",
       "      <td>77.0</td>\n",
       "      <td>0.0</td>\n",
       "      <td>244.0</td>\n",
       "      <td>165.0</td>\n",
       "      <td>35.0</td>\n",
       "      <td>79.0</td>\n",
       "      <td>0.0</td>\n",
       "      <td>170.0</td>\n",
       "      <td>0.0</td>\n",
       "      <td>15.0</td>\n",
       "      <td>1.0</td>\n",
       "      <td>4059.0</td>\n",
       "      <td>1328.0</td>\n",
       "      <td>181.0</td>\n",
       "      <td>86.0</td>\n",
       "      <td>0.0</td>\n",
       "      <td>905.0</td>\n",
       "      <td>181.0</td>\n",
       "      <td>280.0</td>\n",
       "      <td>16.0</td>\n",
       "      <td>0.0</td>\n",
       "      <td>221.0</td>\n",
       "      <td>144.0</td>\n",
       "      <td>0.0</td>\n",
       "      <td>77.0</td>\n",
       "      <td>0.0</td>\n",
       "      <td>43.0</td>\n",
       "      <td>0.0</td>\n",
       "      <td>57.0</td>\n",
       "      <td>0.0</td>\n",
       "      <td>-4.277401</td>\n",
       "      <td>NELA</td>\n",
       "      <td>None</td>\n",
       "      <td>MULTIPOLYGON (((-118.22942 34.13411, -118.2294...</td>\n",
       "    </tr>\n",
       "    <tr>\n",
       "      <th>2</th>\n",
       "      <td>06037181400</td>\n",
       "      <td>Census Tract 1814, Los Angeles, CA</td>\n",
       "      <td>4832.0</td>\n",
       "      <td>2026.0</td>\n",
       "      <td>625.0</td>\n",
       "      <td>89.0</td>\n",
       "      <td>9.0</td>\n",
       "      <td>1160.0</td>\n",
       "      <td>303.0</td>\n",
       "      <td>775.0</td>\n",
       "      <td>0.0</td>\n",
       "      <td>0.0</td>\n",
       "      <td>679.0</td>\n",
       "      <td>326.0</td>\n",
       "      <td>47.0</td>\n",
       "      <td>353.0</td>\n",
       "      <td>227.0</td>\n",
       "      <td>96.0</td>\n",
       "      <td>39.0</td>\n",
       "      <td>2.0</td>\n",
       "      <td>0.0</td>\n",
       "      <td>4943.0</td>\n",
       "      <td>2029.0</td>\n",
       "      <td>282.0</td>\n",
       "      <td>37.0</td>\n",
       "      <td>0.0</td>\n",
       "      <td>1326.0</td>\n",
       "      <td>149.0</td>\n",
       "      <td>620.0</td>\n",
       "      <td>75.0</td>\n",
       "      <td>68.0</td>\n",
       "      <td>395.0</td>\n",
       "      <td>329.0</td>\n",
       "      <td>0.0</td>\n",
       "      <td>66.0</td>\n",
       "      <td>0.0</td>\n",
       "      <td>150.0</td>\n",
       "      <td>40.0</td>\n",
       "      <td>46.0</td>\n",
       "      <td>25.0</td>\n",
       "      <td>-0.880861</td>\n",
       "      <td>NELA</td>\n",
       "      <td>None</td>\n",
       "      <td>MULTIPOLYGON (((-118.21897 34.14000, -118.2173...</td>\n",
       "    </tr>\n",
       "    <tr>\n",
       "      <th>3</th>\n",
       "      <td>06037181500</td>\n",
       "      <td>Census Tract 1815, Los Angeles, CA</td>\n",
       "      <td>4035.0</td>\n",
       "      <td>1683.0</td>\n",
       "      <td>183.0</td>\n",
       "      <td>113.0</td>\n",
       "      <td>30.0</td>\n",
       "      <td>806.0</td>\n",
       "      <td>101.0</td>\n",
       "      <td>762.0</td>\n",
       "      <td>125.0</td>\n",
       "      <td>0.0</td>\n",
       "      <td>637.0</td>\n",
       "      <td>271.0</td>\n",
       "      <td>0.0</td>\n",
       "      <td>366.0</td>\n",
       "      <td>52.0</td>\n",
       "      <td>0.0</td>\n",
       "      <td>0.0</td>\n",
       "      <td>2.0</td>\n",
       "      <td>0.0</td>\n",
       "      <td>3956.0</td>\n",
       "      <td>1234.0</td>\n",
       "      <td>90.0</td>\n",
       "      <td>36.0</td>\n",
       "      <td>0.0</td>\n",
       "      <td>564.0</td>\n",
       "      <td>90.0</td>\n",
       "      <td>615.0</td>\n",
       "      <td>12.0</td>\n",
       "      <td>0.0</td>\n",
       "      <td>481.0</td>\n",
       "      <td>204.0</td>\n",
       "      <td>0.0</td>\n",
       "      <td>277.0</td>\n",
       "      <td>0.0</td>\n",
       "      <td>122.0</td>\n",
       "      <td>0.0</td>\n",
       "      <td>19.0</td>\n",
       "      <td>0.0</td>\n",
       "      <td>-10.516913</td>\n",
       "      <td>NELA</td>\n",
       "      <td>None</td>\n",
       "      <td>MULTIPOLYGON (((-118.20153 34.13351, -118.2015...</td>\n",
       "    </tr>\n",
       "    <tr>\n",
       "      <th>4</th>\n",
       "      <td>06037181600</td>\n",
       "      <td>Census Tract 1816, Los Angeles, CA</td>\n",
       "      <td>4425.0</td>\n",
       "      <td>1125.0</td>\n",
       "      <td>278.0</td>\n",
       "      <td>49.0</td>\n",
       "      <td>27.0</td>\n",
       "      <td>369.0</td>\n",
       "      <td>154.0</td>\n",
       "      <td>675.0</td>\n",
       "      <td>16.0</td>\n",
       "      <td>0.0</td>\n",
       "      <td>606.0</td>\n",
       "      <td>227.0</td>\n",
       "      <td>18.0</td>\n",
       "      <td>379.0</td>\n",
       "      <td>26.0</td>\n",
       "      <td>53.0</td>\n",
       "      <td>53.0</td>\n",
       "      <td>32.0</td>\n",
       "      <td>0.0</td>\n",
       "      <td>4631.0</td>\n",
       "      <td>1291.0</td>\n",
       "      <td>168.0</td>\n",
       "      <td>81.0</td>\n",
       "      <td>44.0</td>\n",
       "      <td>723.0</td>\n",
       "      <td>96.0</td>\n",
       "      <td>423.0</td>\n",
       "      <td>19.0</td>\n",
       "      <td>0.0</td>\n",
       "      <td>360.0</td>\n",
       "      <td>234.0</td>\n",
       "      <td>0.0</td>\n",
       "      <td>126.0</td>\n",
       "      <td>0.0</td>\n",
       "      <td>44.0</td>\n",
       "      <td>11.0</td>\n",
       "      <td>64.0</td>\n",
       "      <td>17.0</td>\n",
       "      <td>2.453619</td>\n",
       "      <td>NELA</td>\n",
       "      <td>None</td>\n",
       "      <td>MULTIPOLYGON (((-118.21828 34.13188, -118.2181...</td>\n",
       "    </tr>\n",
       "  </tbody>\n",
       "</table>\n",
       "</div>"
      ],
      "text/plain": [
       "          FIPS                        Census Tract  11 Total Population  \\\n",
       "0  06037181000  Census Tract 1810, Los Angeles, CA               6574.0   \n",
       "1  06037181300  Census Tract 1813, Los Angeles, CA               3860.0   \n",
       "2  06037181400  Census Tract 1814, Los Angeles, CA               4832.0   \n",
       "3  06037181500  Census Tract 1815, Los Angeles, CA               4035.0   \n",
       "4  06037181600  Census Tract 1816, Los Angeles, CA               4425.0   \n",
       "\n",
       "   11 Total Foreign Born  11 Total Entered 2000 or later  11 Europe  \\\n",
       "0                 2172.0                           161.0       88.0   \n",
       "1                 1428.0                           188.0       77.0   \n",
       "2                 2026.0                           625.0       89.0   \n",
       "3                 1683.0                           183.0      113.0   \n",
       "4                 1125.0                           278.0       49.0   \n",
       "\n",
       "   11 Europe Entered 2000 or later  11 Asia  11 Asia Entered 2000 or later  \\\n",
       "0                              0.0   1039.0                          137.0   \n",
       "1                              8.0    845.0                          144.0   \n",
       "2                              9.0   1160.0                          303.0   \n",
       "3                             30.0    806.0                          101.0   \n",
       "4                             27.0    369.0                          154.0   \n",
       "\n",
       "   11 Latin America  11 Caribbean  11 Caribbean Entered 2000 or later  \\\n",
       "0             941.0          33.0                                 0.0   \n",
       "1             491.0          77.0                                 0.0   \n",
       "2             775.0           0.0                                 0.0   \n",
       "3             762.0         125.0                                 0.0   \n",
       "4             675.0          16.0                                 0.0   \n",
       "\n",
       "   11 Central America  11 Mexico  11 Mexico Entered 2000 or later  \\\n",
       "0               545.0      360.0                              7.0   \n",
       "1               244.0      165.0                             35.0   \n",
       "2               679.0      326.0                             47.0   \n",
       "3               637.0      271.0                              0.0   \n",
       "4               606.0      227.0                             18.0   \n",
       "\n",
       "   11 Other Central America  11 Other Central America 2000 or later  \\\n",
       "0                     185.0                                    17.0   \n",
       "1                      79.0                                     0.0   \n",
       "2                     353.0                                   227.0   \n",
       "3                     366.0                                    52.0   \n",
       "4                     379.0                                    26.0   \n",
       "\n",
       "   11 South America  11 South America Entered 2000 or later  11 Other areas  \\\n",
       "0             363.0                                     0.0           104.0   \n",
       "1             170.0                                     0.0            15.0   \n",
       "2              96.0                                    39.0             2.0   \n",
       "3               0.0                                     0.0             2.0   \n",
       "4              53.0                                    53.0            32.0   \n",
       "\n",
       "   11 Other areas Entered 2000 or later  19 Total Population  \\\n",
       "0                                   0.0               6458.0   \n",
       "1                                   1.0               4059.0   \n",
       "2                                   0.0               4943.0   \n",
       "3                                   0.0               3956.0   \n",
       "4                                   0.0               4631.0   \n",
       "\n",
       "   19 Total Foreign Born  19 Total Entered 2010 or later  19 Europe  \\\n",
       "0                 1774.0                           155.0      155.0   \n",
       "1                 1328.0                           181.0       86.0   \n",
       "2                 2029.0                           282.0       37.0   \n",
       "3                 1234.0                            90.0       36.0   \n",
       "4                 1291.0                           168.0       81.0   \n",
       "\n",
       "   19 Europe Entered 2010 or later  19 Asia  19 Asia Entered 2010 or later  \\\n",
       "0                              0.0   1081.0                           85.0   \n",
       "1                              0.0    905.0                          181.0   \n",
       "2                              0.0   1326.0                          149.0   \n",
       "3                              0.0    564.0                           90.0   \n",
       "4                             44.0    723.0                           96.0   \n",
       "\n",
       "   19 Latin America  19 Caribbean  19 Caribbean entered 2010 or later  \\\n",
       "0             523.0          47.0                                 0.0   \n",
       "1             280.0          16.0                                 0.0   \n",
       "2             620.0          75.0                                68.0   \n",
       "3             615.0          12.0                                 0.0   \n",
       "4             423.0          19.0                                 0.0   \n",
       "\n",
       "   19 Central America  19 Mexico  19 Mexico Entered 2010 or later  \\\n",
       "0               363.0      264.0                             70.0   \n",
       "1               221.0      144.0                              0.0   \n",
       "2               395.0      329.0                              0.0   \n",
       "3               481.0      204.0                              0.0   \n",
       "4               360.0      234.0                              0.0   \n",
       "\n",
       "   19 Other Central America  19 Other Central America Entered 2010 or later  \\\n",
       "0                      99.0                                             0.0   \n",
       "1                      77.0                                             0.0   \n",
       "2                      66.0                                             0.0   \n",
       "3                     277.0                                             0.0   \n",
       "4                     126.0                                             0.0   \n",
       "\n",
       "   19 South America  19 South America Entered 2010 or later  19 Other Areas  \\\n",
       "0             113.0                                     0.0            15.0   \n",
       "1              43.0                                     0.0            57.0   \n",
       "2             150.0                                    40.0            46.0   \n",
       "3             122.0                                     0.0            19.0   \n",
       "4              44.0                                    11.0            64.0   \n",
       "\n",
       "   19 Other Areas Entered 2010 or later  % Change Foreign Born region station  \\\n",
       "0                                   0.0              -5.569441   NELA    None   \n",
       "1                                   0.0              -4.277401   NELA    None   \n",
       "2                                  25.0              -0.880861   NELA    None   \n",
       "3                                   0.0             -10.516913   NELA    None   \n",
       "4                                  17.0               2.453619   NELA    None   \n",
       "\n",
       "                                            geometry  \n",
       "0  MULTIPOLYGON (((-118.22860 34.14689, -118.2285...  \n",
       "1  MULTIPOLYGON (((-118.22942 34.13411, -118.2294...  \n",
       "2  MULTIPOLYGON (((-118.21897 34.14000, -118.2173...  \n",
       "3  MULTIPOLYGON (((-118.20153 34.13351, -118.2015...  \n",
       "4  MULTIPOLYGON (((-118.21828 34.13188, -118.2181...  "
      ]
     },
     "execution_count": 6,
     "metadata": {},
     "output_type": "execute_result"
    }
   ],
   "source": [
    "df.head()"
   ]
  },
  {
   "cell_type": "code",
   "execution_count": 7,
   "id": "d4fca008-a031-4419-92f8-4d1c41a4f507",
   "metadata": {},
   "outputs": [],
   "source": [
    "ctk = ['station', '% Change Foreign Born']"
   ]
  },
  {
   "cell_type": "code",
   "execution_count": 8,
   "id": "d390467f-26eb-4dbe-b73b-ca9827fd210e",
   "metadata": {},
   "outputs": [
    {
     "data": {
      "text/html": [
       "<div>\n",
       "<style scoped>\n",
       "    .dataframe tbody tr th:only-of-type {\n",
       "        vertical-align: middle;\n",
       "    }\n",
       "\n",
       "    .dataframe tbody tr th {\n",
       "        vertical-align: top;\n",
       "    }\n",
       "\n",
       "    .dataframe thead th {\n",
       "        text-align: right;\n",
       "    }\n",
       "</style>\n",
       "<table border=\"1\" class=\"dataframe\">\n",
       "  <thead>\n",
       "    <tr style=\"text-align: right;\">\n",
       "      <th></th>\n",
       "      <th>station</th>\n",
       "      <th>% Change Foreign Born</th>\n",
       "    </tr>\n",
       "  </thead>\n",
       "  <tbody>\n",
       "    <tr>\n",
       "      <th>8</th>\n",
       "      <td>East LA Civic Center</td>\n",
       "      <td>-4.862695</td>\n",
       "    </tr>\n",
       "  </tbody>\n",
       "</table>\n",
       "</div>"
      ],
      "text/plain": [
       "                station  % Change Foreign Born\n",
       "8  East LA Civic Center              -4.862695"
      ]
     },
     "execution_count": 8,
     "metadata": {},
     "output_type": "execute_result"
    }
   ],
   "source": [
    "elacc = df[df[\"station\"].isin(['East LA Civic Center']\n",
    ")\n",
    "            ]\n",
    "\n",
    "elacc.reset_index()\n",
    "\n",
    "elacc = elacc.append(elacc.sum(numeric_only=True), ignore_index=True)\n",
    "\n",
    "elacc.iloc[-1, elacc.columns.get_loc('station')] = \"East LA Civic Center\"\n",
    "\n",
    "elacc = elacc.iloc[-1:]\n",
    "\n",
    "elacc['% Change Foreign Born'] = ((elacc['19 Total Foreign Born'] / elacc['19 Total Population']) - (elacc['11 Total Foreign Born'] / elacc['11 Total Population']))*100\n",
    "\n",
    "elacc = elacc[ctk]\n",
    "\n",
    "elacc.head()\n",
    "\n"
   ]
  },
  {
   "cell_type": "code",
   "execution_count": 54,
   "id": "54869b78-1cd5-4c36-b0df-7969db90e2e2",
   "metadata": {},
   "outputs": [
    {
     "data": {
      "text/html": [
       "<div>\n",
       "<style scoped>\n",
       "    .dataframe tbody tr th:only-of-type {\n",
       "        vertical-align: middle;\n",
       "    }\n",
       "\n",
       "    .dataframe tbody tr th {\n",
       "        vertical-align: top;\n",
       "    }\n",
       "\n",
       "    .dataframe thead th {\n",
       "        text-align: right;\n",
       "    }\n",
       "</style>\n",
       "<table border=\"1\" class=\"dataframe\">\n",
       "  <thead>\n",
       "    <tr style=\"text-align: right;\">\n",
       "      <th></th>\n",
       "      <th>station</th>\n",
       "      <th>% Change Foreign Born</th>\n",
       "    </tr>\n",
       "  </thead>\n",
       "  <tbody>\n",
       "    <tr>\n",
       "      <th>14</th>\n",
       "      <td>East LA</td>\n",
       "      <td>0.432542</td>\n",
       "    </tr>\n",
       "  </tbody>\n",
       "</table>\n",
       "</div>"
      ],
      "text/plain": [
       "    station  % Change Foreign Born\n",
       "14  East LA               0.432542"
      ]
     },
     "execution_count": 54,
     "metadata": {},
     "output_type": "execute_result"
    }
   ],
   "source": [
    "eastla = df[df[\"region\"].isin(['East LA']\n",
    ")\n",
    "            ]\n",
    "\n",
    "eastla.reset_index()\n",
    "\n",
    "eastla = eastla.append(eastla.sum(numeric_only=True), ignore_index=True)\n",
    "\n",
    "eastla.iloc[-1, eastla.columns.get_loc('station')] = \"East LA\"\n",
    "\n",
    "eastla = eastla.iloc[-1:]\n",
    "\n",
    "eastla['% Change Foreign Born'] = ((eastla['19 Total Foreign Born'] / eastla['19 Total Population']) - (eastla['11 Total Foreign Born'] / eastla['11 Total Population']))*100\n",
    "\n",
    "eastla = eastla[ctk]\n",
    "\n",
    "eastla.head()\n",
    "\n"
   ]
  },
  {
   "cell_type": "code",
   "execution_count": 10,
   "id": "59cf9193-43a1-419e-80a3-7281cd19e303",
   "metadata": {},
   "outputs": [
    {
     "data": {
      "text/html": [
       "<div>\n",
       "<style scoped>\n",
       "    .dataframe tbody tr th:only-of-type {\n",
       "        vertical-align: middle;\n",
       "    }\n",
       "\n",
       "    .dataframe tbody tr th {\n",
       "        vertical-align: top;\n",
       "    }\n",
       "\n",
       "    .dataframe thead th {\n",
       "        text-align: right;\n",
       "    }\n",
       "</style>\n",
       "<table border=\"1\" class=\"dataframe\">\n",
       "  <thead>\n",
       "    <tr style=\"text-align: right;\">\n",
       "      <th></th>\n",
       "      <th>station</th>\n",
       "      <th>% Change Foreign Born</th>\n",
       "    </tr>\n",
       "  </thead>\n",
       "  <tbody>\n",
       "    <tr>\n",
       "      <th>7</th>\n",
       "      <td>Mariachi</td>\n",
       "      <td>-5.466961</td>\n",
       "    </tr>\n",
       "  </tbody>\n",
       "</table>\n",
       "</div>"
      ],
      "text/plain": [
       "    station  % Change Foreign Born\n",
       "7  Mariachi              -5.466961"
      ]
     },
     "execution_count": 10,
     "metadata": {},
     "output_type": "execute_result"
    }
   ],
   "source": [
    "mplaza = df[df[\"station\"].isin(['Mariachi']\n",
    ")\n",
    "            ]\n",
    "\n",
    "mplaza.reset_index()\n",
    "\n",
    "mplaza = mplaza.append(mplaza.sum(numeric_only=True), ignore_index=True)\n",
    "\n",
    "mplaza.iloc[-1, mplaza.columns.get_loc('station')] = \"Mariachi\"\n",
    "\n",
    "mplaza = mplaza.iloc[-1:]\n",
    "\n",
    "mplaza['% Change Foreign Born'] = ((mplaza['19 Total Foreign Born'] / mplaza['19 Total Population']) - (mplaza['11 Total Foreign Born'] / mplaza['11 Total Population']))*100\n",
    "\n",
    "mplaza = mplaza[ctk]\n",
    "\n",
    "mplaza.head()"
   ]
  },
  {
   "cell_type": "code",
   "execution_count": 55,
   "id": "b6e1286c-409a-41ae-915b-120acc740939",
   "metadata": {},
   "outputs": [
    {
     "data": {
      "text/html": [
       "<div>\n",
       "<style scoped>\n",
       "    .dataframe tbody tr th:only-of-type {\n",
       "        vertical-align: middle;\n",
       "    }\n",
       "\n",
       "    .dataframe tbody tr th {\n",
       "        vertical-align: top;\n",
       "    }\n",
       "\n",
       "    .dataframe thead th {\n",
       "        text-align: right;\n",
       "    }\n",
       "</style>\n",
       "<table border=\"1\" class=\"dataframe\">\n",
       "  <thead>\n",
       "    <tr style=\"text-align: right;\">\n",
       "      <th></th>\n",
       "      <th>station</th>\n",
       "      <th>% Change Foreign Born</th>\n",
       "    </tr>\n",
       "  </thead>\n",
       "  <tbody>\n",
       "    <tr>\n",
       "      <th>60</th>\n",
       "      <td>Central East LA</td>\n",
       "      <td>-4.980569</td>\n",
       "    </tr>\n",
       "  </tbody>\n",
       "</table>\n",
       "</div>"
      ],
      "text/plain": [
       "            station  % Change Foreign Born\n",
       "60  Central East LA              -4.980569"
      ]
     },
     "execution_count": 55,
     "metadata": {},
     "output_type": "execute_result"
    }
   ],
   "source": [
    "cela = df[df[\"region\"].isin(['Central East LA']\n",
    ")\n",
    "            ]\n",
    "\n",
    "cela.reset_index()\n",
    "\n",
    "cela = cela.append(cela.sum(numeric_only=True), ignore_index=True)\n",
    "\n",
    "cela.iloc[-1, cela.columns.get_loc('station')] = \"Central East LA\"\n",
    "\n",
    "cela = cela.iloc[-1:]\n",
    "\n",
    "cela['% Change Foreign Born'] = ((cela['19 Total Foreign Born'] / cela['19 Total Population']) - (cela['11 Total Foreign Born'] / cela['11 Total Population']))*100\n",
    "\n",
    "cela = cela[ctk]\n",
    "\n",
    "cela.head()\n",
    "\n",
    "\n"
   ]
  },
  {
   "cell_type": "code",
   "execution_count": 12,
   "id": "ce3c9cf9-1ba0-41ea-9326-c1b358f31c37",
   "metadata": {},
   "outputs": [
    {
     "data": {
      "text/html": [
       "<div>\n",
       "<style scoped>\n",
       "    .dataframe tbody tr th:only-of-type {\n",
       "        vertical-align: middle;\n",
       "    }\n",
       "\n",
       "    .dataframe tbody tr th {\n",
       "        vertical-align: top;\n",
       "    }\n",
       "\n",
       "    .dataframe thead th {\n",
       "        text-align: right;\n",
       "    }\n",
       "</style>\n",
       "<table border=\"1\" class=\"dataframe\">\n",
       "  <thead>\n",
       "    <tr style=\"text-align: right;\">\n",
       "      <th></th>\n",
       "      <th>station</th>\n",
       "      <th>% Change Foreign Born</th>\n",
       "    </tr>\n",
       "  </thead>\n",
       "  <tbody>\n",
       "    <tr>\n",
       "      <th>4</th>\n",
       "      <td>Chinatown</td>\n",
       "      <td>-7.64756</td>\n",
       "    </tr>\n",
       "  </tbody>\n",
       "</table>\n",
       "</div>"
      ],
      "text/plain": [
       "     station  % Change Foreign Born\n",
       "4  Chinatown               -7.64756"
      ]
     },
     "execution_count": 12,
     "metadata": {},
     "output_type": "execute_result"
    }
   ],
   "source": [
    "ctown = df[df[\"station\"].isin(['Chinatown']\n",
    ")\n",
    "            ]\n",
    "\n",
    "ctown.reset_index()\n",
    "\n",
    "ctown = ctown.append(ctown.sum(numeric_only=True), ignore_index=True)\n",
    "\n",
    "ctown.iloc[-1, ctown.columns.get_loc('station')] = \"Chinatown\"\n",
    "\n",
    "ctown = ctown.iloc[-1:]\n",
    "\n",
    "ctown['% Change Foreign Born'] = ((ctown['19 Total Foreign Born'] / ctown['19 Total Population']) - (ctown['11 Total Foreign Born'] / ctown['11 Total Population']))*100\n",
    "\n",
    "ctown = ctown[ctk]\n",
    "\n",
    "ctown.head()\n",
    "\n"
   ]
  },
  {
   "cell_type": "code",
   "execution_count": 56,
   "id": "338eb294-60c7-4ae0-970c-e67de4193411",
   "metadata": {},
   "outputs": [
    {
     "data": {
      "text/html": [
       "<div>\n",
       "<style scoped>\n",
       "    .dataframe tbody tr th:only-of-type {\n",
       "        vertical-align: middle;\n",
       "    }\n",
       "\n",
       "    .dataframe tbody tr th {\n",
       "        vertical-align: top;\n",
       "    }\n",
       "\n",
       "    .dataframe thead th {\n",
       "        text-align: right;\n",
       "    }\n",
       "</style>\n",
       "<table border=\"1\" class=\"dataframe\">\n",
       "  <thead>\n",
       "    <tr style=\"text-align: right;\">\n",
       "      <th></th>\n",
       "      <th>station</th>\n",
       "      <th>% Change Foreign Born</th>\n",
       "    </tr>\n",
       "  </thead>\n",
       "  <tbody>\n",
       "    <tr>\n",
       "      <th>18</th>\n",
       "      <td>Central LA</td>\n",
       "      <td>-8.214435</td>\n",
       "    </tr>\n",
       "  </tbody>\n",
       "</table>\n",
       "</div>"
      ],
      "text/plain": [
       "       station  % Change Foreign Born\n",
       "18  Central LA              -8.214435"
      ]
     },
     "execution_count": 56,
     "metadata": {},
     "output_type": "execute_result"
    }
   ],
   "source": [
    "cla = df[df[\"region\"].isin(['Central LA']\n",
    ")\n",
    "            ]\n",
    "\n",
    "cla.reset_index()\n",
    "\n",
    "cla = cla.append(cla.sum(numeric_only=True), ignore_index=True)\n",
    "\n",
    "cla.iloc[-1, cla.columns.get_loc('station')] = \"Central LA\"\n",
    "\n",
    "cla = cla.iloc[-1:]\n",
    "\n",
    "cla['% Change Foreign Born'] = ((cla['19 Total Foreign Born'] / cla['19 Total Population']) - (cla['11 Total Foreign Born'] / cla['11 Total Population']))*100\n",
    "\n",
    "cla = cla[ctk]\n",
    "\n",
    "cla.head()\n",
    "\n"
   ]
  },
  {
   "cell_type": "code",
   "execution_count": 14,
   "id": "34757324-f516-4c48-8c02-8f90a7ffdb2e",
   "metadata": {},
   "outputs": [
    {
     "data": {
      "text/html": [
       "<div>\n",
       "<style scoped>\n",
       "    .dataframe tbody tr th:only-of-type {\n",
       "        vertical-align: middle;\n",
       "    }\n",
       "\n",
       "    .dataframe tbody tr th {\n",
       "        vertical-align: top;\n",
       "    }\n",
       "\n",
       "    .dataframe thead th {\n",
       "        text-align: right;\n",
       "    }\n",
       "</style>\n",
       "<table border=\"1\" class=\"dataframe\">\n",
       "  <thead>\n",
       "    <tr style=\"text-align: right;\">\n",
       "      <th></th>\n",
       "      <th>station</th>\n",
       "      <th>% Change Foreign Born</th>\n",
       "    </tr>\n",
       "  </thead>\n",
       "  <tbody>\n",
       "    <tr>\n",
       "      <th>5</th>\n",
       "      <td>Heritage</td>\n",
       "      <td>-2.705435</td>\n",
       "    </tr>\n",
       "  </tbody>\n",
       "</table>\n",
       "</div>"
      ],
      "text/plain": [
       "    station  % Change Foreign Born\n",
       "5  Heritage              -2.705435"
      ]
     },
     "execution_count": 14,
     "metadata": {},
     "output_type": "execute_result"
    }
   ],
   "source": [
    "heritage = df[df[\"station\"].isin(['Heritage']\n",
    ")\n",
    "            ]\n",
    "\n",
    "heritage.reset_index()\n",
    "\n",
    "heritage = heritage.append(heritage.sum(numeric_only=True), ignore_index=True)\n",
    "\n",
    "heritage.iloc[-1, heritage.columns.get_loc('station')] = \"Heritage\"\n",
    "\n",
    "heritage = heritage.iloc[-1:]\n",
    "\n",
    "heritage['% Change Foreign Born'] = ((heritage['19 Total Foreign Born'] / heritage['19 Total Population']) - (heritage['11 Total Foreign Born'] / heritage['11 Total Population']))*100\n",
    "\n",
    "heritage = heritage[ctk]\n",
    "\n",
    "heritage.head()\n",
    "\n"
   ]
  },
  {
   "cell_type": "code",
   "execution_count": 15,
   "id": "32f847de-7803-495d-8a30-f06d6f76d41d",
   "metadata": {},
   "outputs": [
    {
     "data": {
      "text/html": [
       "<div>\n",
       "<style scoped>\n",
       "    .dataframe tbody tr th:only-of-type {\n",
       "        vertical-align: middle;\n",
       "    }\n",
       "\n",
       "    .dataframe tbody tr th {\n",
       "        vertical-align: top;\n",
       "    }\n",
       "\n",
       "    .dataframe thead th {\n",
       "        text-align: right;\n",
       "    }\n",
       "</style>\n",
       "<table border=\"1\" class=\"dataframe\">\n",
       "  <thead>\n",
       "    <tr style=\"text-align: right;\">\n",
       "      <th></th>\n",
       "      <th>station</th>\n",
       "      <th>% Change Foreign Born</th>\n",
       "    </tr>\n",
       "  </thead>\n",
       "  <tbody>\n",
       "    <tr>\n",
       "      <th>7</th>\n",
       "      <td>Highland Park</td>\n",
       "      <td>-6.965553</td>\n",
       "    </tr>\n",
       "  </tbody>\n",
       "</table>\n",
       "</div>"
      ],
      "text/plain": [
       "         station  % Change Foreign Born\n",
       "7  Highland Park              -6.965553"
      ]
     },
     "execution_count": 15,
     "metadata": {},
     "output_type": "execute_result"
    }
   ],
   "source": [
    "hlp = df[df[\"station\"].isin([\"Highland Park\"]\n",
    ")\n",
    "            ]\n",
    "\n",
    "hlp.reset_index()\n",
    "\n",
    "hlp = hlp.append(hlp.sum(numeric_only=True), ignore_index=True)\n",
    "\n",
    "hlp.iloc[-1, hlp.columns.get_loc('station')] = \"Highland Park\"\n",
    "\n",
    "hlp = hlp.iloc[-1:]\n",
    "\n",
    "hlp['% Change Foreign Born'] = ((hlp['19 Total Foreign Born'] / hlp['19 Total Population']) - (hlp['11 Total Foreign Born'] / hlp['11 Total Population']))*100\n",
    "\n",
    "hlp = hlp[ctk]\n",
    "\n",
    "hlp.head()\n",
    "\n"
   ]
  },
  {
   "cell_type": "code",
   "execution_count": 57,
   "id": "846a68ba-3622-43f8-b5fb-75caf5092995",
   "metadata": {},
   "outputs": [
    {
     "data": {
      "text/html": [
       "<div>\n",
       "<style scoped>\n",
       "    .dataframe tbody tr th:only-of-type {\n",
       "        vertical-align: middle;\n",
       "    }\n",
       "\n",
       "    .dataframe tbody tr th {\n",
       "        vertical-align: top;\n",
       "    }\n",
       "\n",
       "    .dataframe thead th {\n",
       "        text-align: right;\n",
       "    }\n",
       "</style>\n",
       "<table border=\"1\" class=\"dataframe\">\n",
       "  <thead>\n",
       "    <tr style=\"text-align: right;\">\n",
       "      <th></th>\n",
       "      <th>station</th>\n",
       "      <th>% Change Foreign Born</th>\n",
       "    </tr>\n",
       "  </thead>\n",
       "  <tbody>\n",
       "    <tr>\n",
       "      <th>56</th>\n",
       "      <td>NELA</td>\n",
       "      <td>-4.815682</td>\n",
       "    </tr>\n",
       "  </tbody>\n",
       "</table>\n",
       "</div>"
      ],
      "text/plain": [
       "   station  % Change Foreign Born\n",
       "56    NELA              -4.815682"
      ]
     },
     "execution_count": 57,
     "metadata": {},
     "output_type": "execute_result"
    }
   ],
   "source": [
    "NELA = df[df[\"region\"].isin(['NELA']\n",
    ")\n",
    "            ]\n",
    "\n",
    "NELA.reset_index()\n",
    "\n",
    "NELA = NELA.append(NELA.sum(numeric_only=True), ignore_index=True)\n",
    "\n",
    "NELA.iloc[-1, NELA.columns.get_loc('station')] = \"NELA\"\n",
    "\n",
    "NELA = NELA.iloc[-1:]\n",
    "\n",
    "NELA['% Change Foreign Born'] = ((NELA['19 Total Foreign Born'] / NELA['19 Total Population']) - (NELA['11 Total Foreign Born'] / NELA['11 Total Population']))*100\n",
    "\n",
    "NELA = NELA[ctk]\n",
    "\n",
    "NELA.head()\n",
    "\n"
   ]
  },
  {
   "cell_type": "code",
   "execution_count": 17,
   "id": "9dff677c-025b-4fef-bf79-cb617285e274",
   "metadata": {},
   "outputs": [
    {
     "data": {
      "text/html": [
       "<div>\n",
       "<style scoped>\n",
       "    .dataframe tbody tr th:only-of-type {\n",
       "        vertical-align: middle;\n",
       "    }\n",
       "\n",
       "    .dataframe tbody tr th {\n",
       "        vertical-align: top;\n",
       "    }\n",
       "\n",
       "    .dataframe thead th {\n",
       "        text-align: right;\n",
       "    }\n",
       "</style>\n",
       "<table border=\"1\" class=\"dataframe\">\n",
       "  <thead>\n",
       "    <tr style=\"text-align: right;\">\n",
       "      <th></th>\n",
       "      <th>station</th>\n",
       "      <th>% Change Foreign Born</th>\n",
       "    </tr>\n",
       "  </thead>\n",
       "  <tbody>\n",
       "    <tr>\n",
       "      <th>3</th>\n",
       "      <td>Del Mar</td>\n",
       "      <td>2.267495</td>\n",
       "    </tr>\n",
       "  </tbody>\n",
       "</table>\n",
       "</div>"
      ],
      "text/plain": [
       "   station  % Change Foreign Born\n",
       "3  Del Mar               2.267495"
      ]
     },
     "execution_count": 17,
     "metadata": {},
     "output_type": "execute_result"
    }
   ],
   "source": [
    "dmar = df[df[\"station\"].isin([\"Del Mar\"]\n",
    ")\n",
    "            ]\n",
    "\n",
    "dmar.reset_index()\n",
    "\n",
    "dmar = dmar.append(dmar.sum(numeric_only=True), ignore_index=True)\n",
    "\n",
    "dmar.iloc[-1, dmar.columns.get_loc('station')] = \"Del Mar\"\n",
    "\n",
    "dmar = dmar.iloc[-1:]\n",
    "\n",
    "dmar['% Change Foreign Born'] = ((dmar['19 Total Foreign Born'] / dmar['19 Total Population']) - (dmar['11 Total Foreign Born'] / dmar['11 Total Population']))*100\n",
    "\n",
    "dmar = dmar[ctk]\n",
    "\n",
    "dmar.head()\n",
    "\n"
   ]
  },
  {
   "cell_type": "code",
   "execution_count": 58,
   "id": "3a1fb001-b213-4313-ba4a-5f070c9d691f",
   "metadata": {},
   "outputs": [
    {
     "data": {
      "text/html": [
       "<div>\n",
       "<style scoped>\n",
       "    .dataframe tbody tr th:only-of-type {\n",
       "        vertical-align: middle;\n",
       "    }\n",
       "\n",
       "    .dataframe tbody tr th {\n",
       "        vertical-align: top;\n",
       "    }\n",
       "\n",
       "    .dataframe thead th {\n",
       "        text-align: right;\n",
       "    }\n",
       "</style>\n",
       "<table border=\"1\" class=\"dataframe\">\n",
       "  <thead>\n",
       "    <tr style=\"text-align: right;\">\n",
       "      <th></th>\n",
       "      <th>station</th>\n",
       "      <th>% Change Foreign Born</th>\n",
       "    </tr>\n",
       "  </thead>\n",
       "  <tbody>\n",
       "    <tr>\n",
       "      <th>33</th>\n",
       "      <td>Pasadena</td>\n",
       "      <td>-1.570334</td>\n",
       "    </tr>\n",
       "  </tbody>\n",
       "</table>\n",
       "</div>"
      ],
      "text/plain": [
       "     station  % Change Foreign Born\n",
       "33  Pasadena              -1.570334"
      ]
     },
     "execution_count": 58,
     "metadata": {},
     "output_type": "execute_result"
    }
   ],
   "source": [
    "pas = df[df[\"region\"].isin([\"Pasadena\"]\n",
    ")\n",
    "            ]\n",
    "\n",
    "pas.reset_index()\n",
    "\n",
    "pas = pas.append(pas.sum(numeric_only=True), ignore_index=True)\n",
    "\n",
    "pas.iloc[-1, pas.columns.get_loc('station')] = \"Pasadena\"\n",
    "\n",
    "pas = pas.iloc[-1:]\n",
    "\n",
    "pas['% Change Foreign Born'] = ((pas['19 Total Foreign Born'] / pas['19 Total Population']) - (pas['11 Total Foreign Born'] / pas['11 Total Population']))*100\n",
    "\n",
    "pas = pas[ctk]\n",
    "\n",
    "pas.head()\n"
   ]
  },
  {
   "cell_type": "code",
   "execution_count": 19,
   "id": "8f3f35bd-4b8e-4a46-a4ce-c04c56222de3",
   "metadata": {},
   "outputs": [
    {
     "data": {
      "text/html": [
       "<div>\n",
       "<style scoped>\n",
       "    .dataframe tbody tr th:only-of-type {\n",
       "        vertical-align: middle;\n",
       "    }\n",
       "\n",
       "    .dataframe tbody tr th {\n",
       "        vertical-align: top;\n",
       "    }\n",
       "\n",
       "    .dataframe thead th {\n",
       "        text-align: right;\n",
       "    }\n",
       "</style>\n",
       "<table border=\"1\" class=\"dataframe\">\n",
       "  <thead>\n",
       "    <tr style=\"text-align: right;\">\n",
       "      <th></th>\n",
       "      <th>station</th>\n",
       "      <th>% Change Foreign Born</th>\n",
       "    </tr>\n",
       "  </thead>\n",
       "  <tbody>\n",
       "    <tr>\n",
       "      <th>3</th>\n",
       "      <td>Arcadia</td>\n",
       "      <td>0.713924</td>\n",
       "    </tr>\n",
       "  </tbody>\n",
       "</table>\n",
       "</div>"
      ],
      "text/plain": [
       "   station  % Change Foreign Born\n",
       "3  Arcadia               0.713924"
      ]
     },
     "execution_count": 19,
     "metadata": {},
     "output_type": "execute_result"
    }
   ],
   "source": [
    "arc = df[df[\"station\"].isin([\"Arcadia\"]\n",
    ")\n",
    "            ]\n",
    "\n",
    "arc.reset_index()\n",
    "\n",
    "arc = arc.append(arc.sum(numeric_only=True), ignore_index=True)\n",
    "\n",
    "arc.iloc[-1, arc.columns.get_loc('station')] = \"Arcadia\"\n",
    "\n",
    "arc = arc.iloc[-1:]\n",
    "\n",
    "arc['% Change Foreign Born'] = ((arc['19 Total Foreign Born'] / arc['19 Total Population']) - (arc['11 Total Foreign Born'] / arc['11 Total Population']))*100\n",
    "\n",
    "arc = arc[ctk]\n",
    "\n",
    "arc.head()\n",
    "\n"
   ]
  },
  {
   "cell_type": "code",
   "execution_count": 59,
   "id": "96f06191-20ea-4d0d-9938-94744b5353c3",
   "metadata": {},
   "outputs": [],
   "source": [
    "sgv = df[df[\"region\"].isin([\"San Gabriel Valley\"]\n",
    ")\n",
    "            ]"
   ]
  },
  {
   "cell_type": "code",
   "execution_count": 60,
   "id": "22c12c02-3251-4264-9914-c03d0a6a7bbe",
   "metadata": {},
   "outputs": [
    {
     "data": {
      "text/html": [
       "<div>\n",
       "<style scoped>\n",
       "    .dataframe tbody tr th:only-of-type {\n",
       "        vertical-align: middle;\n",
       "    }\n",
       "\n",
       "    .dataframe tbody tr th {\n",
       "        vertical-align: top;\n",
       "    }\n",
       "\n",
       "    .dataframe thead th {\n",
       "        text-align: right;\n",
       "    }\n",
       "</style>\n",
       "<table border=\"1\" class=\"dataframe\">\n",
       "  <thead>\n",
       "    <tr style=\"text-align: right;\">\n",
       "      <th></th>\n",
       "      <th>FIPS</th>\n",
       "      <th>Census Tract</th>\n",
       "      <th>11 Total Population</th>\n",
       "      <th>11 Total Foreign Born</th>\n",
       "      <th>11 Total Entered 2000 or later</th>\n",
       "      <th>11 Europe</th>\n",
       "      <th>11 Europe Entered 2000 or later</th>\n",
       "      <th>11 Asia</th>\n",
       "      <th>11 Asia Entered 2000 or later</th>\n",
       "      <th>11 Latin America</th>\n",
       "      <th>11 Caribbean</th>\n",
       "      <th>11 Caribbean Entered 2000 or later</th>\n",
       "      <th>11 Central America</th>\n",
       "      <th>11 Mexico</th>\n",
       "      <th>11 Mexico Entered 2000 or later</th>\n",
       "      <th>11 Other Central America</th>\n",
       "      <th>11 Other Central America 2000 or later</th>\n",
       "      <th>11 South America</th>\n",
       "      <th>11 South America Entered 2000 or later</th>\n",
       "      <th>11 Other areas</th>\n",
       "      <th>11 Other areas Entered 2000 or later</th>\n",
       "      <th>19 Total Population</th>\n",
       "      <th>19 Total Foreign Born</th>\n",
       "      <th>19 Total Entered 2010 or later</th>\n",
       "      <th>19 Europe</th>\n",
       "      <th>19 Europe Entered 2010 or later</th>\n",
       "      <th>19 Asia</th>\n",
       "      <th>19 Asia Entered 2010 or later</th>\n",
       "      <th>19 Latin America</th>\n",
       "      <th>19 Caribbean</th>\n",
       "      <th>19 Caribbean entered 2010 or later</th>\n",
       "      <th>19 Central America</th>\n",
       "      <th>19 Mexico</th>\n",
       "      <th>19 Mexico Entered 2010 or later</th>\n",
       "      <th>19 Other Central America</th>\n",
       "      <th>19 Other Central America Entered 2010 or later</th>\n",
       "      <th>19 South America</th>\n",
       "      <th>19 South America Entered 2010 or later</th>\n",
       "      <th>19 Other Areas</th>\n",
       "      <th>19 Other Areas Entered 2010 or later</th>\n",
       "      <th>% Change Foreign Born</th>\n",
       "      <th>region</th>\n",
       "      <th>station</th>\n",
       "      <th>geometry</th>\n",
       "    </tr>\n",
       "  </thead>\n",
       "  <tbody>\n",
       "    <tr>\n",
       "      <th>105</th>\n",
       "      <td>06037430301</td>\n",
       "      <td>Census Tract 4303.01, Los Angeles, CA</td>\n",
       "      <td>4177.0</td>\n",
       "      <td>631.0</td>\n",
       "      <td>50.0</td>\n",
       "      <td>214.0</td>\n",
       "      <td>13.0</td>\n",
       "      <td>111.0</td>\n",
       "      <td>28.0</td>\n",
       "      <td>282.0</td>\n",
       "      <td>46.0</td>\n",
       "      <td>0.0</td>\n",
       "      <td>209.0</td>\n",
       "      <td>133.0</td>\n",
       "      <td>9.0</td>\n",
       "      <td>76.0</td>\n",
       "      <td>0.0</td>\n",
       "      <td>27.0</td>\n",
       "      <td>0.0</td>\n",
       "      <td>24.0</td>\n",
       "      <td>0.0</td>\n",
       "      <td>4319.0</td>\n",
       "      <td>690.0</td>\n",
       "      <td>64.0</td>\n",
       "      <td>111.0</td>\n",
       "      <td>18.0</td>\n",
       "      <td>424.0</td>\n",
       "      <td>39.0</td>\n",
       "      <td>119.0</td>\n",
       "      <td>24.0</td>\n",
       "      <td>0.0</td>\n",
       "      <td>66.0</td>\n",
       "      <td>44.0</td>\n",
       "      <td>0.0</td>\n",
       "      <td>22.0</td>\n",
       "      <td>7.0</td>\n",
       "      <td>29.0</td>\n",
       "      <td>0.0</td>\n",
       "      <td>36.0</td>\n",
       "      <td>0.0</td>\n",
       "      <td>0.869385</td>\n",
       "      <td>San Gabriel Valley</td>\n",
       "      <td>None</td>\n",
       "      <td>MULTIPOLYGON (((-118.02191 34.15705, -118.0212...</td>\n",
       "    </tr>\n",
       "    <tr>\n",
       "      <th>106</th>\n",
       "      <td>06037430302</td>\n",
       "      <td>Census Tract 4303.02, Los Angeles, CA</td>\n",
       "      <td>5767.0</td>\n",
       "      <td>633.0</td>\n",
       "      <td>69.0</td>\n",
       "      <td>107.0</td>\n",
       "      <td>0.0</td>\n",
       "      <td>253.0</td>\n",
       "      <td>69.0</td>\n",
       "      <td>207.0</td>\n",
       "      <td>14.0</td>\n",
       "      <td>0.0</td>\n",
       "      <td>140.0</td>\n",
       "      <td>140.0</td>\n",
       "      <td>0.0</td>\n",
       "      <td>0.0</td>\n",
       "      <td>0.0</td>\n",
       "      <td>53.0</td>\n",
       "      <td>0.0</td>\n",
       "      <td>66.0</td>\n",
       "      <td>0.0</td>\n",
       "      <td>5339.0</td>\n",
       "      <td>805.0</td>\n",
       "      <td>109.0</td>\n",
       "      <td>108.0</td>\n",
       "      <td>0.0</td>\n",
       "      <td>352.0</td>\n",
       "      <td>109.0</td>\n",
       "      <td>249.0</td>\n",
       "      <td>9.0</td>\n",
       "      <td>0.0</td>\n",
       "      <td>238.0</td>\n",
       "      <td>159.0</td>\n",
       "      <td>0.0</td>\n",
       "      <td>79.0</td>\n",
       "      <td>0.0</td>\n",
       "      <td>2.0</td>\n",
       "      <td>0.0</td>\n",
       "      <td>96.0</td>\n",
       "      <td>0.0</td>\n",
       "      <td>4.101486</td>\n",
       "      <td>San Gabriel Valley</td>\n",
       "      <td>None</td>\n",
       "      <td>MULTIPOLYGON (((-118.02123 34.15454, -118.0212...</td>\n",
       "    </tr>\n",
       "    <tr>\n",
       "      <th>107</th>\n",
       "      <td>06037430400</td>\n",
       "      <td>Census Tract 4304, Los Angeles, CA</td>\n",
       "      <td>4877.0</td>\n",
       "      <td>2002.0</td>\n",
       "      <td>295.0</td>\n",
       "      <td>79.0</td>\n",
       "      <td>59.0</td>\n",
       "      <td>1683.0</td>\n",
       "      <td>222.0</td>\n",
       "      <td>206.0</td>\n",
       "      <td>30.0</td>\n",
       "      <td>14.0</td>\n",
       "      <td>102.0</td>\n",
       "      <td>76.0</td>\n",
       "      <td>0.0</td>\n",
       "      <td>26.0</td>\n",
       "      <td>0.0</td>\n",
       "      <td>74.0</td>\n",
       "      <td>0.0</td>\n",
       "      <td>34.0</td>\n",
       "      <td>0.0</td>\n",
       "      <td>4642.0</td>\n",
       "      <td>2167.0</td>\n",
       "      <td>408.0</td>\n",
       "      <td>73.0</td>\n",
       "      <td>12.0</td>\n",
       "      <td>1974.0</td>\n",
       "      <td>389.0</td>\n",
       "      <td>103.0</td>\n",
       "      <td>54.0</td>\n",
       "      <td>0.0</td>\n",
       "      <td>25.0</td>\n",
       "      <td>25.0</td>\n",
       "      <td>0.0</td>\n",
       "      <td>0.0</td>\n",
       "      <td>0.0</td>\n",
       "      <td>24.0</td>\n",
       "      <td>0.0</td>\n",
       "      <td>17.0</td>\n",
       "      <td>7.0</td>\n",
       "      <td>5.632639</td>\n",
       "      <td>San Gabriel Valley</td>\n",
       "      <td>Arcadia</td>\n",
       "      <td>MULTIPOLYGON (((-118.03194 34.16693, -118.0318...</td>\n",
       "    </tr>\n",
       "    <tr>\n",
       "      <th>108</th>\n",
       "      <td>06037430600</td>\n",
       "      <td>Census Tract 4306, Los Angeles, CA</td>\n",
       "      <td>4420.0</td>\n",
       "      <td>1528.0</td>\n",
       "      <td>157.0</td>\n",
       "      <td>161.0</td>\n",
       "      <td>0.0</td>\n",
       "      <td>1177.0</td>\n",
       "      <td>119.0</td>\n",
       "      <td>88.0</td>\n",
       "      <td>20.0</td>\n",
       "      <td>0.0</td>\n",
       "      <td>23.0</td>\n",
       "      <td>23.0</td>\n",
       "      <td>0.0</td>\n",
       "      <td>0.0</td>\n",
       "      <td>0.0</td>\n",
       "      <td>45.0</td>\n",
       "      <td>0.0</td>\n",
       "      <td>102.0</td>\n",
       "      <td>38.0</td>\n",
       "      <td>4553.0</td>\n",
       "      <td>1796.0</td>\n",
       "      <td>239.0</td>\n",
       "      <td>60.0</td>\n",
       "      <td>11.0</td>\n",
       "      <td>1662.0</td>\n",
       "      <td>228.0</td>\n",
       "      <td>0.0</td>\n",
       "      <td>0.0</td>\n",
       "      <td>0.0</td>\n",
       "      <td>0.0</td>\n",
       "      <td>0.0</td>\n",
       "      <td>0.0</td>\n",
       "      <td>0.0</td>\n",
       "      <td>0.0</td>\n",
       "      <td>0.0</td>\n",
       "      <td>0.0</td>\n",
       "      <td>74.0</td>\n",
       "      <td>0.0</td>\n",
       "      <td>4.876383</td>\n",
       "      <td>San Gabriel Valley</td>\n",
       "      <td>None</td>\n",
       "      <td>MULTIPOLYGON (((-118.06796 34.15682, -118.0678...</td>\n",
       "    </tr>\n",
       "    <tr>\n",
       "      <th>109</th>\n",
       "      <td>06037430701</td>\n",
       "      <td>Census Tract 4307.01, Los Angeles, CA</td>\n",
       "      <td>5363.0</td>\n",
       "      <td>2132.0</td>\n",
       "      <td>563.0</td>\n",
       "      <td>175.0</td>\n",
       "      <td>55.0</td>\n",
       "      <td>1784.0</td>\n",
       "      <td>480.0</td>\n",
       "      <td>112.0</td>\n",
       "      <td>20.0</td>\n",
       "      <td>0.0</td>\n",
       "      <td>49.0</td>\n",
       "      <td>49.0</td>\n",
       "      <td>0.0</td>\n",
       "      <td>0.0</td>\n",
       "      <td>0.0</td>\n",
       "      <td>43.0</td>\n",
       "      <td>15.0</td>\n",
       "      <td>61.0</td>\n",
       "      <td>13.0</td>\n",
       "      <td>5846.0</td>\n",
       "      <td>2414.0</td>\n",
       "      <td>853.0</td>\n",
       "      <td>71.0</td>\n",
       "      <td>40.0</td>\n",
       "      <td>2144.0</td>\n",
       "      <td>779.0</td>\n",
       "      <td>143.0</td>\n",
       "      <td>11.0</td>\n",
       "      <td>0.0</td>\n",
       "      <td>47.0</td>\n",
       "      <td>11.0</td>\n",
       "      <td>0.0</td>\n",
       "      <td>36.0</td>\n",
       "      <td>0.0</td>\n",
       "      <td>85.0</td>\n",
       "      <td>34.0</td>\n",
       "      <td>56.0</td>\n",
       "      <td>0.0</td>\n",
       "      <td>1.539323</td>\n",
       "      <td>San Gabriel Valley</td>\n",
       "      <td>None</td>\n",
       "      <td>MULTIPOLYGON (((-118.06921 34.13106, -118.0691...</td>\n",
       "    </tr>\n",
       "  </tbody>\n",
       "</table>\n",
       "</div>"
      ],
      "text/plain": [
       "            FIPS                           Census Tract  11 Total Population  \\\n",
       "105  06037430301  Census Tract 4303.01, Los Angeles, CA               4177.0   \n",
       "106  06037430302  Census Tract 4303.02, Los Angeles, CA               5767.0   \n",
       "107  06037430400     Census Tract 4304, Los Angeles, CA               4877.0   \n",
       "108  06037430600     Census Tract 4306, Los Angeles, CA               4420.0   \n",
       "109  06037430701  Census Tract 4307.01, Los Angeles, CA               5363.0   \n",
       "\n",
       "     11 Total Foreign Born  11 Total Entered 2000 or later  11 Europe  \\\n",
       "105                  631.0                            50.0      214.0   \n",
       "106                  633.0                            69.0      107.0   \n",
       "107                 2002.0                           295.0       79.0   \n",
       "108                 1528.0                           157.0      161.0   \n",
       "109                 2132.0                           563.0      175.0   \n",
       "\n",
       "     11 Europe Entered 2000 or later  11 Asia  11 Asia Entered 2000 or later  \\\n",
       "105                             13.0    111.0                           28.0   \n",
       "106                              0.0    253.0                           69.0   \n",
       "107                             59.0   1683.0                          222.0   \n",
       "108                              0.0   1177.0                          119.0   \n",
       "109                             55.0   1784.0                          480.0   \n",
       "\n",
       "     11 Latin America  11 Caribbean  11 Caribbean Entered 2000 or later  \\\n",
       "105             282.0          46.0                                 0.0   \n",
       "106             207.0          14.0                                 0.0   \n",
       "107             206.0          30.0                                14.0   \n",
       "108              88.0          20.0                                 0.0   \n",
       "109             112.0          20.0                                 0.0   \n",
       "\n",
       "     11 Central America  11 Mexico  11 Mexico Entered 2000 or later  \\\n",
       "105               209.0      133.0                              9.0   \n",
       "106               140.0      140.0                              0.0   \n",
       "107               102.0       76.0                              0.0   \n",
       "108                23.0       23.0                              0.0   \n",
       "109                49.0       49.0                              0.0   \n",
       "\n",
       "     11 Other Central America  11 Other Central America 2000 or later  \\\n",
       "105                      76.0                                     0.0   \n",
       "106                       0.0                                     0.0   \n",
       "107                      26.0                                     0.0   \n",
       "108                       0.0                                     0.0   \n",
       "109                       0.0                                     0.0   \n",
       "\n",
       "     11 South America  11 South America Entered 2000 or later  11 Other areas  \\\n",
       "105              27.0                                     0.0            24.0   \n",
       "106              53.0                                     0.0            66.0   \n",
       "107              74.0                                     0.0            34.0   \n",
       "108              45.0                                     0.0           102.0   \n",
       "109              43.0                                    15.0            61.0   \n",
       "\n",
       "     11 Other areas Entered 2000 or later  19 Total Population  \\\n",
       "105                                   0.0               4319.0   \n",
       "106                                   0.0               5339.0   \n",
       "107                                   0.0               4642.0   \n",
       "108                                  38.0               4553.0   \n",
       "109                                  13.0               5846.0   \n",
       "\n",
       "     19 Total Foreign Born  19 Total Entered 2010 or later  19 Europe  \\\n",
       "105                  690.0                            64.0      111.0   \n",
       "106                  805.0                           109.0      108.0   \n",
       "107                 2167.0                           408.0       73.0   \n",
       "108                 1796.0                           239.0       60.0   \n",
       "109                 2414.0                           853.0       71.0   \n",
       "\n",
       "     19 Europe Entered 2010 or later  19 Asia  19 Asia Entered 2010 or later  \\\n",
       "105                             18.0    424.0                           39.0   \n",
       "106                              0.0    352.0                          109.0   \n",
       "107                             12.0   1974.0                          389.0   \n",
       "108                             11.0   1662.0                          228.0   \n",
       "109                             40.0   2144.0                          779.0   \n",
       "\n",
       "     19 Latin America  19 Caribbean  19 Caribbean entered 2010 or later  \\\n",
       "105             119.0          24.0                                 0.0   \n",
       "106             249.0           9.0                                 0.0   \n",
       "107             103.0          54.0                                 0.0   \n",
       "108               0.0           0.0                                 0.0   \n",
       "109             143.0          11.0                                 0.0   \n",
       "\n",
       "     19 Central America  19 Mexico  19 Mexico Entered 2010 or later  \\\n",
       "105                66.0       44.0                              0.0   \n",
       "106               238.0      159.0                              0.0   \n",
       "107                25.0       25.0                              0.0   \n",
       "108                 0.0        0.0                              0.0   \n",
       "109                47.0       11.0                              0.0   \n",
       "\n",
       "     19 Other Central America  19 Other Central America Entered 2010 or later  \\\n",
       "105                      22.0                                             7.0   \n",
       "106                      79.0                                             0.0   \n",
       "107                       0.0                                             0.0   \n",
       "108                       0.0                                             0.0   \n",
       "109                      36.0                                             0.0   \n",
       "\n",
       "     19 South America  19 South America Entered 2010 or later  19 Other Areas  \\\n",
       "105              29.0                                     0.0            36.0   \n",
       "106               2.0                                     0.0            96.0   \n",
       "107              24.0                                     0.0            17.0   \n",
       "108               0.0                                     0.0            74.0   \n",
       "109              85.0                                    34.0            56.0   \n",
       "\n",
       "     19 Other Areas Entered 2010 or later  % Change Foreign Born  \\\n",
       "105                                   0.0               0.869385   \n",
       "106                                   0.0               4.101486   \n",
       "107                                   7.0               5.632639   \n",
       "108                                   0.0               4.876383   \n",
       "109                                   0.0               1.539323   \n",
       "\n",
       "                 region  station  \\\n",
       "105  San Gabriel Valley     None   \n",
       "106  San Gabriel Valley     None   \n",
       "107  San Gabriel Valley  Arcadia   \n",
       "108  San Gabriel Valley     None   \n",
       "109  San Gabriel Valley     None   \n",
       "\n",
       "                                              geometry  \n",
       "105  MULTIPOLYGON (((-118.02191 34.15705, -118.0212...  \n",
       "106  MULTIPOLYGON (((-118.02123 34.15454, -118.0212...  \n",
       "107  MULTIPOLYGON (((-118.03194 34.16693, -118.0318...  \n",
       "108  MULTIPOLYGON (((-118.06796 34.15682, -118.0678...  \n",
       "109  MULTIPOLYGON (((-118.06921 34.13106, -118.0691...  "
      ]
     },
     "execution_count": 60,
     "metadata": {},
     "output_type": "execute_result"
    }
   ],
   "source": [
    "sgv.head()"
   ]
  },
  {
   "cell_type": "code",
   "execution_count": 61,
   "id": "8a4f1a16-9da4-40ba-befe-7b07e8829134",
   "metadata": {},
   "outputs": [],
   "source": [
    "sgv.reset_index()\n",
    "\n",
    "sgv = sgv.append(sgv.sum(numeric_only=True), ignore_index=True)"
   ]
  },
  {
   "cell_type": "code",
   "execution_count": 62,
   "id": "1b13b0a0-9dfc-484a-b59b-9d4c164e2be6",
   "metadata": {},
   "outputs": [
    {
     "data": {
      "text/html": [
       "<div>\n",
       "<style scoped>\n",
       "    .dataframe tbody tr th:only-of-type {\n",
       "        vertical-align: middle;\n",
       "    }\n",
       "\n",
       "    .dataframe tbody tr th {\n",
       "        vertical-align: top;\n",
       "    }\n",
       "\n",
       "    .dataframe thead th {\n",
       "        text-align: right;\n",
       "    }\n",
       "</style>\n",
       "<table border=\"1\" class=\"dataframe\">\n",
       "  <thead>\n",
       "    <tr style=\"text-align: right;\">\n",
       "      <th></th>\n",
       "      <th>FIPS</th>\n",
       "      <th>Census Tract</th>\n",
       "      <th>11 Total Population</th>\n",
       "      <th>11 Total Foreign Born</th>\n",
       "      <th>11 Total Entered 2000 or later</th>\n",
       "      <th>11 Europe</th>\n",
       "      <th>11 Europe Entered 2000 or later</th>\n",
       "      <th>11 Asia</th>\n",
       "      <th>11 Asia Entered 2000 or later</th>\n",
       "      <th>11 Latin America</th>\n",
       "      <th>11 Caribbean</th>\n",
       "      <th>11 Caribbean Entered 2000 or later</th>\n",
       "      <th>11 Central America</th>\n",
       "      <th>11 Mexico</th>\n",
       "      <th>11 Mexico Entered 2000 or later</th>\n",
       "      <th>11 Other Central America</th>\n",
       "      <th>11 Other Central America 2000 or later</th>\n",
       "      <th>11 South America</th>\n",
       "      <th>11 South America Entered 2000 or later</th>\n",
       "      <th>11 Other areas</th>\n",
       "      <th>11 Other areas Entered 2000 or later</th>\n",
       "      <th>19 Total Population</th>\n",
       "      <th>19 Total Foreign Born</th>\n",
       "      <th>19 Total Entered 2010 or later</th>\n",
       "      <th>19 Europe</th>\n",
       "      <th>19 Europe Entered 2010 or later</th>\n",
       "      <th>19 Asia</th>\n",
       "      <th>19 Asia Entered 2010 or later</th>\n",
       "      <th>19 Latin America</th>\n",
       "      <th>19 Caribbean</th>\n",
       "      <th>19 Caribbean entered 2010 or later</th>\n",
       "      <th>19 Central America</th>\n",
       "      <th>19 Mexico</th>\n",
       "      <th>19 Mexico Entered 2010 or later</th>\n",
       "      <th>19 Other Central America</th>\n",
       "      <th>19 Other Central America Entered 2010 or later</th>\n",
       "      <th>19 South America</th>\n",
       "      <th>19 South America Entered 2010 or later</th>\n",
       "      <th>19 Other Areas</th>\n",
       "      <th>19 Other Areas Entered 2010 or later</th>\n",
       "      <th>% Change Foreign Born</th>\n",
       "      <th>region</th>\n",
       "      <th>station</th>\n",
       "      <th>geometry</th>\n",
       "    </tr>\n",
       "  </thead>\n",
       "  <tbody>\n",
       "    <tr>\n",
       "      <th>27</th>\n",
       "      <td>06037480101</td>\n",
       "      <td>Census Tract 4801.01, Los Angeles, CA</td>\n",
       "      <td>4060.0</td>\n",
       "      <td>1870.0</td>\n",
       "      <td>364.0</td>\n",
       "      <td>0.0</td>\n",
       "      <td>0.0</td>\n",
       "      <td>1824.0</td>\n",
       "      <td>364.0</td>\n",
       "      <td>46.0</td>\n",
       "      <td>0.0</td>\n",
       "      <td>0.0</td>\n",
       "      <td>46.0</td>\n",
       "      <td>46.0</td>\n",
       "      <td>0.0</td>\n",
       "      <td>0.0</td>\n",
       "      <td>0.0</td>\n",
       "      <td>0.0</td>\n",
       "      <td>0.0</td>\n",
       "      <td>0.0</td>\n",
       "      <td>0.0</td>\n",
       "      <td>3731.0</td>\n",
       "      <td>2089.0</td>\n",
       "      <td>574.0</td>\n",
       "      <td>22.0</td>\n",
       "      <td>0.0</td>\n",
       "      <td>2035.0</td>\n",
       "      <td>574.0</td>\n",
       "      <td>32.0</td>\n",
       "      <td>10.0</td>\n",
       "      <td>0.0</td>\n",
       "      <td>22.0</td>\n",
       "      <td>0.0</td>\n",
       "      <td>0.0</td>\n",
       "      <td>22.0</td>\n",
       "      <td>0.0</td>\n",
       "      <td>0.0</td>\n",
       "      <td>0.0</td>\n",
       "      <td>0.0</td>\n",
       "      <td>0.0</td>\n",
       "      <td>9.931238</td>\n",
       "      <td>San Gabriel Valley</td>\n",
       "      <td>None</td>\n",
       "      <td>MULTIPOLYGON (((-118.08046 34.11352, -118.0803...</td>\n",
       "    </tr>\n",
       "    <tr>\n",
       "      <th>28</th>\n",
       "      <td>06037480102</td>\n",
       "      <td>Census Tract 4801.02, Los Angeles, CA</td>\n",
       "      <td>4096.0</td>\n",
       "      <td>1903.0</td>\n",
       "      <td>403.0</td>\n",
       "      <td>19.0</td>\n",
       "      <td>0.0</td>\n",
       "      <td>1567.0</td>\n",
       "      <td>353.0</td>\n",
       "      <td>297.0</td>\n",
       "      <td>26.0</td>\n",
       "      <td>1.0</td>\n",
       "      <td>214.0</td>\n",
       "      <td>194.0</td>\n",
       "      <td>18.0</td>\n",
       "      <td>20.0</td>\n",
       "      <td>0.0</td>\n",
       "      <td>57.0</td>\n",
       "      <td>31.0</td>\n",
       "      <td>20.0</td>\n",
       "      <td>0.0</td>\n",
       "      <td>4487.0</td>\n",
       "      <td>1970.0</td>\n",
       "      <td>246.0</td>\n",
       "      <td>70.0</td>\n",
       "      <td>10.0</td>\n",
       "      <td>1672.0</td>\n",
       "      <td>229.0</td>\n",
       "      <td>174.0</td>\n",
       "      <td>28.0</td>\n",
       "      <td>0.0</td>\n",
       "      <td>113.0</td>\n",
       "      <td>95.0</td>\n",
       "      <td>0.0</td>\n",
       "      <td>18.0</td>\n",
       "      <td>0.0</td>\n",
       "      <td>33.0</td>\n",
       "      <td>0.0</td>\n",
       "      <td>54.0</td>\n",
       "      <td>7.0</td>\n",
       "      <td>-2.555348</td>\n",
       "      <td>San Gabriel Valley</td>\n",
       "      <td>None</td>\n",
       "      <td>MULTIPOLYGON (((-118.09106 34.10807, -118.0909...</td>\n",
       "    </tr>\n",
       "    <tr>\n",
       "      <th>29</th>\n",
       "      <td>06037481201</td>\n",
       "      <td>Census Tract 4812.01, Los Angeles, CA</td>\n",
       "      <td>3343.0</td>\n",
       "      <td>1656.0</td>\n",
       "      <td>408.0</td>\n",
       "      <td>20.0</td>\n",
       "      <td>0.0</td>\n",
       "      <td>1417.0</td>\n",
       "      <td>408.0</td>\n",
       "      <td>219.0</td>\n",
       "      <td>0.0</td>\n",
       "      <td>0.0</td>\n",
       "      <td>219.0</td>\n",
       "      <td>80.0</td>\n",
       "      <td>0.0</td>\n",
       "      <td>139.0</td>\n",
       "      <td>0.0</td>\n",
       "      <td>0.0</td>\n",
       "      <td>0.0</td>\n",
       "      <td>0.0</td>\n",
       "      <td>0.0</td>\n",
       "      <td>3910.0</td>\n",
       "      <td>2241.0</td>\n",
       "      <td>251.0</td>\n",
       "      <td>8.0</td>\n",
       "      <td>8.0</td>\n",
       "      <td>1722.0</td>\n",
       "      <td>220.0</td>\n",
       "      <td>511.0</td>\n",
       "      <td>0.0</td>\n",
       "      <td>0.0</td>\n",
       "      <td>511.0</td>\n",
       "      <td>433.0</td>\n",
       "      <td>23.0</td>\n",
       "      <td>78.0</td>\n",
       "      <td>0.0</td>\n",
       "      <td>0.0</td>\n",
       "      <td>0.0</td>\n",
       "      <td>0.0</td>\n",
       "      <td>0.0</td>\n",
       "      <td>7.778233</td>\n",
       "      <td>San Gabriel Valley</td>\n",
       "      <td>None</td>\n",
       "      <td>MULTIPOLYGON (((-118.07721 34.10341, -118.0762...</td>\n",
       "    </tr>\n",
       "    <tr>\n",
       "      <th>30</th>\n",
       "      <td>06037481202</td>\n",
       "      <td>Census Tract 4812.02, Los Angeles, CA</td>\n",
       "      <td>5652.0</td>\n",
       "      <td>3093.0</td>\n",
       "      <td>511.0</td>\n",
       "      <td>47.0</td>\n",
       "      <td>0.0</td>\n",
       "      <td>2103.0</td>\n",
       "      <td>363.0</td>\n",
       "      <td>866.0</td>\n",
       "      <td>14.0</td>\n",
       "      <td>0.0</td>\n",
       "      <td>756.0</td>\n",
       "      <td>700.0</td>\n",
       "      <td>93.0</td>\n",
       "      <td>56.0</td>\n",
       "      <td>15.0</td>\n",
       "      <td>96.0</td>\n",
       "      <td>23.0</td>\n",
       "      <td>77.0</td>\n",
       "      <td>17.0</td>\n",
       "      <td>6188.0</td>\n",
       "      <td>3466.0</td>\n",
       "      <td>715.0</td>\n",
       "      <td>17.0</td>\n",
       "      <td>0.0</td>\n",
       "      <td>2659.0</td>\n",
       "      <td>657.0</td>\n",
       "      <td>782.0</td>\n",
       "      <td>8.0</td>\n",
       "      <td>0.0</td>\n",
       "      <td>764.0</td>\n",
       "      <td>610.0</td>\n",
       "      <td>58.0</td>\n",
       "      <td>154.0</td>\n",
       "      <td>0.0</td>\n",
       "      <td>10.0</td>\n",
       "      <td>0.0</td>\n",
       "      <td>8.0</td>\n",
       "      <td>0.0</td>\n",
       "      <td>1.287644</td>\n",
       "      <td>San Gabriel Valley</td>\n",
       "      <td>None</td>\n",
       "      <td>MULTIPOLYGON (((-118.09099 34.10340, -118.0905...</td>\n",
       "    </tr>\n",
       "    <tr>\n",
       "      <th>31</th>\n",
       "      <td>NaN</td>\n",
       "      <td>NaN</td>\n",
       "      <td>151933.0</td>\n",
       "      <td>64841.0</td>\n",
       "      <td>14681.0</td>\n",
       "      <td>1862.0</td>\n",
       "      <td>251.0</td>\n",
       "      <td>50402.0</td>\n",
       "      <td>11857.0</td>\n",
       "      <td>11133.0</td>\n",
       "      <td>508.0</td>\n",
       "      <td>26.0</td>\n",
       "      <td>9137.0</td>\n",
       "      <td>7106.0</td>\n",
       "      <td>1568.0</td>\n",
       "      <td>2031.0</td>\n",
       "      <td>364.0</td>\n",
       "      <td>1488.0</td>\n",
       "      <td>342.0</td>\n",
       "      <td>1444.0</td>\n",
       "      <td>273.0</td>\n",
       "      <td>156119.0</td>\n",
       "      <td>68375.0</td>\n",
       "      <td>12051.0</td>\n",
       "      <td>1870.0</td>\n",
       "      <td>320.0</td>\n",
       "      <td>54428.0</td>\n",
       "      <td>10858.0</td>\n",
       "      <td>10765.0</td>\n",
       "      <td>412.0</td>\n",
       "      <td>13.0</td>\n",
       "      <td>9347.0</td>\n",
       "      <td>7569.0</td>\n",
       "      <td>329.0</td>\n",
       "      <td>1778.0</td>\n",
       "      <td>172.0</td>\n",
       "      <td>1006.0</td>\n",
       "      <td>80.0</td>\n",
       "      <td>1312.0</td>\n",
       "      <td>279.0</td>\n",
       "      <td>44.791013</td>\n",
       "      <td>NaN</td>\n",
       "      <td>NaN</td>\n",
       "      <td>None</td>\n",
       "    </tr>\n",
       "  </tbody>\n",
       "</table>\n",
       "</div>"
      ],
      "text/plain": [
       "           FIPS                           Census Tract  11 Total Population  \\\n",
       "27  06037480101  Census Tract 4801.01, Los Angeles, CA               4060.0   \n",
       "28  06037480102  Census Tract 4801.02, Los Angeles, CA               4096.0   \n",
       "29  06037481201  Census Tract 4812.01, Los Angeles, CA               3343.0   \n",
       "30  06037481202  Census Tract 4812.02, Los Angeles, CA               5652.0   \n",
       "31          NaN                                    NaN             151933.0   \n",
       "\n",
       "    11 Total Foreign Born  11 Total Entered 2000 or later  11 Europe  \\\n",
       "27                 1870.0                           364.0        0.0   \n",
       "28                 1903.0                           403.0       19.0   \n",
       "29                 1656.0                           408.0       20.0   \n",
       "30                 3093.0                           511.0       47.0   \n",
       "31                64841.0                         14681.0     1862.0   \n",
       "\n",
       "    11 Europe Entered 2000 or later  11 Asia  11 Asia Entered 2000 or later  \\\n",
       "27                              0.0   1824.0                          364.0   \n",
       "28                              0.0   1567.0                          353.0   \n",
       "29                              0.0   1417.0                          408.0   \n",
       "30                              0.0   2103.0                          363.0   \n",
       "31                            251.0  50402.0                        11857.0   \n",
       "\n",
       "    11 Latin America  11 Caribbean  11 Caribbean Entered 2000 or later  \\\n",
       "27              46.0           0.0                                 0.0   \n",
       "28             297.0          26.0                                 1.0   \n",
       "29             219.0           0.0                                 0.0   \n",
       "30             866.0          14.0                                 0.0   \n",
       "31           11133.0         508.0                                26.0   \n",
       "\n",
       "    11 Central America  11 Mexico  11 Mexico Entered 2000 or later  \\\n",
       "27                46.0       46.0                              0.0   \n",
       "28               214.0      194.0                             18.0   \n",
       "29               219.0       80.0                              0.0   \n",
       "30               756.0      700.0                             93.0   \n",
       "31              9137.0     7106.0                           1568.0   \n",
       "\n",
       "    11 Other Central America  11 Other Central America 2000 or later  \\\n",
       "27                       0.0                                     0.0   \n",
       "28                      20.0                                     0.0   \n",
       "29                     139.0                                     0.0   \n",
       "30                      56.0                                    15.0   \n",
       "31                    2031.0                                   364.0   \n",
       "\n",
       "    11 South America  11 South America Entered 2000 or later  11 Other areas  \\\n",
       "27               0.0                                     0.0             0.0   \n",
       "28              57.0                                    31.0            20.0   \n",
       "29               0.0                                     0.0             0.0   \n",
       "30              96.0                                    23.0            77.0   \n",
       "31            1488.0                                   342.0          1444.0   \n",
       "\n",
       "    11 Other areas Entered 2000 or later  19 Total Population  \\\n",
       "27                                   0.0               3731.0   \n",
       "28                                   0.0               4487.0   \n",
       "29                                   0.0               3910.0   \n",
       "30                                  17.0               6188.0   \n",
       "31                                 273.0             156119.0   \n",
       "\n",
       "    19 Total Foreign Born  19 Total Entered 2010 or later  19 Europe  \\\n",
       "27                 2089.0                           574.0       22.0   \n",
       "28                 1970.0                           246.0       70.0   \n",
       "29                 2241.0                           251.0        8.0   \n",
       "30                 3466.0                           715.0       17.0   \n",
       "31                68375.0                         12051.0     1870.0   \n",
       "\n",
       "    19 Europe Entered 2010 or later  19 Asia  19 Asia Entered 2010 or later  \\\n",
       "27                              0.0   2035.0                          574.0   \n",
       "28                             10.0   1672.0                          229.0   \n",
       "29                              8.0   1722.0                          220.0   \n",
       "30                              0.0   2659.0                          657.0   \n",
       "31                            320.0  54428.0                        10858.0   \n",
       "\n",
       "    19 Latin America  19 Caribbean  19 Caribbean entered 2010 or later  \\\n",
       "27              32.0          10.0                                 0.0   \n",
       "28             174.0          28.0                                 0.0   \n",
       "29             511.0           0.0                                 0.0   \n",
       "30             782.0           8.0                                 0.0   \n",
       "31           10765.0         412.0                                13.0   \n",
       "\n",
       "    19 Central America  19 Mexico  19 Mexico Entered 2010 or later  \\\n",
       "27                22.0        0.0                              0.0   \n",
       "28               113.0       95.0                              0.0   \n",
       "29               511.0      433.0                             23.0   \n",
       "30               764.0      610.0                             58.0   \n",
       "31              9347.0     7569.0                            329.0   \n",
       "\n",
       "    19 Other Central America  19 Other Central America Entered 2010 or later  \\\n",
       "27                      22.0                                             0.0   \n",
       "28                      18.0                                             0.0   \n",
       "29                      78.0                                             0.0   \n",
       "30                     154.0                                             0.0   \n",
       "31                    1778.0                                           172.0   \n",
       "\n",
       "    19 South America  19 South America Entered 2010 or later  19 Other Areas  \\\n",
       "27               0.0                                     0.0             0.0   \n",
       "28              33.0                                     0.0            54.0   \n",
       "29               0.0                                     0.0             0.0   \n",
       "30              10.0                                     0.0             8.0   \n",
       "31            1006.0                                    80.0          1312.0   \n",
       "\n",
       "    19 Other Areas Entered 2010 or later  % Change Foreign Born  \\\n",
       "27                                   0.0               9.931238   \n",
       "28                                   7.0              -2.555348   \n",
       "29                                   0.0               7.778233   \n",
       "30                                   0.0               1.287644   \n",
       "31                                 279.0              44.791013   \n",
       "\n",
       "                region station  \\\n",
       "27  San Gabriel Valley    None   \n",
       "28  San Gabriel Valley    None   \n",
       "29  San Gabriel Valley    None   \n",
       "30  San Gabriel Valley    None   \n",
       "31                 NaN     NaN   \n",
       "\n",
       "                                             geometry  \n",
       "27  MULTIPOLYGON (((-118.08046 34.11352, -118.0803...  \n",
       "28  MULTIPOLYGON (((-118.09106 34.10807, -118.0909...  \n",
       "29  MULTIPOLYGON (((-118.07721 34.10341, -118.0762...  \n",
       "30  MULTIPOLYGON (((-118.09099 34.10340, -118.0905...  \n",
       "31                                               None  "
      ]
     },
     "execution_count": 62,
     "metadata": {},
     "output_type": "execute_result"
    }
   ],
   "source": [
    "sgv.tail()"
   ]
  },
  {
   "cell_type": "code",
   "execution_count": 63,
   "id": "9640cdf2-f59e-4206-bbb5-105caa166a27",
   "metadata": {},
   "outputs": [],
   "source": [
    "sgv.iloc[-1, sgv.columns.get_loc('station')] = \"San Gabriel Valley\""
   ]
  },
  {
   "cell_type": "code",
   "execution_count": 64,
   "id": "3f828b48-aa5f-473d-8f29-126e720904ca",
   "metadata": {},
   "outputs": [
    {
     "data": {
      "text/html": [
       "<div>\n",
       "<style scoped>\n",
       "    .dataframe tbody tr th:only-of-type {\n",
       "        vertical-align: middle;\n",
       "    }\n",
       "\n",
       "    .dataframe tbody tr th {\n",
       "        vertical-align: top;\n",
       "    }\n",
       "\n",
       "    .dataframe thead th {\n",
       "        text-align: right;\n",
       "    }\n",
       "</style>\n",
       "<table border=\"1\" class=\"dataframe\">\n",
       "  <thead>\n",
       "    <tr style=\"text-align: right;\">\n",
       "      <th></th>\n",
       "      <th>FIPS</th>\n",
       "      <th>Census Tract</th>\n",
       "      <th>11 Total Population</th>\n",
       "      <th>11 Total Foreign Born</th>\n",
       "      <th>11 Total Entered 2000 or later</th>\n",
       "      <th>11 Europe</th>\n",
       "      <th>11 Europe Entered 2000 or later</th>\n",
       "      <th>11 Asia</th>\n",
       "      <th>11 Asia Entered 2000 or later</th>\n",
       "      <th>11 Latin America</th>\n",
       "      <th>11 Caribbean</th>\n",
       "      <th>11 Caribbean Entered 2000 or later</th>\n",
       "      <th>11 Central America</th>\n",
       "      <th>11 Mexico</th>\n",
       "      <th>11 Mexico Entered 2000 or later</th>\n",
       "      <th>11 Other Central America</th>\n",
       "      <th>11 Other Central America 2000 or later</th>\n",
       "      <th>11 South America</th>\n",
       "      <th>11 South America Entered 2000 or later</th>\n",
       "      <th>11 Other areas</th>\n",
       "      <th>11 Other areas Entered 2000 or later</th>\n",
       "      <th>19 Total Population</th>\n",
       "      <th>19 Total Foreign Born</th>\n",
       "      <th>19 Total Entered 2010 or later</th>\n",
       "      <th>19 Europe</th>\n",
       "      <th>19 Europe Entered 2010 or later</th>\n",
       "      <th>19 Asia</th>\n",
       "      <th>19 Asia Entered 2010 or later</th>\n",
       "      <th>19 Latin America</th>\n",
       "      <th>19 Caribbean</th>\n",
       "      <th>19 Caribbean entered 2010 or later</th>\n",
       "      <th>19 Central America</th>\n",
       "      <th>19 Mexico</th>\n",
       "      <th>19 Mexico Entered 2010 or later</th>\n",
       "      <th>19 Other Central America</th>\n",
       "      <th>19 Other Central America Entered 2010 or later</th>\n",
       "      <th>19 South America</th>\n",
       "      <th>19 South America Entered 2010 or later</th>\n",
       "      <th>19 Other Areas</th>\n",
       "      <th>19 Other Areas Entered 2010 or later</th>\n",
       "      <th>% Change Foreign Born</th>\n",
       "      <th>region</th>\n",
       "      <th>station</th>\n",
       "      <th>geometry</th>\n",
       "    </tr>\n",
       "  </thead>\n",
       "  <tbody>\n",
       "    <tr>\n",
       "      <th>31</th>\n",
       "      <td>NaN</td>\n",
       "      <td>NaN</td>\n",
       "      <td>151933.0</td>\n",
       "      <td>64841.0</td>\n",
       "      <td>14681.0</td>\n",
       "      <td>1862.0</td>\n",
       "      <td>251.0</td>\n",
       "      <td>50402.0</td>\n",
       "      <td>11857.0</td>\n",
       "      <td>11133.0</td>\n",
       "      <td>508.0</td>\n",
       "      <td>26.0</td>\n",
       "      <td>9137.0</td>\n",
       "      <td>7106.0</td>\n",
       "      <td>1568.0</td>\n",
       "      <td>2031.0</td>\n",
       "      <td>364.0</td>\n",
       "      <td>1488.0</td>\n",
       "      <td>342.0</td>\n",
       "      <td>1444.0</td>\n",
       "      <td>273.0</td>\n",
       "      <td>156119.0</td>\n",
       "      <td>68375.0</td>\n",
       "      <td>12051.0</td>\n",
       "      <td>1870.0</td>\n",
       "      <td>320.0</td>\n",
       "      <td>54428.0</td>\n",
       "      <td>10858.0</td>\n",
       "      <td>10765.0</td>\n",
       "      <td>412.0</td>\n",
       "      <td>13.0</td>\n",
       "      <td>9347.0</td>\n",
       "      <td>7569.0</td>\n",
       "      <td>329.0</td>\n",
       "      <td>1778.0</td>\n",
       "      <td>172.0</td>\n",
       "      <td>1006.0</td>\n",
       "      <td>80.0</td>\n",
       "      <td>1312.0</td>\n",
       "      <td>279.0</td>\n",
       "      <td>44.791013</td>\n",
       "      <td>NaN</td>\n",
       "      <td>San Gabriel Valley</td>\n",
       "      <td>None</td>\n",
       "    </tr>\n",
       "  </tbody>\n",
       "</table>\n",
       "</div>"
      ],
      "text/plain": [
       "   FIPS Census Tract  11 Total Population  11 Total Foreign Born  \\\n",
       "31  NaN          NaN             151933.0                64841.0   \n",
       "\n",
       "    11 Total Entered 2000 or later  11 Europe  \\\n",
       "31                         14681.0     1862.0   \n",
       "\n",
       "    11 Europe Entered 2000 or later  11 Asia  11 Asia Entered 2000 or later  \\\n",
       "31                            251.0  50402.0                        11857.0   \n",
       "\n",
       "    11 Latin America  11 Caribbean  11 Caribbean Entered 2000 or later  \\\n",
       "31           11133.0         508.0                                26.0   \n",
       "\n",
       "    11 Central America  11 Mexico  11 Mexico Entered 2000 or later  \\\n",
       "31              9137.0     7106.0                           1568.0   \n",
       "\n",
       "    11 Other Central America  11 Other Central America 2000 or later  \\\n",
       "31                    2031.0                                   364.0   \n",
       "\n",
       "    11 South America  11 South America Entered 2000 or later  11 Other areas  \\\n",
       "31            1488.0                                   342.0          1444.0   \n",
       "\n",
       "    11 Other areas Entered 2000 or later  19 Total Population  \\\n",
       "31                                 273.0             156119.0   \n",
       "\n",
       "    19 Total Foreign Born  19 Total Entered 2010 or later  19 Europe  \\\n",
       "31                68375.0                         12051.0     1870.0   \n",
       "\n",
       "    19 Europe Entered 2010 or later  19 Asia  19 Asia Entered 2010 or later  \\\n",
       "31                            320.0  54428.0                        10858.0   \n",
       "\n",
       "    19 Latin America  19 Caribbean  19 Caribbean entered 2010 or later  \\\n",
       "31           10765.0         412.0                                13.0   \n",
       "\n",
       "    19 Central America  19 Mexico  19 Mexico Entered 2010 or later  \\\n",
       "31              9347.0     7569.0                            329.0   \n",
       "\n",
       "    19 Other Central America  19 Other Central America Entered 2010 or later  \\\n",
       "31                    1778.0                                           172.0   \n",
       "\n",
       "    19 South America  19 South America Entered 2010 or later  19 Other Areas  \\\n",
       "31            1006.0                                    80.0          1312.0   \n",
       "\n",
       "    19 Other Areas Entered 2010 or later  % Change Foreign Born region  \\\n",
       "31                                 279.0              44.791013    NaN   \n",
       "\n",
       "               station geometry  \n",
       "31  San Gabriel Valley     None  "
      ]
     },
     "execution_count": 64,
     "metadata": {},
     "output_type": "execute_result"
    }
   ],
   "source": [
    "sgv.tail(1)"
   ]
  },
  {
   "cell_type": "code",
   "execution_count": null,
   "id": "5b822691-e5f9-40c8-911c-417391cc4fda",
   "metadata": {},
   "outputs": [],
   "source": []
  },
  {
   "cell_type": "code",
   "execution_count": 65,
   "id": "8c7ee34f-2976-46e5-af9b-eda5b11d6d2b",
   "metadata": {},
   "outputs": [],
   "source": [
    "sgv = sgv.iloc[-1:]"
   ]
  },
  {
   "cell_type": "code",
   "execution_count": 66,
   "id": "72d4c785-a43e-46fa-a02d-a02ff2eaa1e6",
   "metadata": {},
   "outputs": [
    {
     "data": {
      "text/html": [
       "<div>\n",
       "<style scoped>\n",
       "    .dataframe tbody tr th:only-of-type {\n",
       "        vertical-align: middle;\n",
       "    }\n",
       "\n",
       "    .dataframe tbody tr th {\n",
       "        vertical-align: top;\n",
       "    }\n",
       "\n",
       "    .dataframe thead th {\n",
       "        text-align: right;\n",
       "    }\n",
       "</style>\n",
       "<table border=\"1\" class=\"dataframe\">\n",
       "  <thead>\n",
       "    <tr style=\"text-align: right;\">\n",
       "      <th></th>\n",
       "      <th>FIPS</th>\n",
       "      <th>Census Tract</th>\n",
       "      <th>11 Total Population</th>\n",
       "      <th>11 Total Foreign Born</th>\n",
       "      <th>11 Total Entered 2000 or later</th>\n",
       "      <th>11 Europe</th>\n",
       "      <th>11 Europe Entered 2000 or later</th>\n",
       "      <th>11 Asia</th>\n",
       "      <th>11 Asia Entered 2000 or later</th>\n",
       "      <th>11 Latin America</th>\n",
       "      <th>11 Caribbean</th>\n",
       "      <th>11 Caribbean Entered 2000 or later</th>\n",
       "      <th>11 Central America</th>\n",
       "      <th>11 Mexico</th>\n",
       "      <th>11 Mexico Entered 2000 or later</th>\n",
       "      <th>11 Other Central America</th>\n",
       "      <th>11 Other Central America 2000 or later</th>\n",
       "      <th>11 South America</th>\n",
       "      <th>11 South America Entered 2000 or later</th>\n",
       "      <th>11 Other areas</th>\n",
       "      <th>11 Other areas Entered 2000 or later</th>\n",
       "      <th>19 Total Population</th>\n",
       "      <th>19 Total Foreign Born</th>\n",
       "      <th>19 Total Entered 2010 or later</th>\n",
       "      <th>19 Europe</th>\n",
       "      <th>19 Europe Entered 2010 or later</th>\n",
       "      <th>19 Asia</th>\n",
       "      <th>19 Asia Entered 2010 or later</th>\n",
       "      <th>19 Latin America</th>\n",
       "      <th>19 Caribbean</th>\n",
       "      <th>19 Caribbean entered 2010 or later</th>\n",
       "      <th>19 Central America</th>\n",
       "      <th>19 Mexico</th>\n",
       "      <th>19 Mexico Entered 2010 or later</th>\n",
       "      <th>19 Other Central America</th>\n",
       "      <th>19 Other Central America Entered 2010 or later</th>\n",
       "      <th>19 South America</th>\n",
       "      <th>19 South America Entered 2010 or later</th>\n",
       "      <th>19 Other Areas</th>\n",
       "      <th>19 Other Areas Entered 2010 or later</th>\n",
       "      <th>% Change Foreign Born</th>\n",
       "      <th>region</th>\n",
       "      <th>station</th>\n",
       "      <th>geometry</th>\n",
       "    </tr>\n",
       "  </thead>\n",
       "  <tbody>\n",
       "    <tr>\n",
       "      <th>31</th>\n",
       "      <td>NaN</td>\n",
       "      <td>NaN</td>\n",
       "      <td>151933.0</td>\n",
       "      <td>64841.0</td>\n",
       "      <td>14681.0</td>\n",
       "      <td>1862.0</td>\n",
       "      <td>251.0</td>\n",
       "      <td>50402.0</td>\n",
       "      <td>11857.0</td>\n",
       "      <td>11133.0</td>\n",
       "      <td>508.0</td>\n",
       "      <td>26.0</td>\n",
       "      <td>9137.0</td>\n",
       "      <td>7106.0</td>\n",
       "      <td>1568.0</td>\n",
       "      <td>2031.0</td>\n",
       "      <td>364.0</td>\n",
       "      <td>1488.0</td>\n",
       "      <td>342.0</td>\n",
       "      <td>1444.0</td>\n",
       "      <td>273.0</td>\n",
       "      <td>156119.0</td>\n",
       "      <td>68375.0</td>\n",
       "      <td>12051.0</td>\n",
       "      <td>1870.0</td>\n",
       "      <td>320.0</td>\n",
       "      <td>54428.0</td>\n",
       "      <td>10858.0</td>\n",
       "      <td>10765.0</td>\n",
       "      <td>412.0</td>\n",
       "      <td>13.0</td>\n",
       "      <td>9347.0</td>\n",
       "      <td>7569.0</td>\n",
       "      <td>329.0</td>\n",
       "      <td>1778.0</td>\n",
       "      <td>172.0</td>\n",
       "      <td>1006.0</td>\n",
       "      <td>80.0</td>\n",
       "      <td>1312.0</td>\n",
       "      <td>279.0</td>\n",
       "      <td>44.791013</td>\n",
       "      <td>NaN</td>\n",
       "      <td>San Gabriel Valley</td>\n",
       "      <td>None</td>\n",
       "    </tr>\n",
       "  </tbody>\n",
       "</table>\n",
       "</div>"
      ],
      "text/plain": [
       "   FIPS Census Tract  11 Total Population  11 Total Foreign Born  \\\n",
       "31  NaN          NaN             151933.0                64841.0   \n",
       "\n",
       "    11 Total Entered 2000 or later  11 Europe  \\\n",
       "31                         14681.0     1862.0   \n",
       "\n",
       "    11 Europe Entered 2000 or later  11 Asia  11 Asia Entered 2000 or later  \\\n",
       "31                            251.0  50402.0                        11857.0   \n",
       "\n",
       "    11 Latin America  11 Caribbean  11 Caribbean Entered 2000 or later  \\\n",
       "31           11133.0         508.0                                26.0   \n",
       "\n",
       "    11 Central America  11 Mexico  11 Mexico Entered 2000 or later  \\\n",
       "31              9137.0     7106.0                           1568.0   \n",
       "\n",
       "    11 Other Central America  11 Other Central America 2000 or later  \\\n",
       "31                    2031.0                                   364.0   \n",
       "\n",
       "    11 South America  11 South America Entered 2000 or later  11 Other areas  \\\n",
       "31            1488.0                                   342.0          1444.0   \n",
       "\n",
       "    11 Other areas Entered 2000 or later  19 Total Population  \\\n",
       "31                                 273.0             156119.0   \n",
       "\n",
       "    19 Total Foreign Born  19 Total Entered 2010 or later  19 Europe  \\\n",
       "31                68375.0                         12051.0     1870.0   \n",
       "\n",
       "    19 Europe Entered 2010 or later  19 Asia  19 Asia Entered 2010 or later  \\\n",
       "31                            320.0  54428.0                        10858.0   \n",
       "\n",
       "    19 Latin America  19 Caribbean  19 Caribbean entered 2010 or later  \\\n",
       "31           10765.0         412.0                                13.0   \n",
       "\n",
       "    19 Central America  19 Mexico  19 Mexico Entered 2010 or later  \\\n",
       "31              9347.0     7569.0                            329.0   \n",
       "\n",
       "    19 Other Central America  19 Other Central America Entered 2010 or later  \\\n",
       "31                    1778.0                                           172.0   \n",
       "\n",
       "    19 South America  19 South America Entered 2010 or later  19 Other Areas  \\\n",
       "31            1006.0                                    80.0          1312.0   \n",
       "\n",
       "    19 Other Areas Entered 2010 or later  % Change Foreign Born region  \\\n",
       "31                                 279.0              44.791013    NaN   \n",
       "\n",
       "               station geometry  \n",
       "31  San Gabriel Valley     None  "
      ]
     },
     "execution_count": 66,
     "metadata": {},
     "output_type": "execute_result"
    }
   ],
   "source": [
    "sgv.head()"
   ]
  },
  {
   "cell_type": "code",
   "execution_count": 67,
   "id": "eb6875dc-f4f9-41d7-8fca-80d06ada30f7",
   "metadata": {},
   "outputs": [],
   "source": [
    "sgv['% Change Foreign Born'] = ((sgv['19 Total Foreign Born'] / sgv['19 Total Population']) - (sgv['11 Total Foreign Born'] / sgv['11 Total Population']))*100"
   ]
  },
  {
   "cell_type": "code",
   "execution_count": 68,
   "id": "4c79d38b-77c2-4b76-8d41-5ced94963699",
   "metadata": {},
   "outputs": [
    {
     "data": {
      "text/html": [
       "<div>\n",
       "<style scoped>\n",
       "    .dataframe tbody tr th:only-of-type {\n",
       "        vertical-align: middle;\n",
       "    }\n",
       "\n",
       "    .dataframe tbody tr th {\n",
       "        vertical-align: top;\n",
       "    }\n",
       "\n",
       "    .dataframe thead th {\n",
       "        text-align: right;\n",
       "    }\n",
       "</style>\n",
       "<table border=\"1\" class=\"dataframe\">\n",
       "  <thead>\n",
       "    <tr style=\"text-align: right;\">\n",
       "      <th></th>\n",
       "      <th>FIPS</th>\n",
       "      <th>Census Tract</th>\n",
       "      <th>11 Total Population</th>\n",
       "      <th>11 Total Foreign Born</th>\n",
       "      <th>11 Total Entered 2000 or later</th>\n",
       "      <th>11 Europe</th>\n",
       "      <th>11 Europe Entered 2000 or later</th>\n",
       "      <th>11 Asia</th>\n",
       "      <th>11 Asia Entered 2000 or later</th>\n",
       "      <th>11 Latin America</th>\n",
       "      <th>11 Caribbean</th>\n",
       "      <th>11 Caribbean Entered 2000 or later</th>\n",
       "      <th>11 Central America</th>\n",
       "      <th>11 Mexico</th>\n",
       "      <th>11 Mexico Entered 2000 or later</th>\n",
       "      <th>11 Other Central America</th>\n",
       "      <th>11 Other Central America 2000 or later</th>\n",
       "      <th>11 South America</th>\n",
       "      <th>11 South America Entered 2000 or later</th>\n",
       "      <th>11 Other areas</th>\n",
       "      <th>11 Other areas Entered 2000 or later</th>\n",
       "      <th>19 Total Population</th>\n",
       "      <th>19 Total Foreign Born</th>\n",
       "      <th>19 Total Entered 2010 or later</th>\n",
       "      <th>19 Europe</th>\n",
       "      <th>19 Europe Entered 2010 or later</th>\n",
       "      <th>19 Asia</th>\n",
       "      <th>19 Asia Entered 2010 or later</th>\n",
       "      <th>19 Latin America</th>\n",
       "      <th>19 Caribbean</th>\n",
       "      <th>19 Caribbean entered 2010 or later</th>\n",
       "      <th>19 Central America</th>\n",
       "      <th>19 Mexico</th>\n",
       "      <th>19 Mexico Entered 2010 or later</th>\n",
       "      <th>19 Other Central America</th>\n",
       "      <th>19 Other Central America Entered 2010 or later</th>\n",
       "      <th>19 South America</th>\n",
       "      <th>19 South America Entered 2010 or later</th>\n",
       "      <th>19 Other Areas</th>\n",
       "      <th>19 Other Areas Entered 2010 or later</th>\n",
       "      <th>% Change Foreign Born</th>\n",
       "      <th>region</th>\n",
       "      <th>station</th>\n",
       "      <th>geometry</th>\n",
       "    </tr>\n",
       "  </thead>\n",
       "  <tbody>\n",
       "    <tr>\n",
       "      <th>31</th>\n",
       "      <td>NaN</td>\n",
       "      <td>NaN</td>\n",
       "      <td>151933.0</td>\n",
       "      <td>64841.0</td>\n",
       "      <td>14681.0</td>\n",
       "      <td>1862.0</td>\n",
       "      <td>251.0</td>\n",
       "      <td>50402.0</td>\n",
       "      <td>11857.0</td>\n",
       "      <td>11133.0</td>\n",
       "      <td>508.0</td>\n",
       "      <td>26.0</td>\n",
       "      <td>9137.0</td>\n",
       "      <td>7106.0</td>\n",
       "      <td>1568.0</td>\n",
       "      <td>2031.0</td>\n",
       "      <td>364.0</td>\n",
       "      <td>1488.0</td>\n",
       "      <td>342.0</td>\n",
       "      <td>1444.0</td>\n",
       "      <td>273.0</td>\n",
       "      <td>156119.0</td>\n",
       "      <td>68375.0</td>\n",
       "      <td>12051.0</td>\n",
       "      <td>1870.0</td>\n",
       "      <td>320.0</td>\n",
       "      <td>54428.0</td>\n",
       "      <td>10858.0</td>\n",
       "      <td>10765.0</td>\n",
       "      <td>412.0</td>\n",
       "      <td>13.0</td>\n",
       "      <td>9347.0</td>\n",
       "      <td>7569.0</td>\n",
       "      <td>329.0</td>\n",
       "      <td>1778.0</td>\n",
       "      <td>172.0</td>\n",
       "      <td>1006.0</td>\n",
       "      <td>80.0</td>\n",
       "      <td>1312.0</td>\n",
       "      <td>279.0</td>\n",
       "      <td>1.119355</td>\n",
       "      <td>NaN</td>\n",
       "      <td>San Gabriel Valley</td>\n",
       "      <td>None</td>\n",
       "    </tr>\n",
       "  </tbody>\n",
       "</table>\n",
       "</div>"
      ],
      "text/plain": [
       "   FIPS Census Tract  11 Total Population  11 Total Foreign Born  \\\n",
       "31  NaN          NaN             151933.0                64841.0   \n",
       "\n",
       "    11 Total Entered 2000 or later  11 Europe  \\\n",
       "31                         14681.0     1862.0   \n",
       "\n",
       "    11 Europe Entered 2000 or later  11 Asia  11 Asia Entered 2000 or later  \\\n",
       "31                            251.0  50402.0                        11857.0   \n",
       "\n",
       "    11 Latin America  11 Caribbean  11 Caribbean Entered 2000 or later  \\\n",
       "31           11133.0         508.0                                26.0   \n",
       "\n",
       "    11 Central America  11 Mexico  11 Mexico Entered 2000 or later  \\\n",
       "31              9137.0     7106.0                           1568.0   \n",
       "\n",
       "    11 Other Central America  11 Other Central America 2000 or later  \\\n",
       "31                    2031.0                                   364.0   \n",
       "\n",
       "    11 South America  11 South America Entered 2000 or later  11 Other areas  \\\n",
       "31            1488.0                                   342.0          1444.0   \n",
       "\n",
       "    11 Other areas Entered 2000 or later  19 Total Population  \\\n",
       "31                                 273.0             156119.0   \n",
       "\n",
       "    19 Total Foreign Born  19 Total Entered 2010 or later  19 Europe  \\\n",
       "31                68375.0                         12051.0     1870.0   \n",
       "\n",
       "    19 Europe Entered 2010 or later  19 Asia  19 Asia Entered 2010 or later  \\\n",
       "31                            320.0  54428.0                        10858.0   \n",
       "\n",
       "    19 Latin America  19 Caribbean  19 Caribbean entered 2010 or later  \\\n",
       "31           10765.0         412.0                                13.0   \n",
       "\n",
       "    19 Central America  19 Mexico  19 Mexico Entered 2010 or later  \\\n",
       "31              9347.0     7569.0                            329.0   \n",
       "\n",
       "    19 Other Central America  19 Other Central America Entered 2010 or later  \\\n",
       "31                    1778.0                                           172.0   \n",
       "\n",
       "    19 South America  19 South America Entered 2010 or later  19 Other Areas  \\\n",
       "31            1006.0                                    80.0          1312.0   \n",
       "\n",
       "    19 Other Areas Entered 2010 or later  % Change Foreign Born region  \\\n",
       "31                                 279.0               1.119355    NaN   \n",
       "\n",
       "               station geometry  \n",
       "31  San Gabriel Valley     None  "
      ]
     },
     "execution_count": 68,
     "metadata": {},
     "output_type": "execute_result"
    }
   ],
   "source": [
    "sgv.head()"
   ]
  },
  {
   "cell_type": "code",
   "execution_count": null,
   "id": "80b473d1-978d-4de0-b6ed-1ce2799eb7d2",
   "metadata": {},
   "outputs": [],
   "source": []
  },
  {
   "cell_type": "code",
   "execution_count": 69,
   "id": "c82a978c-1f53-4555-8c79-2c63e14ca0be",
   "metadata": {},
   "outputs": [],
   "source": [
    "sgv = sgv[ctk]"
   ]
  },
  {
   "cell_type": "code",
   "execution_count": 70,
   "id": "9c024cf8-0d12-46b6-aea4-5cf3ad4bd1b6",
   "metadata": {},
   "outputs": [
    {
     "data": {
      "text/html": [
       "<div>\n",
       "<style scoped>\n",
       "    .dataframe tbody tr th:only-of-type {\n",
       "        vertical-align: middle;\n",
       "    }\n",
       "\n",
       "    .dataframe tbody tr th {\n",
       "        vertical-align: top;\n",
       "    }\n",
       "\n",
       "    .dataframe thead th {\n",
       "        text-align: right;\n",
       "    }\n",
       "</style>\n",
       "<table border=\"1\" class=\"dataframe\">\n",
       "  <thead>\n",
       "    <tr style=\"text-align: right;\">\n",
       "      <th></th>\n",
       "      <th>station</th>\n",
       "      <th>% Change Foreign Born</th>\n",
       "    </tr>\n",
       "  </thead>\n",
       "  <tbody>\n",
       "    <tr>\n",
       "      <th>31</th>\n",
       "      <td>San Gabriel Valley</td>\n",
       "      <td>1.119355</td>\n",
       "    </tr>\n",
       "  </tbody>\n",
       "</table>\n",
       "</div>"
      ],
      "text/plain": [
       "               station  % Change Foreign Born\n",
       "31  San Gabriel Valley               1.119355"
      ]
     },
     "execution_count": 70,
     "metadata": {},
     "output_type": "execute_result"
    }
   ],
   "source": [
    "sgv.head()"
   ]
  },
  {
   "cell_type": "code",
   "execution_count": 71,
   "id": "2c8f1e0c-1a19-4980-9b16-517f8ad27896",
   "metadata": {},
   "outputs": [],
   "source": [
    "frames = [elacc, \n",
    "          eastla,\n",
    "          mplaza, \n",
    "          cela, \n",
    "          ctown, \n",
    "          cla, \n",
    "          heritage, \n",
    "          hlp, \n",
    "          NELA, \n",
    "          dmar, \n",
    "          pas, \n",
    "          arc, \n",
    "          sgv\n",
    "         ]"
   ]
  },
  {
   "cell_type": "code",
   "execution_count": 72,
   "id": "7c76ca8e-34ca-40bf-9ecb-6335d80ec374",
   "metadata": {},
   "outputs": [],
   "source": [
    "chart = pd.concat(frames)"
   ]
  },
  {
   "cell_type": "code",
   "execution_count": 73,
   "id": "0cf06a2e-992b-4033-9903-c996fc88ccbe",
   "metadata": {},
   "outputs": [
    {
     "data": {
      "text/html": [
       "<div>\n",
       "<style scoped>\n",
       "    .dataframe tbody tr th:only-of-type {\n",
       "        vertical-align: middle;\n",
       "    }\n",
       "\n",
       "    .dataframe tbody tr th {\n",
       "        vertical-align: top;\n",
       "    }\n",
       "\n",
       "    .dataframe thead th {\n",
       "        text-align: right;\n",
       "    }\n",
       "</style>\n",
       "<table border=\"1\" class=\"dataframe\">\n",
       "  <thead>\n",
       "    <tr style=\"text-align: right;\">\n",
       "      <th></th>\n",
       "      <th>station</th>\n",
       "      <th>% Change Foreign Born</th>\n",
       "    </tr>\n",
       "  </thead>\n",
       "  <tbody>\n",
       "    <tr>\n",
       "      <th>8</th>\n",
       "      <td>East LA Civic Center</td>\n",
       "      <td>-4.862695</td>\n",
       "    </tr>\n",
       "    <tr>\n",
       "      <th>14</th>\n",
       "      <td>East LA</td>\n",
       "      <td>0.432542</td>\n",
       "    </tr>\n",
       "    <tr>\n",
       "      <th>7</th>\n",
       "      <td>Mariachi</td>\n",
       "      <td>-5.466961</td>\n",
       "    </tr>\n",
       "    <tr>\n",
       "      <th>60</th>\n",
       "      <td>Central East LA</td>\n",
       "      <td>-4.980569</td>\n",
       "    </tr>\n",
       "    <tr>\n",
       "      <th>4</th>\n",
       "      <td>Chinatown</td>\n",
       "      <td>-7.647560</td>\n",
       "    </tr>\n",
       "    <tr>\n",
       "      <th>18</th>\n",
       "      <td>Central LA</td>\n",
       "      <td>-8.214435</td>\n",
       "    </tr>\n",
       "    <tr>\n",
       "      <th>5</th>\n",
       "      <td>Heritage</td>\n",
       "      <td>-2.705435</td>\n",
       "    </tr>\n",
       "    <tr>\n",
       "      <th>7</th>\n",
       "      <td>Highland Park</td>\n",
       "      <td>-6.965553</td>\n",
       "    </tr>\n",
       "    <tr>\n",
       "      <th>56</th>\n",
       "      <td>NELA</td>\n",
       "      <td>-4.815682</td>\n",
       "    </tr>\n",
       "    <tr>\n",
       "      <th>3</th>\n",
       "      <td>Del Mar</td>\n",
       "      <td>2.267495</td>\n",
       "    </tr>\n",
       "    <tr>\n",
       "      <th>33</th>\n",
       "      <td>Pasadena</td>\n",
       "      <td>-1.570334</td>\n",
       "    </tr>\n",
       "    <tr>\n",
       "      <th>3</th>\n",
       "      <td>Arcadia</td>\n",
       "      <td>0.713924</td>\n",
       "    </tr>\n",
       "    <tr>\n",
       "      <th>31</th>\n",
       "      <td>San Gabriel Valley</td>\n",
       "      <td>1.119355</td>\n",
       "    </tr>\n",
       "  </tbody>\n",
       "</table>\n",
       "</div>"
      ],
      "text/plain": [
       "                 station  % Change Foreign Born\n",
       "8   East LA Civic Center              -4.862695\n",
       "14               East LA               0.432542\n",
       "7               Mariachi              -5.466961\n",
       "60       Central East LA              -4.980569\n",
       "4              Chinatown              -7.647560\n",
       "18            Central LA              -8.214435\n",
       "5               Heritage              -2.705435\n",
       "7          Highland Park              -6.965553\n",
       "56                  NELA              -4.815682\n",
       "3                Del Mar               2.267495\n",
       "33              Pasadena              -1.570334\n",
       "3                Arcadia               0.713924\n",
       "31    San Gabriel Valley               1.119355"
      ]
     },
     "execution_count": 73,
     "metadata": {},
     "output_type": "execute_result"
    }
   ],
   "source": [
    "chart"
   ]
  },
  {
   "cell_type": "code",
   "execution_count": 49,
   "id": "a216bca5-99c3-4f6d-92df-014ffa9bf487",
   "metadata": {},
   "outputs": [],
   "source": [
    "chart = chart.reset_index()"
   ]
  },
  {
   "cell_type": "code",
   "execution_count": 50,
   "id": "96dc47a4-ce8c-4cd1-a5dd-334f2b572afc",
   "metadata": {},
   "outputs": [
    {
     "data": {
      "text/html": [
       "<div>\n",
       "<style scoped>\n",
       "    .dataframe tbody tr th:only-of-type {\n",
       "        vertical-align: middle;\n",
       "    }\n",
       "\n",
       "    .dataframe tbody tr th {\n",
       "        vertical-align: top;\n",
       "    }\n",
       "\n",
       "    .dataframe thead th {\n",
       "        text-align: right;\n",
       "    }\n",
       "</style>\n",
       "<table border=\"1\" class=\"dataframe\">\n",
       "  <thead>\n",
       "    <tr style=\"text-align: right;\">\n",
       "      <th></th>\n",
       "      <th>index</th>\n",
       "      <th>Station / Region</th>\n",
       "      <th>% Change Foreign Born</th>\n",
       "      <th>Area</th>\n",
       "    </tr>\n",
       "  </thead>\n",
       "  <tbody>\n",
       "    <tr>\n",
       "      <th>0</th>\n",
       "      <td>0</td>\n",
       "      <td>East LA Civic Center</td>\n",
       "      <td>-4.862695</td>\n",
       "      <td>Station</td>\n",
       "    </tr>\n",
       "    <tr>\n",
       "      <th>1</th>\n",
       "      <td>1</td>\n",
       "      <td>East LA</td>\n",
       "      <td>NaN</td>\n",
       "      <td>Region</td>\n",
       "    </tr>\n",
       "    <tr>\n",
       "      <th>2</th>\n",
       "      <td>2</td>\n",
       "      <td>Mariachi</td>\n",
       "      <td>-5.466961</td>\n",
       "      <td>Station</td>\n",
       "    </tr>\n",
       "    <tr>\n",
       "      <th>3</th>\n",
       "      <td>3</td>\n",
       "      <td>Central East LA</td>\n",
       "      <td>NaN</td>\n",
       "      <td>Region</td>\n",
       "    </tr>\n",
       "    <tr>\n",
       "      <th>4</th>\n",
       "      <td>4</td>\n",
       "      <td>Chinatown</td>\n",
       "      <td>-7.647560</td>\n",
       "      <td>Station</td>\n",
       "    </tr>\n",
       "    <tr>\n",
       "      <th>5</th>\n",
       "      <td>5</td>\n",
       "      <td>Central LA</td>\n",
       "      <td>NaN</td>\n",
       "      <td>Region</td>\n",
       "    </tr>\n",
       "    <tr>\n",
       "      <th>6</th>\n",
       "      <td>6</td>\n",
       "      <td>Heritage</td>\n",
       "      <td>-2.705435</td>\n",
       "      <td>Station</td>\n",
       "    </tr>\n",
       "    <tr>\n",
       "      <th>7</th>\n",
       "      <td>7</td>\n",
       "      <td>Highland Park</td>\n",
       "      <td>-6.965553</td>\n",
       "      <td>Station</td>\n",
       "    </tr>\n",
       "    <tr>\n",
       "      <th>8</th>\n",
       "      <td>8</td>\n",
       "      <td>NELA</td>\n",
       "      <td>NaN</td>\n",
       "      <td>Region</td>\n",
       "    </tr>\n",
       "    <tr>\n",
       "      <th>9</th>\n",
       "      <td>9</td>\n",
       "      <td>Del Mar</td>\n",
       "      <td>2.267495</td>\n",
       "      <td>Station</td>\n",
       "    </tr>\n",
       "    <tr>\n",
       "      <th>10</th>\n",
       "      <td>10</td>\n",
       "      <td>Pasadena</td>\n",
       "      <td>NaN</td>\n",
       "      <td>Region</td>\n",
       "    </tr>\n",
       "    <tr>\n",
       "      <th>11</th>\n",
       "      <td>11</td>\n",
       "      <td>Arcadia</td>\n",
       "      <td>0.713924</td>\n",
       "      <td>Station</td>\n",
       "    </tr>\n",
       "    <tr>\n",
       "      <th>12</th>\n",
       "      <td>12</td>\n",
       "      <td>San Gabriel Valley</td>\n",
       "      <td>NaN</td>\n",
       "      <td>Region</td>\n",
       "    </tr>\n",
       "  </tbody>\n",
       "</table>\n",
       "</div>"
      ],
      "text/plain": [
       "    index      Station / Region  % Change Foreign Born     Area\n",
       "0       0  East LA Civic Center              -4.862695  Station\n",
       "1       1               East LA                    NaN   Region\n",
       "2       2              Mariachi              -5.466961  Station\n",
       "3       3       Central East LA                    NaN   Region\n",
       "4       4             Chinatown              -7.647560  Station\n",
       "5       5            Central LA                    NaN   Region\n",
       "6       6              Heritage              -2.705435  Station\n",
       "7       7         Highland Park              -6.965553  Station\n",
       "8       8                  NELA                    NaN   Region\n",
       "9       9               Del Mar               2.267495  Station\n",
       "10     10              Pasadena                    NaN   Region\n",
       "11     11               Arcadia               0.713924  Station\n",
       "12     12    San Gabriel Valley                    NaN   Region"
      ]
     },
     "execution_count": 50,
     "metadata": {},
     "output_type": "execute_result"
    }
   ],
   "source": [
    "chart"
   ]
  },
  {
   "cell_type": "code",
   "execution_count": 47,
   "id": "76036e0d-d4a4-48b5-a979-9a2c65316a92",
   "metadata": {},
   "outputs": [],
   "source": [
    "chart = chart.rename(columns={'station': 'Station / Region'})"
   ]
  },
  {
   "cell_type": "code",
   "execution_count": 51,
   "id": "c742e87f-0056-4773-be06-146406b68294",
   "metadata": {},
   "outputs": [],
   "source": [
    "chart = chart.drop(['index'], axis=1)"
   ]
  },
  {
   "cell_type": "code",
   "execution_count": 52,
   "id": "877a75ac-6233-4eaa-bfc3-05a7333bdfba",
   "metadata": {},
   "outputs": [],
   "source": [
    "chart.loc[0, 'Area'] = \"Station\"\n",
    "chart.loc[2, 'Area'] = \"Station\"\n",
    "chart.loc[4, 'Area'] = \"Station\"\n",
    "chart.loc[6, 'Area'] = \"Station\"\n",
    "chart.loc[7, 'Area'] = \"Station\"\n",
    "chart.loc[9, 'Area'] = \"Station\"\n",
    "chart.loc[11, 'Area'] = \"Station\""
   ]
  },
  {
   "cell_type": "code",
   "execution_count": 53,
   "id": "35b040d4-b2e1-4f28-b29a-71e7392ca965",
   "metadata": {},
   "outputs": [
    {
     "data": {
      "text/html": [
       "<div>\n",
       "<style scoped>\n",
       "    .dataframe tbody tr th:only-of-type {\n",
       "        vertical-align: middle;\n",
       "    }\n",
       "\n",
       "    .dataframe tbody tr th {\n",
       "        vertical-align: top;\n",
       "    }\n",
       "\n",
       "    .dataframe thead th {\n",
       "        text-align: right;\n",
       "    }\n",
       "</style>\n",
       "<table border=\"1\" class=\"dataframe\">\n",
       "  <thead>\n",
       "    <tr style=\"text-align: right;\">\n",
       "      <th></th>\n",
       "      <th>Station / Region</th>\n",
       "      <th>% Change Foreign Born</th>\n",
       "      <th>Area</th>\n",
       "    </tr>\n",
       "  </thead>\n",
       "  <tbody>\n",
       "    <tr>\n",
       "      <th>0</th>\n",
       "      <td>East LA Civic Center</td>\n",
       "      <td>-4.862695</td>\n",
       "      <td>Station</td>\n",
       "    </tr>\n",
       "    <tr>\n",
       "      <th>1</th>\n",
       "      <td>East LA</td>\n",
       "      <td>NaN</td>\n",
       "      <td>Region</td>\n",
       "    </tr>\n",
       "    <tr>\n",
       "      <th>2</th>\n",
       "      <td>Mariachi</td>\n",
       "      <td>-5.466961</td>\n",
       "      <td>Station</td>\n",
       "    </tr>\n",
       "    <tr>\n",
       "      <th>3</th>\n",
       "      <td>Central East LA</td>\n",
       "      <td>NaN</td>\n",
       "      <td>Region</td>\n",
       "    </tr>\n",
       "    <tr>\n",
       "      <th>4</th>\n",
       "      <td>Chinatown</td>\n",
       "      <td>-7.647560</td>\n",
       "      <td>Station</td>\n",
       "    </tr>\n",
       "    <tr>\n",
       "      <th>5</th>\n",
       "      <td>Central LA</td>\n",
       "      <td>NaN</td>\n",
       "      <td>Region</td>\n",
       "    </tr>\n",
       "    <tr>\n",
       "      <th>6</th>\n",
       "      <td>Heritage</td>\n",
       "      <td>-2.705435</td>\n",
       "      <td>Station</td>\n",
       "    </tr>\n",
       "    <tr>\n",
       "      <th>7</th>\n",
       "      <td>Highland Park</td>\n",
       "      <td>-6.965553</td>\n",
       "      <td>Station</td>\n",
       "    </tr>\n",
       "    <tr>\n",
       "      <th>8</th>\n",
       "      <td>NELA</td>\n",
       "      <td>NaN</td>\n",
       "      <td>Region</td>\n",
       "    </tr>\n",
       "    <tr>\n",
       "      <th>9</th>\n",
       "      <td>Del Mar</td>\n",
       "      <td>2.267495</td>\n",
       "      <td>Station</td>\n",
       "    </tr>\n",
       "    <tr>\n",
       "      <th>10</th>\n",
       "      <td>Pasadena</td>\n",
       "      <td>NaN</td>\n",
       "      <td>Region</td>\n",
       "    </tr>\n",
       "    <tr>\n",
       "      <th>11</th>\n",
       "      <td>Arcadia</td>\n",
       "      <td>0.713924</td>\n",
       "      <td>Station</td>\n",
       "    </tr>\n",
       "    <tr>\n",
       "      <th>12</th>\n",
       "      <td>San Gabriel Valley</td>\n",
       "      <td>NaN</td>\n",
       "      <td>Region</td>\n",
       "    </tr>\n",
       "  </tbody>\n",
       "</table>\n",
       "</div>"
      ],
      "text/plain": [
       "        Station / Region  % Change Foreign Born     Area\n",
       "0   East LA Civic Center              -4.862695  Station\n",
       "1                East LA                    NaN   Region\n",
       "2               Mariachi              -5.466961  Station\n",
       "3        Central East LA                    NaN   Region\n",
       "4              Chinatown              -7.647560  Station\n",
       "5             Central LA                    NaN   Region\n",
       "6               Heritage              -2.705435  Station\n",
       "7          Highland Park              -6.965553  Station\n",
       "8                   NELA                    NaN   Region\n",
       "9                Del Mar               2.267495  Station\n",
       "10              Pasadena                    NaN   Region\n",
       "11               Arcadia               0.713924  Station\n",
       "12    San Gabriel Valley                    NaN   Region"
      ]
     },
     "execution_count": 53,
     "metadata": {},
     "output_type": "execute_result"
    }
   ],
   "source": [
    "chart"
   ]
  },
  {
   "cell_type": "code",
   "execution_count": 40,
   "id": "7cbbb5c6-b3d4-45c8-84ee-8b445d98bdf7",
   "metadata": {},
   "outputs": [],
   "source": [
    "chart.loc[1, 'Area'] = \"Region\"\n",
    "chart.loc[3, 'Area'] = \"Region\"\n",
    "chart.loc[5, 'Area'] = \"Region\"\n",
    "chart.loc[8, 'Area'] = \"Region\"\n",
    "chart.loc[10, 'Area'] = \"Region\"\n",
    "chart.loc[12, 'Area'] = \"Region\""
   ]
  },
  {
   "cell_type": "code",
   "execution_count": null,
   "id": "b2540da8-293a-4dd4-9867-a587083cffdb",
   "metadata": {},
   "outputs": [],
   "source": []
  },
  {
   "cell_type": "code",
   "execution_count": 41,
   "id": "39ad871a-2c99-45ad-a04d-bfcd4b929468",
   "metadata": {},
   "outputs": [
    {
     "data": {
      "text/html": [
       "<div>\n",
       "<style scoped>\n",
       "    .dataframe tbody tr th:only-of-type {\n",
       "        vertical-align: middle;\n",
       "    }\n",
       "\n",
       "    .dataframe tbody tr th {\n",
       "        vertical-align: top;\n",
       "    }\n",
       "\n",
       "    .dataframe thead th {\n",
       "        text-align: right;\n",
       "    }\n",
       "</style>\n",
       "<table border=\"1\" class=\"dataframe\">\n",
       "  <thead>\n",
       "    <tr style=\"text-align: right;\">\n",
       "      <th></th>\n",
       "      <th>station</th>\n",
       "      <th>% Change Foreign Born</th>\n",
       "      <th>Area</th>\n",
       "    </tr>\n",
       "  </thead>\n",
       "  <tbody>\n",
       "    <tr>\n",
       "      <th>0</th>\n",
       "      <td>East LA Civic Center</td>\n",
       "      <td>-4.862695</td>\n",
       "      <td>Station</td>\n",
       "    </tr>\n",
       "    <tr>\n",
       "      <th>1</th>\n",
       "      <td>East LA</td>\n",
       "      <td>NaN</td>\n",
       "      <td>Region</td>\n",
       "    </tr>\n",
       "    <tr>\n",
       "      <th>2</th>\n",
       "      <td>Mariachi</td>\n",
       "      <td>-5.466961</td>\n",
       "      <td>Station</td>\n",
       "    </tr>\n",
       "    <tr>\n",
       "      <th>3</th>\n",
       "      <td>Central East LA</td>\n",
       "      <td>NaN</td>\n",
       "      <td>Region</td>\n",
       "    </tr>\n",
       "    <tr>\n",
       "      <th>4</th>\n",
       "      <td>Chinatown</td>\n",
       "      <td>-7.647560</td>\n",
       "      <td>Station</td>\n",
       "    </tr>\n",
       "    <tr>\n",
       "      <th>5</th>\n",
       "      <td>Central LA</td>\n",
       "      <td>NaN</td>\n",
       "      <td>Region</td>\n",
       "    </tr>\n",
       "    <tr>\n",
       "      <th>6</th>\n",
       "      <td>Heritage</td>\n",
       "      <td>-2.705435</td>\n",
       "      <td>Station</td>\n",
       "    </tr>\n",
       "    <tr>\n",
       "      <th>7</th>\n",
       "      <td>Highland Park</td>\n",
       "      <td>-6.965553</td>\n",
       "      <td>Station</td>\n",
       "    </tr>\n",
       "    <tr>\n",
       "      <th>8</th>\n",
       "      <td>NELA</td>\n",
       "      <td>NaN</td>\n",
       "      <td>Region</td>\n",
       "    </tr>\n",
       "    <tr>\n",
       "      <th>9</th>\n",
       "      <td>Del Mar</td>\n",
       "      <td>2.267495</td>\n",
       "      <td>Station</td>\n",
       "    </tr>\n",
       "    <tr>\n",
       "      <th>10</th>\n",
       "      <td>Pasadena</td>\n",
       "      <td>NaN</td>\n",
       "      <td>Region</td>\n",
       "    </tr>\n",
       "    <tr>\n",
       "      <th>11</th>\n",
       "      <td>Arcadia</td>\n",
       "      <td>0.713924</td>\n",
       "      <td>Station</td>\n",
       "    </tr>\n",
       "    <tr>\n",
       "      <th>12</th>\n",
       "      <td>San Gabriel Valley</td>\n",
       "      <td>NaN</td>\n",
       "      <td>Region</td>\n",
       "    </tr>\n",
       "  </tbody>\n",
       "</table>\n",
       "</div>"
      ],
      "text/plain": [
       "                 station  % Change Foreign Born     Area\n",
       "0   East LA Civic Center              -4.862695  Station\n",
       "1                East LA                    NaN   Region\n",
       "2               Mariachi              -5.466961  Station\n",
       "3        Central East LA                    NaN   Region\n",
       "4              Chinatown              -7.647560  Station\n",
       "5             Central LA                    NaN   Region\n",
       "6               Heritage              -2.705435  Station\n",
       "7          Highland Park              -6.965553  Station\n",
       "8                   NELA                    NaN   Region\n",
       "9                Del Mar               2.267495  Station\n",
       "10              Pasadena                    NaN   Region\n",
       "11               Arcadia               0.713924  Station\n",
       "12    San Gabriel Valley                    NaN   Region"
      ]
     },
     "execution_count": 41,
     "metadata": {},
     "output_type": "execute_result"
    }
   ],
   "source": [
    "chart"
   ]
  },
  {
   "cell_type": "code",
   "execution_count": 46,
   "id": "265c3a92-77aa-40cf-92d2-fd45f80e73f4",
   "metadata": {},
   "outputs": [
    {
     "data": {
      "application/vnd.plotly.v1+json": {
       "config": {
        "plotlyServerURL": "https://plot.ly"
       },
       "data": [
        {
         "alignmentgroup": "True",
         "hovertemplate": "station=%{x}<br>% Change Foreign Born=%{y}<extra></extra>",
         "legendgroup": "",
         "marker": {
          "color": "#636efa",
          "pattern": {
           "shape": ""
          }
         },
         "name": "",
         "offsetgroup": "",
         "orientation": "v",
         "showlegend": false,
         "textposition": "auto",
         "type": "bar",
         "x": [
          "East LA Civic Center",
          "East LA",
          "Mariachi",
          "Central East LA",
          "Chinatown",
          "Central LA",
          "Heritage",
          "Highland Park",
          "NELA",
          "Del Mar",
          "Pasadena",
          "Arcadia",
          "San Gabriel Valley"
         ],
         "xaxis": "x",
         "y": [
          -4.86269537907496,
          null,
          -5.466961038984236,
          null,
          -7.647559802629328,
          null,
          -2.705435096592085,
          -6.965553366616273,
          null,
          2.267495460544877,
          null,
          0.7139241898669546,
          null
         ],
         "yaxis": "y"
        }
       ],
       "layout": {
        "autosize": true,
        "barmode": "group",
        "legend": {
         "tracegroupgap": 0
        },
        "template": {
         "data": {
          "bar": [
           {
            "error_x": {
             "color": "#2a3f5f"
            },
            "error_y": {
             "color": "#2a3f5f"
            },
            "marker": {
             "line": {
              "color": "#E5ECF6",
              "width": 0.5
             },
             "pattern": {
              "fillmode": "overlay",
              "size": 10,
              "solidity": 0.2
             }
            },
            "type": "bar"
           }
          ],
          "barpolar": [
           {
            "marker": {
             "line": {
              "color": "#E5ECF6",
              "width": 0.5
             },
             "pattern": {
              "fillmode": "overlay",
              "size": 10,
              "solidity": 0.2
             }
            },
            "type": "barpolar"
           }
          ],
          "carpet": [
           {
            "aaxis": {
             "endlinecolor": "#2a3f5f",
             "gridcolor": "white",
             "linecolor": "white",
             "minorgridcolor": "white",
             "startlinecolor": "#2a3f5f"
            },
            "baxis": {
             "endlinecolor": "#2a3f5f",
             "gridcolor": "white",
             "linecolor": "white",
             "minorgridcolor": "white",
             "startlinecolor": "#2a3f5f"
            },
            "type": "carpet"
           }
          ],
          "choropleth": [
           {
            "colorbar": {
             "outlinewidth": 0,
             "ticks": ""
            },
            "type": "choropleth"
           }
          ],
          "contour": [
           {
            "colorbar": {
             "outlinewidth": 0,
             "ticks": ""
            },
            "colorscale": [
             [
              0,
              "#0d0887"
             ],
             [
              0.1111111111111111,
              "#46039f"
             ],
             [
              0.2222222222222222,
              "#7201a8"
             ],
             [
              0.3333333333333333,
              "#9c179e"
             ],
             [
              0.4444444444444444,
              "#bd3786"
             ],
             [
              0.5555555555555556,
              "#d8576b"
             ],
             [
              0.6666666666666666,
              "#ed7953"
             ],
             [
              0.7777777777777778,
              "#fb9f3a"
             ],
             [
              0.8888888888888888,
              "#fdca26"
             ],
             [
              1,
              "#f0f921"
             ]
            ],
            "type": "contour"
           }
          ],
          "contourcarpet": [
           {
            "colorbar": {
             "outlinewidth": 0,
             "ticks": ""
            },
            "type": "contourcarpet"
           }
          ],
          "heatmap": [
           {
            "colorbar": {
             "outlinewidth": 0,
             "ticks": ""
            },
            "colorscale": [
             [
              0,
              "#0d0887"
             ],
             [
              0.1111111111111111,
              "#46039f"
             ],
             [
              0.2222222222222222,
              "#7201a8"
             ],
             [
              0.3333333333333333,
              "#9c179e"
             ],
             [
              0.4444444444444444,
              "#bd3786"
             ],
             [
              0.5555555555555556,
              "#d8576b"
             ],
             [
              0.6666666666666666,
              "#ed7953"
             ],
             [
              0.7777777777777778,
              "#fb9f3a"
             ],
             [
              0.8888888888888888,
              "#fdca26"
             ],
             [
              1,
              "#f0f921"
             ]
            ],
            "type": "heatmap"
           }
          ],
          "heatmapgl": [
           {
            "colorbar": {
             "outlinewidth": 0,
             "ticks": ""
            },
            "colorscale": [
             [
              0,
              "#0d0887"
             ],
             [
              0.1111111111111111,
              "#46039f"
             ],
             [
              0.2222222222222222,
              "#7201a8"
             ],
             [
              0.3333333333333333,
              "#9c179e"
             ],
             [
              0.4444444444444444,
              "#bd3786"
             ],
             [
              0.5555555555555556,
              "#d8576b"
             ],
             [
              0.6666666666666666,
              "#ed7953"
             ],
             [
              0.7777777777777778,
              "#fb9f3a"
             ],
             [
              0.8888888888888888,
              "#fdca26"
             ],
             [
              1,
              "#f0f921"
             ]
            ],
            "type": "heatmapgl"
           }
          ],
          "histogram": [
           {
            "marker": {
             "pattern": {
              "fillmode": "overlay",
              "size": 10,
              "solidity": 0.2
             }
            },
            "type": "histogram"
           }
          ],
          "histogram2d": [
           {
            "colorbar": {
             "outlinewidth": 0,
             "ticks": ""
            },
            "colorscale": [
             [
              0,
              "#0d0887"
             ],
             [
              0.1111111111111111,
              "#46039f"
             ],
             [
              0.2222222222222222,
              "#7201a8"
             ],
             [
              0.3333333333333333,
              "#9c179e"
             ],
             [
              0.4444444444444444,
              "#bd3786"
             ],
             [
              0.5555555555555556,
              "#d8576b"
             ],
             [
              0.6666666666666666,
              "#ed7953"
             ],
             [
              0.7777777777777778,
              "#fb9f3a"
             ],
             [
              0.8888888888888888,
              "#fdca26"
             ],
             [
              1,
              "#f0f921"
             ]
            ],
            "type": "histogram2d"
           }
          ],
          "histogram2dcontour": [
           {
            "colorbar": {
             "outlinewidth": 0,
             "ticks": ""
            },
            "colorscale": [
             [
              0,
              "#0d0887"
             ],
             [
              0.1111111111111111,
              "#46039f"
             ],
             [
              0.2222222222222222,
              "#7201a8"
             ],
             [
              0.3333333333333333,
              "#9c179e"
             ],
             [
              0.4444444444444444,
              "#bd3786"
             ],
             [
              0.5555555555555556,
              "#d8576b"
             ],
             [
              0.6666666666666666,
              "#ed7953"
             ],
             [
              0.7777777777777778,
              "#fb9f3a"
             ],
             [
              0.8888888888888888,
              "#fdca26"
             ],
             [
              1,
              "#f0f921"
             ]
            ],
            "type": "histogram2dcontour"
           }
          ],
          "mesh3d": [
           {
            "colorbar": {
             "outlinewidth": 0,
             "ticks": ""
            },
            "type": "mesh3d"
           }
          ],
          "parcoords": [
           {
            "line": {
             "colorbar": {
              "outlinewidth": 0,
              "ticks": ""
             }
            },
            "type": "parcoords"
           }
          ],
          "pie": [
           {
            "automargin": true,
            "type": "pie"
           }
          ],
          "scatter": [
           {
            "marker": {
             "colorbar": {
              "outlinewidth": 0,
              "ticks": ""
             }
            },
            "type": "scatter"
           }
          ],
          "scatter3d": [
           {
            "line": {
             "colorbar": {
              "outlinewidth": 0,
              "ticks": ""
             }
            },
            "marker": {
             "colorbar": {
              "outlinewidth": 0,
              "ticks": ""
             }
            },
            "type": "scatter3d"
           }
          ],
          "scattercarpet": [
           {
            "marker": {
             "colorbar": {
              "outlinewidth": 0,
              "ticks": ""
             }
            },
            "type": "scattercarpet"
           }
          ],
          "scattergeo": [
           {
            "marker": {
             "colorbar": {
              "outlinewidth": 0,
              "ticks": ""
             }
            },
            "type": "scattergeo"
           }
          ],
          "scattergl": [
           {
            "marker": {
             "colorbar": {
              "outlinewidth": 0,
              "ticks": ""
             }
            },
            "type": "scattergl"
           }
          ],
          "scattermapbox": [
           {
            "marker": {
             "colorbar": {
              "outlinewidth": 0,
              "ticks": ""
             }
            },
            "type": "scattermapbox"
           }
          ],
          "scatterpolar": [
           {
            "marker": {
             "colorbar": {
              "outlinewidth": 0,
              "ticks": ""
             }
            },
            "type": "scatterpolar"
           }
          ],
          "scatterpolargl": [
           {
            "marker": {
             "colorbar": {
              "outlinewidth": 0,
              "ticks": ""
             }
            },
            "type": "scatterpolargl"
           }
          ],
          "scatterternary": [
           {
            "marker": {
             "colorbar": {
              "outlinewidth": 0,
              "ticks": ""
             }
            },
            "type": "scatterternary"
           }
          ],
          "surface": [
           {
            "colorbar": {
             "outlinewidth": 0,
             "ticks": ""
            },
            "colorscale": [
             [
              0,
              "#0d0887"
             ],
             [
              0.1111111111111111,
              "#46039f"
             ],
             [
              0.2222222222222222,
              "#7201a8"
             ],
             [
              0.3333333333333333,
              "#9c179e"
             ],
             [
              0.4444444444444444,
              "#bd3786"
             ],
             [
              0.5555555555555556,
              "#d8576b"
             ],
             [
              0.6666666666666666,
              "#ed7953"
             ],
             [
              0.7777777777777778,
              "#fb9f3a"
             ],
             [
              0.8888888888888888,
              "#fdca26"
             ],
             [
              1,
              "#f0f921"
             ]
            ],
            "type": "surface"
           }
          ],
          "table": [
           {
            "cells": {
             "fill": {
              "color": "#EBF0F8"
             },
             "line": {
              "color": "white"
             }
            },
            "header": {
             "fill": {
              "color": "#C8D4E3"
             },
             "line": {
              "color": "white"
             }
            },
            "type": "table"
           }
          ]
         },
         "layout": {
          "annotationdefaults": {
           "arrowcolor": "#2a3f5f",
           "arrowhead": 0,
           "arrowwidth": 1
          },
          "autotypenumbers": "strict",
          "coloraxis": {
           "colorbar": {
            "outlinewidth": 0,
            "ticks": ""
           }
          },
          "colorscale": {
           "diverging": [
            [
             0,
             "#8e0152"
            ],
            [
             0.1,
             "#c51b7d"
            ],
            [
             0.2,
             "#de77ae"
            ],
            [
             0.3,
             "#f1b6da"
            ],
            [
             0.4,
             "#fde0ef"
            ],
            [
             0.5,
             "#f7f7f7"
            ],
            [
             0.6,
             "#e6f5d0"
            ],
            [
             0.7,
             "#b8e186"
            ],
            [
             0.8,
             "#7fbc41"
            ],
            [
             0.9,
             "#4d9221"
            ],
            [
             1,
             "#276419"
            ]
           ],
           "sequential": [
            [
             0,
             "#0d0887"
            ],
            [
             0.1111111111111111,
             "#46039f"
            ],
            [
             0.2222222222222222,
             "#7201a8"
            ],
            [
             0.3333333333333333,
             "#9c179e"
            ],
            [
             0.4444444444444444,
             "#bd3786"
            ],
            [
             0.5555555555555556,
             "#d8576b"
            ],
            [
             0.6666666666666666,
             "#ed7953"
            ],
            [
             0.7777777777777778,
             "#fb9f3a"
            ],
            [
             0.8888888888888888,
             "#fdca26"
            ],
            [
             1,
             "#f0f921"
            ]
           ],
           "sequentialminus": [
            [
             0,
             "#0d0887"
            ],
            [
             0.1111111111111111,
             "#46039f"
            ],
            [
             0.2222222222222222,
             "#7201a8"
            ],
            [
             0.3333333333333333,
             "#9c179e"
            ],
            [
             0.4444444444444444,
             "#bd3786"
            ],
            [
             0.5555555555555556,
             "#d8576b"
            ],
            [
             0.6666666666666666,
             "#ed7953"
            ],
            [
             0.7777777777777778,
             "#fb9f3a"
            ],
            [
             0.8888888888888888,
             "#fdca26"
            ],
            [
             1,
             "#f0f921"
            ]
           ]
          },
          "colorway": [
           "#636efa",
           "#EF553B",
           "#00cc96",
           "#ab63fa",
           "#FFA15A",
           "#19d3f3",
           "#FF6692",
           "#B6E880",
           "#FF97FF",
           "#FECB52"
          ],
          "font": {
           "color": "#2a3f5f"
          },
          "geo": {
           "bgcolor": "white",
           "lakecolor": "white",
           "landcolor": "#E5ECF6",
           "showlakes": true,
           "showland": true,
           "subunitcolor": "white"
          },
          "hoverlabel": {
           "align": "left"
          },
          "hovermode": "closest",
          "mapbox": {
           "style": "light"
          },
          "paper_bgcolor": "white",
          "plot_bgcolor": "#E5ECF6",
          "polar": {
           "angularaxis": {
            "gridcolor": "white",
            "linecolor": "white",
            "ticks": ""
           },
           "bgcolor": "#E5ECF6",
           "radialaxis": {
            "gridcolor": "white",
            "linecolor": "white",
            "ticks": ""
           }
          },
          "scene": {
           "xaxis": {
            "backgroundcolor": "#E5ECF6",
            "gridcolor": "white",
            "gridwidth": 2,
            "linecolor": "white",
            "showbackground": true,
            "ticks": "",
            "zerolinecolor": "white"
           },
           "yaxis": {
            "backgroundcolor": "#E5ECF6",
            "gridcolor": "white",
            "gridwidth": 2,
            "linecolor": "white",
            "showbackground": true,
            "ticks": "",
            "zerolinecolor": "white"
           },
           "zaxis": {
            "backgroundcolor": "#E5ECF6",
            "gridcolor": "white",
            "gridwidth": 2,
            "linecolor": "white",
            "showbackground": true,
            "ticks": "",
            "zerolinecolor": "white"
           }
          },
          "shapedefaults": {
           "line": {
            "color": "#2a3f5f"
           }
          },
          "ternary": {
           "aaxis": {
            "gridcolor": "white",
            "linecolor": "white",
            "ticks": ""
           },
           "baxis": {
            "gridcolor": "white",
            "linecolor": "white",
            "ticks": ""
           },
           "bgcolor": "#E5ECF6",
           "caxis": {
            "gridcolor": "white",
            "linecolor": "white",
            "ticks": ""
           }
          },
          "title": {
           "x": 0.05
          },
          "xaxis": {
           "automargin": true,
           "gridcolor": "white",
           "linecolor": "white",
           "ticks": "",
           "title": {
            "standoff": 15
           },
           "zerolinecolor": "white",
           "zerolinewidth": 2
          },
          "yaxis": {
           "automargin": true,
           "gridcolor": "white",
           "linecolor": "white",
           "ticks": "",
           "title": {
            "standoff": 15
           },
           "zerolinecolor": "white",
           "zerolinewidth": 2
          }
         }
        },
        "title": {
         "text": "Comparing % Change Foreign Born Between Station Areas and Regions"
        },
        "xaxis": {
         "anchor": "y",
         "autorange": true,
         "domain": [
          0,
          1
         ],
         "range": [
          -0.5,
          12.5
         ],
         "title": {
          "text": "Station / Region"
         },
         "type": "category"
        },
        "yaxis": {
         "anchor": "x",
         "autorange": true,
         "domain": [
          0,
          1
         ],
         "range": [
          -8.198396206139005,
          2.818331864054555
         ],
         "title": {
          "text": "% Change Foreign Born"
         },
         "type": "linear"
        }
       }
      },
      "image/png": "[encoded data removed]",
      "text/html": [
       "<div>                            <div id=\"2025aa2b-4b8c-4d01-8c53-d1ea7cb8a2bd\" class=\"plotly-graph-div\" style=\"height:600px; width:100%;\"></div>            <script type=\"text/javascript\">                require([\"plotly\"], function(Plotly) {                    window.PLOTLYENV=window.PLOTLYENV || {};                                    if (document.getElementById(\"2025aa2b-4b8c-4d01-8c53-d1ea7cb8a2bd\")) {                    Plotly.newPlot(                        \"2025aa2b-4b8c-4d01-8c53-d1ea7cb8a2bd\",                        [{\"alignmentgroup\":\"True\",\"hovertemplate\":\"station=%{x}<br>% Change Foreign Born=%{y}<extra></extra>\",\"legendgroup\":\"\",\"marker\":{\"color\":\"#636efa\",\"pattern\":{\"shape\":\"\"}},\"name\":\"\",\"offsetgroup\":\"\",\"orientation\":\"v\",\"showlegend\":false,\"textposition\":\"auto\",\"type\":\"bar\",\"x\":[\"East LA Civic Center\",\"East LA\",\"Mariachi\",\"Central East LA\",\"Chinatown\",\"Central LA\",\"Heritage\",\"Highland Park\",\"NELA\",\"Del Mar\",\"Pasadena\",\"Arcadia\",\"San Gabriel Valley\"],\"xaxis\":\"x\",\"y\":[-4.86269537907496,null,-5.466961038984236,null,-7.647559802629328,null,-2.705435096592085,-6.965553366616273,null,2.267495460544877,null,0.7139241898669546,null],\"yaxis\":\"y\"}],                        {\"barmode\":\"group\",\"height\":600,\"legend\":{\"tracegroupgap\":0},\"template\":{\"data\":{\"bar\":[{\"error_x\":{\"color\":\"#2a3f5f\"},\"error_y\":{\"color\":\"#2a3f5f\"},\"marker\":{\"line\":{\"color\":\"#E5ECF6\",\"width\":0.5},\"pattern\":{\"fillmode\":\"overlay\",\"size\":10,\"solidity\":0.2}},\"type\":\"bar\"}],\"barpolar\":[{\"marker\":{\"line\":{\"color\":\"#E5ECF6\",\"width\":0.5},\"pattern\":{\"fillmode\":\"overlay\",\"size\":10,\"solidity\":0.2}},\"type\":\"barpolar\"}],\"carpet\":[{\"aaxis\":{\"endlinecolor\":\"#2a3f5f\",\"gridcolor\":\"white\",\"linecolor\":\"white\",\"minorgridcolor\":\"white\",\"startlinecolor\":\"#2a3f5f\"},\"baxis\":{\"endlinecolor\":\"#2a3f5f\",\"gridcolor\":\"white\",\"linecolor\":\"white\",\"minorgridcolor\":\"white\",\"startlinecolor\":\"#2a3f5f\"},\"type\":\"carpet\"}],\"choropleth\":[{\"colorbar\":{\"outlinewidth\":0,\"ticks\":\"\"},\"type\":\"choropleth\"}],\"contour\":[{\"colorbar\":{\"outlinewidth\":0,\"ticks\":\"\"},\"colorscale\":[[0.0,\"#0d0887\"],[0.1111111111111111,\"#46039f\"],[0.2222222222222222,\"#7201a8\"],[0.3333333333333333,\"#9c179e\"],[0.4444444444444444,\"#bd3786\"],[0.5555555555555556,\"#d8576b\"],[0.6666666666666666,\"#ed7953\"],[0.7777777777777778,\"#fb9f3a\"],[0.8888888888888888,\"#fdca26\"],[1.0,\"#f0f921\"]],\"type\":\"contour\"}],\"contourcarpet\":[{\"colorbar\":{\"outlinewidth\":0,\"ticks\":\"\"},\"type\":\"contourcarpet\"}],\"heatmap\":[{\"colorbar\":{\"outlinewidth\":0,\"ticks\":\"\"},\"colorscale\":[[0.0,\"#0d0887\"],[0.1111111111111111,\"#46039f\"],[0.2222222222222222,\"#7201a8\"],[0.3333333333333333,\"#9c179e\"],[0.4444444444444444,\"#bd3786\"],[0.5555555555555556,\"#d8576b\"],[0.6666666666666666,\"#ed7953\"],[0.7777777777777778,\"#fb9f3a\"],[0.8888888888888888,\"#fdca26\"],[1.0,\"#f0f921\"]],\"type\":\"heatmap\"}],\"heatmapgl\":[{\"colorbar\":{\"outlinewidth\":0,\"ticks\":\"\"},\"colorscale\":[[0.0,\"#0d0887\"],[0.1111111111111111,\"#46039f\"],[0.2222222222222222,\"#7201a8\"],[0.3333333333333333,\"#9c179e\"],[0.4444444444444444,\"#bd3786\"],[0.5555555555555556,\"#d8576b\"],[0.6666666666666666,\"#ed7953\"],[0.7777777777777778,\"#fb9f3a\"],[0.8888888888888888,\"#fdca26\"],[1.0,\"#f0f921\"]],\"type\":\"heatmapgl\"}],\"histogram\":[{\"marker\":{\"pattern\":{\"fillmode\":\"overlay\",\"size\":10,\"solidity\":0.2}},\"type\":\"histogram\"}],\"histogram2d\":[{\"colorbar\":{\"outlinewidth\":0,\"ticks\":\"\"},\"colorscale\":[[0.0,\"#0d0887\"],[0.1111111111111111,\"#46039f\"],[0.2222222222222222,\"#7201a8\"],[0.3333333333333333,\"#9c179e\"],[0.4444444444444444,\"#bd3786\"],[0.5555555555555556,\"#d8576b\"],[0.6666666666666666,\"#ed7953\"],[0.7777777777777778,\"#fb9f3a\"],[0.8888888888888888,\"#fdca26\"],[1.0,\"#f0f921\"]],\"type\":\"histogram2d\"}],\"histogram2dcontour\":[{\"colorbar\":{\"outlinewidth\":0,\"ticks\":\"\"},\"colorscale\":[[0.0,\"#0d0887\"],[0.1111111111111111,\"#46039f\"],[0.2222222222222222,\"#7201a8\"],[0.3333333333333333,\"#9c179e\"],[0.4444444444444444,\"#bd3786\"],[0.5555555555555556,\"#d8576b\"],[0.6666666666666666,\"#ed7953\"],[0.7777777777777778,\"#fb9f3a\"],[0.8888888888888888,\"#fdca26\"],[1.0,\"#f0f921\"]],\"type\":\"histogram2dcontour\"}],\"mesh3d\":[{\"colorbar\":{\"outlinewidth\":0,\"ticks\":\"\"},\"type\":\"mesh3d\"}],\"parcoords\":[{\"line\":{\"colorbar\":{\"outlinewidth\":0,\"ticks\":\"\"}},\"type\":\"parcoords\"}],\"pie\":[{\"automargin\":true,\"type\":\"pie\"}],\"scatter\":[{\"marker\":{\"colorbar\":{\"outlinewidth\":0,\"ticks\":\"\"}},\"type\":\"scatter\"}],\"scatter3d\":[{\"line\":{\"colorbar\":{\"outlinewidth\":0,\"ticks\":\"\"}},\"marker\":{\"colorbar\":{\"outlinewidth\":0,\"ticks\":\"\"}},\"type\":\"scatter3d\"}],\"scattercarpet\":[{\"marker\":{\"colorbar\":{\"outlinewidth\":0,\"ticks\":\"\"}},\"type\":\"scattercarpet\"}],\"scattergeo\":[{\"marker\":{\"colorbar\":{\"outlinewidth\":0,\"ticks\":\"\"}},\"type\":\"scattergeo\"}],\"scattergl\":[{\"marker\":{\"colorbar\":{\"outlinewidth\":0,\"ticks\":\"\"}},\"type\":\"scattergl\"}],\"scattermapbox\":[{\"marker\":{\"colorbar\":{\"outlinewidth\":0,\"ticks\":\"\"}},\"type\":\"scattermapbox\"}],\"scatterpolar\":[{\"marker\":{\"colorbar\":{\"outlinewidth\":0,\"ticks\":\"\"}},\"type\":\"scatterpolar\"}],\"scatterpolargl\":[{\"marker\":{\"colorbar\":{\"outlinewidth\":0,\"ticks\":\"\"}},\"type\":\"scatterpolargl\"}],\"scatterternary\":[{\"marker\":{\"colorbar\":{\"outlinewidth\":0,\"ticks\":\"\"}},\"type\":\"scatterternary\"}],\"surface\":[{\"colorbar\":{\"outlinewidth\":0,\"ticks\":\"\"},\"colorscale\":[[0.0,\"#0d0887\"],[0.1111111111111111,\"#46039f\"],[0.2222222222222222,\"#7201a8\"],[0.3333333333333333,\"#9c179e\"],[0.4444444444444444,\"#bd3786\"],[0.5555555555555556,\"#d8576b\"],[0.6666666666666666,\"#ed7953\"],[0.7777777777777778,\"#fb9f3a\"],[0.8888888888888888,\"#fdca26\"],[1.0,\"#f0f921\"]],\"type\":\"surface\"}],\"table\":[{\"cells\":{\"fill\":{\"color\":\"#EBF0F8\"},\"line\":{\"color\":\"white\"}},\"header\":{\"fill\":{\"color\":\"#C8D4E3\"},\"line\":{\"color\":\"white\"}},\"type\":\"table\"}]},\"layout\":{\"annotationdefaults\":{\"arrowcolor\":\"#2a3f5f\",\"arrowhead\":0,\"arrowwidth\":1},\"autotypenumbers\":\"strict\",\"coloraxis\":{\"colorbar\":{\"outlinewidth\":0,\"ticks\":\"\"}},\"colorscale\":{\"diverging\":[[0,\"#8e0152\"],[0.1,\"#c51b7d\"],[0.2,\"#de77ae\"],[0.3,\"#f1b6da\"],[0.4,\"#fde0ef\"],[0.5,\"#f7f7f7\"],[0.6,\"#e6f5d0\"],[0.7,\"#b8e186\"],[0.8,\"#7fbc41\"],[0.9,\"#4d9221\"],[1,\"#276419\"]],\"sequential\":[[0.0,\"#0d0887\"],[0.1111111111111111,\"#46039f\"],[0.2222222222222222,\"#7201a8\"],[0.3333333333333333,\"#9c179e\"],[0.4444444444444444,\"#bd3786\"],[0.5555555555555556,\"#d8576b\"],[0.6666666666666666,\"#ed7953\"],[0.7777777777777778,\"#fb9f3a\"],[0.8888888888888888,\"#fdca26\"],[1.0,\"#f0f921\"]],\"sequentialminus\":[[0.0,\"#0d0887\"],[0.1111111111111111,\"#46039f\"],[0.2222222222222222,\"#7201a8\"],[0.3333333333333333,\"#9c179e\"],[0.4444444444444444,\"#bd3786\"],[0.5555555555555556,\"#d8576b\"],[0.6666666666666666,\"#ed7953\"],[0.7777777777777778,\"#fb9f3a\"],[0.8888888888888888,\"#fdca26\"],[1.0,\"#f0f921\"]]},\"colorway\":[\"#636efa\",\"#EF553B\",\"#00cc96\",\"#ab63fa\",\"#FFA15A\",\"#19d3f3\",\"#FF6692\",\"#B6E880\",\"#FF97FF\",\"#FECB52\"],\"font\":{\"color\":\"#2a3f5f\"},\"geo\":{\"bgcolor\":\"white\",\"lakecolor\":\"white\",\"landcolor\":\"#E5ECF6\",\"showlakes\":true,\"showland\":true,\"subunitcolor\":\"white\"},\"hoverlabel\":{\"align\":\"left\"},\"hovermode\":\"closest\",\"mapbox\":{\"style\":\"light\"},\"paper_bgcolor\":\"white\",\"plot_bgcolor\":\"#E5ECF6\",\"polar\":{\"angularaxis\":{\"gridcolor\":\"white\",\"linecolor\":\"white\",\"ticks\":\"\"},\"bgcolor\":\"#E5ECF6\",\"radialaxis\":{\"gridcolor\":\"white\",\"linecolor\":\"white\",\"ticks\":\"\"}},\"scene\":{\"xaxis\":{\"backgroundcolor\":\"#E5ECF6\",\"gridcolor\":\"white\",\"gridwidth\":2,\"linecolor\":\"white\",\"showbackground\":true,\"ticks\":\"\",\"zerolinecolor\":\"white\"},\"yaxis\":{\"backgroundcolor\":\"#E5ECF6\",\"gridcolor\":\"white\",\"gridwidth\":2,\"linecolor\":\"white\",\"showbackground\":true,\"ticks\":\"\",\"zerolinecolor\":\"white\"},\"zaxis\":{\"backgroundcolor\":\"#E5ECF6\",\"gridcolor\":\"white\",\"gridwidth\":2,\"linecolor\":\"white\",\"showbackground\":true,\"ticks\":\"\",\"zerolinecolor\":\"white\"}},\"shapedefaults\":{\"line\":{\"color\":\"#2a3f5f\"}},\"ternary\":{\"aaxis\":{\"gridcolor\":\"white\",\"linecolor\":\"white\",\"ticks\":\"\"},\"baxis\":{\"gridcolor\":\"white\",\"linecolor\":\"white\",\"ticks\":\"\"},\"bgcolor\":\"#E5ECF6\",\"caxis\":{\"gridcolor\":\"white\",\"linecolor\":\"white\",\"ticks\":\"\"}},\"title\":{\"x\":0.05},\"xaxis\":{\"automargin\":true,\"gridcolor\":\"white\",\"linecolor\":\"white\",\"ticks\":\"\",\"title\":{\"standoff\":15},\"zerolinecolor\":\"white\",\"zerolinewidth\":2},\"yaxis\":{\"automargin\":true,\"gridcolor\":\"white\",\"linecolor\":\"white\",\"ticks\":\"\",\"title\":{\"standoff\":15},\"zerolinecolor\":\"white\",\"zerolinewidth\":2}}},\"title\":{\"text\":\"Comparing % Change Foreign Born Between Station Areas and Regions\"},\"xaxis\":{\"anchor\":\"y\",\"domain\":[0.0,1.0],\"title\":{\"text\":\"Station / Region\"}},\"yaxis\":{\"anchor\":\"x\",\"domain\":[0.0,1.0],\"title\":{\"text\":\"% Change Foreign Born\"}}},                        {\"responsive\": true}                    ).then(function(){\n",
       "                            \n",
       "var gd = document.getElementById('2025aa2b-4b8c-4d01-8c53-d1ea7cb8a2bd');\n",
       "var x = new MutationObserver(function (mutations, observer) {{\n",
       "        var display = window.getComputedStyle(gd).display;\n",
       "        if (!display || display === 'none') {{\n",
       "            console.log([gd, 'removed!']);\n",
       "            Plotly.purge(gd);\n",
       "            observer.disconnect();\n",
       "        }}\n",
       "}});\n",
       "\n",
       "// Listen for the removal of the full notebook cells\n",
       "var notebookContainer = gd.closest('#notebook-container');\n",
       "if (notebookContainer) {{\n",
       "    x.observe(notebookContainer, {childList: true});\n",
       "}}\n",
       "\n",
       "// Listen for the clearing of the current output cell\n",
       "var outputEl = gd.closest('.output');\n",
       "if (outputEl) {{\n",
       "    x.observe(outputEl, {childList: true});\n",
       "}}\n",
       "\n",
       "                        })                };                });            </script>        </div>"
      ]
     },
     "metadata": {},
     "output_type": "display_data"
    }
   ],
   "source": [
    "fig = px.bar(chart, x='station', y='% Change Foreign Born',\n",
    "             barmode='group', \n",
    "             title='Comparing % Change Foreign Born Between Station Areas and Regions', \n",
    "             height=600)\n",
    "\n",
    "fig.update_layout(xaxis_title=\"Station / Region\")\n",
    "\n",
    "fig.show()"
   ]
  },
  {
   "cell_type": "code",
   "execution_count": null,
   "id": "553cb147-7e9f-4397-89e3-73fe10377eab",
   "metadata": {},
   "outputs": [],
   "source": []
  },
  {
   "cell_type": "code",
   "execution_count": null,
   "id": "9fa0dc91-9ab0-467b-b319-738fae16f007",
   "metadata": {},
   "outputs": [],
   "source": []
  },
  {
   "cell_type": "code",
   "execution_count": null,
   "id": "386e3d8e-b13c-499a-ba13-972758557c46",
   "metadata": {},
   "outputs": [],
   "source": [
    "df.info()"
   ]
  },
  {
   "cell_type": "markdown",
   "id": "aac48e05-1797-4eae-a03d-0650433aaad3",
   "metadata": {},
   "source": [
    "## 7 charts - comparison bar chart w/ station in one color and region in another, country of origin on x axis, percent change foreign born on y"
   ]
  },
  {
   "cell_type": "code",
   "execution_count": null,
   "id": "cb3e133b-bb77-411e-93d1-59c9364b7844",
   "metadata": {},
   "outputs": [],
   "source": [
    "stations = ['East LA Civic Center', 'Mariachi', 'Chinatown', 'Heritage', 'Highland Park', 'Del Mar', 'Arcadia']"
   ]
  },
  {
   "cell_type": "code",
   "execution_count": null,
   "id": "e2f383f5-de26-43b0-bb3a-4a7d22b0f8b2",
   "metadata": {},
   "outputs": [],
   "source": [
    "def stn_chart_country(station = 'East LA Civic Center'):\n",
    "\n",
    "    gdf = df[df[\"station\"].isin([station])]\n",
    "\n",
    "    # Creating our summation row, since we're not breaking it down by census tract\n",
    "    gdf = gdf.append(gdf.sum(numeric_only=True), ignore_index=True)\n",
    "\n",
    "    # Keeping only summation row\n",
    "    gdf = gdf.iloc[-1:]\n",
    "    \n",
    "    gdf = gdf.drop(columns=['FIPS', 'Census Tract'], axis=1)\n",
    "\n",
    "    gdf['Europe'] = gdf['19 Europe']/gdf['19 Total Population']*100\n",
    "    gdf['Asia'] = gdf['19 Asia']/gdf['19 Total Population']*100\n",
    "    gdf['Caribbean'] = gdf['19 Caribbean']/gdf['19 Total Population']*100\n",
    "    gdf['Mexico'] = gdf['19 Mexico']/gdf['19 Total Population']*100\n",
    "    gdf['Other Central America'] = gdf['19 Other Central America']/gdf['19 Total Population']*100\n",
    "    gdf['South America'] = gdf['19 South America']/gdf['19 Total Population']*100\n",
    "    gdf['Other Areas'] = gdf['19 Other Areas Entered 2010 or later']/gdf['19 Total Population']*100\n",
    "    \n",
    "    ctk = ['Europe',\n",
    "           'Asia',\n",
    "           'Caribbean',\n",
    "           'Mexico',\n",
    "           'Other Central America',\n",
    "           'South America',\n",
    "           'Other Areas']\n",
    "    \n",
    "    gdf = gdf[ctk]\n",
    "    \n",
    "    # Flipping rows and columns\n",
    "    gdf = gdf.transpose()\n",
    "    \n",
    "    # Reseting index\n",
    "    gdf = gdf.reset_index()\n",
    "    \n",
    "    # Renaming columns\n",
    "    gdf.columns = ['Country of Origin', '% of Total Foreign Born']\n",
    "    \n",
    "    display(gdf)\n",
    "    \n",
    "    fig = px.bar(gdf, x='Country of Origin', y='% of Total Foreign Born',\n",
    "              barmode='group',\n",
    "              title=station + \" Station % of Total Pop is Foreign Born\", \n",
    "              height=400)\n",
    "    \n",
    "    fig.update_yaxes(range=[0, 50])\n",
    "   \n",
    "    fig.show()\n",
    "\n",
    "for station in stations:\n",
    "    stn_chart_country(station = station)"
   ]
  },
  {
   "cell_type": "code",
   "execution_count": null,
   "id": "f7388a15-f75b-4632-9d49-33195b14167b",
   "metadata": {},
   "outputs": [],
   "source": []
  },
  {
   "cell_type": "code",
   "execution_count": null,
   "id": "d358fb60-49a7-40f5-b620-d324049ce90a",
   "metadata": {},
   "outputs": [],
   "source": []
  },
  {
   "cell_type": "code",
   "execution_count": null,
   "id": "83194cdc-a3ad-4c3b-8835-f7104437acab",
   "metadata": {},
   "outputs": [],
   "source": []
  },
  {
   "cell_type": "code",
   "execution_count": null,
   "id": "ec6b20a8-d2ce-45ad-8120-560d6472864c",
   "metadata": {},
   "outputs": [],
   "source": []
  },
  {
   "cell_type": "code",
   "execution_count": null,
   "id": "1f71e00d-603e-4e48-9352-fe1ca6c73b5f",
   "metadata": {},
   "outputs": [],
   "source": []
  },
  {
   "cell_type": "code",
   "execution_count": null,
   "id": "8a43b2e1-c1c5-46e4-8922-4d24670aba65",
   "metadata": {},
   "outputs": [],
   "source": []
  },
  {
   "cell_type": "code",
   "execution_count": null,
   "id": "00db6479-c9a7-42b4-a51e-45d3f25a6068",
   "metadata": {},
   "outputs": [],
   "source": []
  },
  {
   "cell_type": "code",
   "execution_count": null,
   "id": "7b5507eb-1704-48af-9e6a-cfbe6a526bfa",
   "metadata": {},
   "outputs": [],
   "source": []
  }
 ],
 "metadata": {
  "kernelspec": {
   "display_name": "Python 3 (ipykernel)",
   "language": "python",
   "name": "python3"
  },
  "language_info": {
   "codemirror_mode": {
    "name": "ipython",
    "version": 3
   },
   "file_extension": ".py",
   "mimetype": "text/x-python",
   "name": "python",
   "nbconvert_exporter": "python",
   "pygments_lexer": "ipython3",
   "version": "3.9.6"
  }
 },
 "nbformat": 4,
 "nbformat_minor": 5
}
