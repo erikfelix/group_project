{
 "cells": [
  {
   "cell_type": "code",
   "execution_count": 1,
   "id": "2fa8465f-88ed-4797-9381-6e7669c468b7",
   "metadata": {},
   "outputs": [
    {
     "name": "stderr",
     "output_type": "stream",
     "text": [
      "/opt/conda/lib/python3.9/site-packages/geopandas/_compat.py:106: UserWarning: The Shapely GEOS version (3.9.1-CAPI-1.14.2) is incompatible with the GEOS version PyGEOS was compiled with (3.10.1-CAPI-1.16.0). Conversions between both will be slow.\n",
      "  warnings.warn(\n"
     ]
    }
   ],
   "source": [
    "# to read and wrangle data\n",
    "import pandas as pd\n",
    "\n",
    "# to import data from LA Data portal\n",
    "from sodapy import Socrata\n",
    "\n",
    "# to create spatial data\n",
    "import geopandas as gpd\n",
    "\n",
    "# for basemaps\n",
    "import contextily as ctx\n",
    "\n",
    "# Graphics\n",
    "import matplotlib.pyplot as plt\n",
    "import plotly.express as px"
   ]
  },
  {
   "cell_type": "code",
   "execution_count": 2,
   "id": "955a964f-d873-4e2d-822d-49a2dbcc6172",
   "metadata": {},
   "outputs": [],
   "source": [
    "pd.set_option('display.max_columns', None)\n",
    "pd.set_option('display.max_rows', None)"
   ]
  },
  {
   "cell_type": "code",
   "execution_count": 3,
   "id": "a0d3c8f2-d50d-4a19-a990-cf071fa618c2",
   "metadata": {},
   "outputs": [],
   "source": [
    "df = gpd.read_file('acs2019_5yr_B05015_14000US06037222001.geojson')"
   ]
  },
  {
   "cell_type": "code",
   "execution_count": 4,
   "id": "0a4595e3-5347-4060-a403-6aa932e10ba8",
   "metadata": {},
   "outputs": [],
   "source": [
    "dft = gpd.read_file('acs2019_5yr_B01003_14000US06037222001.geojson')\n",
    "\n",
    "\n"
   ]
  },
  {
   "cell_type": "code",
   "execution_count": 5,
   "id": "c05b92aa-7f41-4a11-8da2-9a858f4ebab4",
   "metadata": {},
   "outputs": [],
   "source": [
    "gdf = pd.merge(df, dft)"
   ]
  },
  {
   "cell_type": "code",
   "execution_count": 6,
   "id": "ac745ace-da28-437f-904d-4d15f53fc66e",
   "metadata": {},
   "outputs": [
    {
     "data": {
      "text/html": [
       "<div>\n",
       "<style scoped>\n",
       "    .dataframe tbody tr th:only-of-type {\n",
       "        vertical-align: middle;\n",
       "    }\n",
       "\n",
       "    .dataframe tbody tr th {\n",
       "        vertical-align: top;\n",
       "    }\n",
       "\n",
       "    .dataframe thead th {\n",
       "        text-align: right;\n",
       "    }\n",
       "</style>\n",
       "<table border=\"1\" class=\"dataframe\">\n",
       "  <thead>\n",
       "    <tr style=\"text-align: right;\">\n",
       "      <th></th>\n",
       "      <th>geoid</th>\n",
       "      <th>name</th>\n",
       "      <th>B05015001</th>\n",
       "      <th>B05015001, Error</th>\n",
       "      <th>B05015002</th>\n",
       "      <th>B05015002, Error</th>\n",
       "      <th>B05015003</th>\n",
       "      <th>B05015003, Error</th>\n",
       "      <th>B05015004</th>\n",
       "      <th>B05015004, Error</th>\n",
       "      <th>B05015005</th>\n",
       "      <th>B05015005, Error</th>\n",
       "      <th>B05015006</th>\n",
       "      <th>B05015006, Error</th>\n",
       "      <th>B05015007</th>\n",
       "      <th>B05015007, Error</th>\n",
       "      <th>B05015008</th>\n",
       "      <th>B05015008, Error</th>\n",
       "      <th>B05015009</th>\n",
       "      <th>B05015009, Error</th>\n",
       "      <th>B05015010</th>\n",
       "      <th>B05015010, Error</th>\n",
       "      <th>B05015011</th>\n",
       "      <th>B05015011, Error</th>\n",
       "      <th>B05015012</th>\n",
       "      <th>B05015012, Error</th>\n",
       "      <th>B05015013</th>\n",
       "      <th>B05015013, Error</th>\n",
       "      <th>B05015014</th>\n",
       "      <th>B05015014, Error</th>\n",
       "      <th>B05015015</th>\n",
       "      <th>B05015015, Error</th>\n",
       "      <th>B05015016</th>\n",
       "      <th>B05015016, Error</th>\n",
       "      <th>B05015017</th>\n",
       "      <th>B05015017, Error</th>\n",
       "      <th>B05015018</th>\n",
       "      <th>B05015018, Error</th>\n",
       "      <th>B05015019</th>\n",
       "      <th>B05015019, Error</th>\n",
       "      <th>B05015020</th>\n",
       "      <th>B05015020, Error</th>\n",
       "      <th>B05015021</th>\n",
       "      <th>B05015021, Error</th>\n",
       "      <th>B05015022</th>\n",
       "      <th>B05015022, Error</th>\n",
       "      <th>B05015023</th>\n",
       "      <th>B05015023, Error</th>\n",
       "      <th>B05015024</th>\n",
       "      <th>B05015024, Error</th>\n",
       "      <th>B05015025</th>\n",
       "      <th>B05015025, Error</th>\n",
       "      <th>B05015026</th>\n",
       "      <th>B05015026, Error</th>\n",
       "      <th>B05015027</th>\n",
       "      <th>B05015027, Error</th>\n",
       "      <th>B05015028</th>\n",
       "      <th>B05015028, Error</th>\n",
       "      <th>B05015029</th>\n",
       "      <th>B05015029, Error</th>\n",
       "      <th>B05015030</th>\n",
       "      <th>B05015030, Error</th>\n",
       "      <th>B05015031</th>\n",
       "      <th>B05015031, Error</th>\n",
       "      <th>geometry</th>\n",
       "      <th>B01003001</th>\n",
       "      <th>B01003001, Error</th>\n",
       "    </tr>\n",
       "  </thead>\n",
       "  <tbody>\n",
       "    <tr>\n",
       "      <th>0</th>\n",
       "      <td>05000US06037</td>\n",
       "      <td>Los Angeles County, CA</td>\n",
       "      <td>3430507.0</td>\n",
       "      <td>14119.0</td>\n",
       "      <td>288054.0</td>\n",
       "      <td>4584.0</td>\n",
       "      <td>76162.0</td>\n",
       "      <td>2634.0</td>\n",
       "      <td>211892.0</td>\n",
       "      <td>3307.0</td>\n",
       "      <td>17332.0</td>\n",
       "      <td>1150.0</td>\n",
       "      <td>1356.0</td>\n",
       "      <td>370.0</td>\n",
       "      <td>15976.0</td>\n",
       "      <td>1018.0</td>\n",
       "      <td>12687.0</td>\n",
       "      <td>1417.0</td>\n",
       "      <td>2696.0</td>\n",
       "      <td>625.0</td>\n",
       "      <td>9991.0</td>\n",
       "      <td>1063.0</td>\n",
       "      <td>269579.0</td>\n",
       "      <td>5369.0</td>\n",
       "      <td>34555.0</td>\n",
       "      <td>2079.0</td>\n",
       "      <td>235024.0</td>\n",
       "      <td>4902.0</td>\n",
       "      <td>175586.0</td>\n",
       "      <td>4234.0</td>\n",
       "      <td>22808.0</td>\n",
       "      <td>1860.0</td>\n",
       "      <td>152778.0</td>\n",
       "      <td>3838.0</td>\n",
       "      <td>62139.0</td>\n",
       "      <td>2507.0</td>\n",
       "      <td>21956.0</td>\n",
       "      <td>1516.0</td>\n",
       "      <td>40183.0</td>\n",
       "      <td>2009.0</td>\n",
       "      <td>1277142.0</td>\n",
       "      <td>9235.0</td>\n",
       "      <td>65416.0</td>\n",
       "      <td>2586.0</td>\n",
       "      <td>1211726.0</td>\n",
       "      <td>9151.0</td>\n",
       "      <td>239804.0</td>\n",
       "      <td>4648.0</td>\n",
       "      <td>31931.0</td>\n",
       "      <td>1783.0</td>\n",
       "      <td>207873.0</td>\n",
       "      <td>3909.0</td>\n",
       "      <td>98409.0</td>\n",
       "      <td>2465.0</td>\n",
       "      <td>10841.0</td>\n",
       "      <td>1076.0</td>\n",
       "      <td>87568.0</td>\n",
       "      <td>2277.0</td>\n",
       "      <td>989775.0</td>\n",
       "      <td>8062.0</td>\n",
       "      <td>173834.0</td>\n",
       "      <td>3797.0</td>\n",
       "      <td>815941.0</td>\n",
       "      <td>6993.0</td>\n",
       "      <td>MULTIPOLYGON (((-118.70339 34.16859, -118.7033...</td>\n",
       "      <td>10081570.0</td>\n",
       "      <td>0.0</td>\n",
       "    </tr>\n",
       "    <tr>\n",
       "      <th>1</th>\n",
       "      <td>14000US06037101110</td>\n",
       "      <td>Census Tract 1011.10, Los Angeles, CA</td>\n",
       "      <td>1424.0</td>\n",
       "      <td>326.0</td>\n",
       "      <td>13.0</td>\n",
       "      <td>25.0</td>\n",
       "      <td>0.0</td>\n",
       "      <td>12.0</td>\n",
       "      <td>13.0</td>\n",
       "      <td>25.0</td>\n",
       "      <td>8.0</td>\n",
       "      <td>13.0</td>\n",
       "      <td>0.0</td>\n",
       "      <td>12.0</td>\n",
       "      <td>8.0</td>\n",
       "      <td>13.0</td>\n",
       "      <td>0.0</td>\n",
       "      <td>12.0</td>\n",
       "      <td>0.0</td>\n",
       "      <td>12.0</td>\n",
       "      <td>0.0</td>\n",
       "      <td>12.0</td>\n",
       "      <td>11.0</td>\n",
       "      <td>16.0</td>\n",
       "      <td>0.0</td>\n",
       "      <td>12.0</td>\n",
       "      <td>11.0</td>\n",
       "      <td>16.0</td>\n",
       "      <td>0.0</td>\n",
       "      <td>12.0</td>\n",
       "      <td>0.0</td>\n",
       "      <td>12.0</td>\n",
       "      <td>0.0</td>\n",
       "      <td>12.0</td>\n",
       "      <td>0.0</td>\n",
       "      <td>12.0</td>\n",
       "      <td>0.0</td>\n",
       "      <td>12.0</td>\n",
       "      <td>0.0</td>\n",
       "      <td>12.0</td>\n",
       "      <td>310.0</td>\n",
       "      <td>218.0</td>\n",
       "      <td>26.0</td>\n",
       "      <td>37.0</td>\n",
       "      <td>284.0</td>\n",
       "      <td>193.0</td>\n",
       "      <td>172.0</td>\n",
       "      <td>94.0</td>\n",
       "      <td>61.0</td>\n",
       "      <td>92.0</td>\n",
       "      <td>111.0</td>\n",
       "      <td>64.0</td>\n",
       "      <td>0.0</td>\n",
       "      <td>12.0</td>\n",
       "      <td>0.0</td>\n",
       "      <td>12.0</td>\n",
       "      <td>0.0</td>\n",
       "      <td>12.0</td>\n",
       "      <td>910.0</td>\n",
       "      <td>256.0</td>\n",
       "      <td>130.0</td>\n",
       "      <td>79.0</td>\n",
       "      <td>780.0</td>\n",
       "      <td>249.0</td>\n",
       "      <td>MULTIPOLYGON (((-118.30229 34.25870, -118.3009...</td>\n",
       "      <td>4283.0</td>\n",
       "      <td>443.0</td>\n",
       "    </tr>\n",
       "    <tr>\n",
       "      <th>2</th>\n",
       "      <td>14000US06037101122</td>\n",
       "      <td>Census Tract 1011.22, Los Angeles, CA</td>\n",
       "      <td>810.0</td>\n",
       "      <td>180.0</td>\n",
       "      <td>0.0</td>\n",
       "      <td>12.0</td>\n",
       "      <td>0.0</td>\n",
       "      <td>12.0</td>\n",
       "      <td>0.0</td>\n",
       "      <td>12.0</td>\n",
       "      <td>0.0</td>\n",
       "      <td>12.0</td>\n",
       "      <td>0.0</td>\n",
       "      <td>12.0</td>\n",
       "      <td>0.0</td>\n",
       "      <td>12.0</td>\n",
       "      <td>18.0</td>\n",
       "      <td>28.0</td>\n",
       "      <td>9.0</td>\n",
       "      <td>15.0</td>\n",
       "      <td>9.0</td>\n",
       "      <td>14.0</td>\n",
       "      <td>24.0</td>\n",
       "      <td>45.0</td>\n",
       "      <td>0.0</td>\n",
       "      <td>12.0</td>\n",
       "      <td>24.0</td>\n",
       "      <td>45.0</td>\n",
       "      <td>0.0</td>\n",
       "      <td>12.0</td>\n",
       "      <td>0.0</td>\n",
       "      <td>12.0</td>\n",
       "      <td>0.0</td>\n",
       "      <td>12.0</td>\n",
       "      <td>0.0</td>\n",
       "      <td>12.0</td>\n",
       "      <td>0.0</td>\n",
       "      <td>12.0</td>\n",
       "      <td>0.0</td>\n",
       "      <td>12.0</td>\n",
       "      <td>0.0</td>\n",
       "      <td>12.0</td>\n",
       "      <td>0.0</td>\n",
       "      <td>12.0</td>\n",
       "      <td>0.0</td>\n",
       "      <td>12.0</td>\n",
       "      <td>78.0</td>\n",
       "      <td>94.0</td>\n",
       "      <td>0.0</td>\n",
       "      <td>12.0</td>\n",
       "      <td>78.0</td>\n",
       "      <td>94.0</td>\n",
       "      <td>0.0</td>\n",
       "      <td>12.0</td>\n",
       "      <td>0.0</td>\n",
       "      <td>12.0</td>\n",
       "      <td>0.0</td>\n",
       "      <td>12.0</td>\n",
       "      <td>690.0</td>\n",
       "      <td>149.0</td>\n",
       "      <td>36.0</td>\n",
       "      <td>36.0</td>\n",
       "      <td>654.0</td>\n",
       "      <td>140.0</td>\n",
       "      <td>MULTIPOLYGON (((-118.30334 34.27371, -118.3033...</td>\n",
       "      <td>3405.0</td>\n",
       "      <td>334.0</td>\n",
       "    </tr>\n",
       "    <tr>\n",
       "      <th>3</th>\n",
       "      <td>14000US06037101210</td>\n",
       "      <td>Census Tract 1012.10, Los Angeles, CA</td>\n",
       "      <td>3167.0</td>\n",
       "      <td>438.0</td>\n",
       "      <td>0.0</td>\n",
       "      <td>17.0</td>\n",
       "      <td>0.0</td>\n",
       "      <td>17.0</td>\n",
       "      <td>0.0</td>\n",
       "      <td>17.0</td>\n",
       "      <td>0.0</td>\n",
       "      <td>17.0</td>\n",
       "      <td>0.0</td>\n",
       "      <td>17.0</td>\n",
       "      <td>0.0</td>\n",
       "      <td>17.0</td>\n",
       "      <td>53.0</td>\n",
       "      <td>48.0</td>\n",
       "      <td>0.0</td>\n",
       "      <td>17.0</td>\n",
       "      <td>53.0</td>\n",
       "      <td>48.0</td>\n",
       "      <td>226.0</td>\n",
       "      <td>175.0</td>\n",
       "      <td>0.0</td>\n",
       "      <td>17.0</td>\n",
       "      <td>226.0</td>\n",
       "      <td>175.0</td>\n",
       "      <td>259.0</td>\n",
       "      <td>228.0</td>\n",
       "      <td>73.0</td>\n",
       "      <td>113.0</td>\n",
       "      <td>186.0</td>\n",
       "      <td>141.0</td>\n",
       "      <td>0.0</td>\n",
       "      <td>17.0</td>\n",
       "      <td>0.0</td>\n",
       "      <td>17.0</td>\n",
       "      <td>0.0</td>\n",
       "      <td>17.0</td>\n",
       "      <td>499.0</td>\n",
       "      <td>264.0</td>\n",
       "      <td>0.0</td>\n",
       "      <td>17.0</td>\n",
       "      <td>499.0</td>\n",
       "      <td>264.0</td>\n",
       "      <td>76.0</td>\n",
       "      <td>105.0</td>\n",
       "      <td>0.0</td>\n",
       "      <td>17.0</td>\n",
       "      <td>76.0</td>\n",
       "      <td>105.0</td>\n",
       "      <td>0.0</td>\n",
       "      <td>17.0</td>\n",
       "      <td>0.0</td>\n",
       "      <td>17.0</td>\n",
       "      <td>0.0</td>\n",
       "      <td>17.0</td>\n",
       "      <td>2054.0</td>\n",
       "      <td>299.0</td>\n",
       "      <td>198.0</td>\n",
       "      <td>182.0</td>\n",
       "      <td>1856.0</td>\n",
       "      <td>279.0</td>\n",
       "      <td>MULTIPOLYGON (((-118.29945 34.25598, -118.2979...</td>\n",
       "      <td>6347.0</td>\n",
       "      <td>484.0</td>\n",
       "    </tr>\n",
       "    <tr>\n",
       "      <th>4</th>\n",
       "      <td>14000US06037101220</td>\n",
       "      <td>Census Tract 1012.20, Los Angeles, CA</td>\n",
       "      <td>1749.0</td>\n",
       "      <td>251.0</td>\n",
       "      <td>0.0</td>\n",
       "      <td>12.0</td>\n",
       "      <td>0.0</td>\n",
       "      <td>12.0</td>\n",
       "      <td>0.0</td>\n",
       "      <td>12.0</td>\n",
       "      <td>29.0</td>\n",
       "      <td>31.0</td>\n",
       "      <td>0.0</td>\n",
       "      <td>12.0</td>\n",
       "      <td>29.0</td>\n",
       "      <td>31.0</td>\n",
       "      <td>36.0</td>\n",
       "      <td>56.0</td>\n",
       "      <td>0.0</td>\n",
       "      <td>12.0</td>\n",
       "      <td>36.0</td>\n",
       "      <td>56.0</td>\n",
       "      <td>54.0</td>\n",
       "      <td>72.0</td>\n",
       "      <td>25.0</td>\n",
       "      <td>40.0</td>\n",
       "      <td>29.0</td>\n",
       "      <td>34.0</td>\n",
       "      <td>82.0</td>\n",
       "      <td>77.0</td>\n",
       "      <td>0.0</td>\n",
       "      <td>12.0</td>\n",
       "      <td>82.0</td>\n",
       "      <td>77.0</td>\n",
       "      <td>15.0</td>\n",
       "      <td>20.0</td>\n",
       "      <td>0.0</td>\n",
       "      <td>12.0</td>\n",
       "      <td>15.0</td>\n",
       "      <td>20.0</td>\n",
       "      <td>334.0</td>\n",
       "      <td>126.0</td>\n",
       "      <td>0.0</td>\n",
       "      <td>12.0</td>\n",
       "      <td>334.0</td>\n",
       "      <td>126.0</td>\n",
       "      <td>79.0</td>\n",
       "      <td>46.0</td>\n",
       "      <td>12.0</td>\n",
       "      <td>18.0</td>\n",
       "      <td>67.0</td>\n",
       "      <td>43.0</td>\n",
       "      <td>0.0</td>\n",
       "      <td>12.0</td>\n",
       "      <td>0.0</td>\n",
       "      <td>12.0</td>\n",
       "      <td>0.0</td>\n",
       "      <td>12.0</td>\n",
       "      <td>1120.0</td>\n",
       "      <td>252.0</td>\n",
       "      <td>147.0</td>\n",
       "      <td>118.0</td>\n",
       "      <td>973.0</td>\n",
       "      <td>226.0</td>\n",
       "      <td>MULTIPOLYGON (((-118.28593 34.25227, -118.2859...</td>\n",
       "      <td>3702.0</td>\n",
       "      <td>276.0</td>\n",
       "    </tr>\n",
       "  </tbody>\n",
       "</table>\n",
       "</div>"
      ],
      "text/plain": [
       "                geoid                                   name  B05015001  \\\n",
       "0        05000US06037                 Los Angeles County, CA  3430507.0   \n",
       "1  14000US06037101110  Census Tract 1011.10, Los Angeles, CA     1424.0   \n",
       "2  14000US06037101122  Census Tract 1011.22, Los Angeles, CA      810.0   \n",
       "3  14000US06037101210  Census Tract 1012.10, Los Angeles, CA     3167.0   \n",
       "4  14000US06037101220  Census Tract 1012.20, Los Angeles, CA     1749.0   \n",
       "\n",
       "   B05015001, Error  B05015002  B05015002, Error  B05015003  B05015003, Error  \\\n",
       "0           14119.0   288054.0            4584.0    76162.0            2634.0   \n",
       "1             326.0       13.0              25.0        0.0              12.0   \n",
       "2             180.0        0.0              12.0        0.0              12.0   \n",
       "3             438.0        0.0              17.0        0.0              17.0   \n",
       "4             251.0        0.0              12.0        0.0              12.0   \n",
       "\n",
       "   B05015004  B05015004, Error  B05015005  B05015005, Error  B05015006  \\\n",
       "0   211892.0            3307.0    17332.0            1150.0     1356.0   \n",
       "1       13.0              25.0        8.0              13.0        0.0   \n",
       "2        0.0              12.0        0.0              12.0        0.0   \n",
       "3        0.0              17.0        0.0              17.0        0.0   \n",
       "4        0.0              12.0       29.0              31.0        0.0   \n",
       "\n",
       "   B05015006, Error  B05015007  B05015007, Error  B05015008  B05015008, Error  \\\n",
       "0             370.0    15976.0            1018.0    12687.0            1417.0   \n",
       "1              12.0        8.0              13.0        0.0              12.0   \n",
       "2              12.0        0.0              12.0       18.0              28.0   \n",
       "3              17.0        0.0              17.0       53.0              48.0   \n",
       "4              12.0       29.0              31.0       36.0              56.0   \n",
       "\n",
       "   B05015009  B05015009, Error  B05015010  B05015010, Error  B05015011  \\\n",
       "0     2696.0             625.0     9991.0            1063.0   269579.0   \n",
       "1        0.0              12.0        0.0              12.0       11.0   \n",
       "2        9.0              15.0        9.0              14.0       24.0   \n",
       "3        0.0              17.0       53.0              48.0      226.0   \n",
       "4        0.0              12.0       36.0              56.0       54.0   \n",
       "\n",
       "   B05015011, Error  B05015012  B05015012, Error  B05015013  B05015013, Error  \\\n",
       "0            5369.0    34555.0            2079.0   235024.0            4902.0   \n",
       "1              16.0        0.0              12.0       11.0              16.0   \n",
       "2              45.0        0.0              12.0       24.0              45.0   \n",
       "3             175.0        0.0              17.0      226.0             175.0   \n",
       "4              72.0       25.0              40.0       29.0              34.0   \n",
       "\n",
       "   B05015014  B05015014, Error  B05015015  B05015015, Error  B05015016  \\\n",
       "0   175586.0            4234.0    22808.0            1860.0   152778.0   \n",
       "1        0.0              12.0        0.0              12.0        0.0   \n",
       "2        0.0              12.0        0.0              12.0        0.0   \n",
       "3      259.0             228.0       73.0             113.0      186.0   \n",
       "4       82.0              77.0        0.0              12.0       82.0   \n",
       "\n",
       "   B05015016, Error  B05015017  B05015017, Error  B05015018  B05015018, Error  \\\n",
       "0            3838.0    62139.0            2507.0    21956.0            1516.0   \n",
       "1              12.0        0.0              12.0        0.0              12.0   \n",
       "2              12.0        0.0              12.0        0.0              12.0   \n",
       "3             141.0        0.0              17.0        0.0              17.0   \n",
       "4              77.0       15.0              20.0        0.0              12.0   \n",
       "\n",
       "   B05015019  B05015019, Error  B05015020  B05015020, Error  B05015021  \\\n",
       "0    40183.0            2009.0  1277142.0            9235.0    65416.0   \n",
       "1        0.0              12.0      310.0             218.0       26.0   \n",
       "2        0.0              12.0        0.0              12.0        0.0   \n",
       "3        0.0              17.0      499.0             264.0        0.0   \n",
       "4       15.0              20.0      334.0             126.0        0.0   \n",
       "\n",
       "   B05015021, Error  B05015022  B05015022, Error  B05015023  B05015023, Error  \\\n",
       "0            2586.0  1211726.0            9151.0   239804.0            4648.0   \n",
       "1              37.0      284.0             193.0      172.0              94.0   \n",
       "2              12.0        0.0              12.0       78.0              94.0   \n",
       "3              17.0      499.0             264.0       76.0             105.0   \n",
       "4              12.0      334.0             126.0       79.0              46.0   \n",
       "\n",
       "   B05015024  B05015024, Error  B05015025  B05015025, Error  B05015026  \\\n",
       "0    31931.0            1783.0   207873.0            3909.0    98409.0   \n",
       "1       61.0              92.0      111.0              64.0        0.0   \n",
       "2        0.0              12.0       78.0              94.0        0.0   \n",
       "3        0.0              17.0       76.0             105.0        0.0   \n",
       "4       12.0              18.0       67.0              43.0        0.0   \n",
       "\n",
       "   B05015026, Error  B05015027  B05015027, Error  B05015028  B05015028, Error  \\\n",
       "0            2465.0    10841.0            1076.0    87568.0            2277.0   \n",
       "1              12.0        0.0              12.0        0.0              12.0   \n",
       "2              12.0        0.0              12.0        0.0              12.0   \n",
       "3              17.0        0.0              17.0        0.0              17.0   \n",
       "4              12.0        0.0              12.0        0.0              12.0   \n",
       "\n",
       "   B05015029  B05015029, Error  B05015030  B05015030, Error  B05015031  \\\n",
       "0   989775.0            8062.0   173834.0            3797.0   815941.0   \n",
       "1      910.0             256.0      130.0              79.0      780.0   \n",
       "2      690.0             149.0       36.0              36.0      654.0   \n",
       "3     2054.0             299.0      198.0             182.0     1856.0   \n",
       "4     1120.0             252.0      147.0             118.0      973.0   \n",
       "\n",
       "   B05015031, Error                                           geometry  \\\n",
       "0            6993.0  MULTIPOLYGON (((-118.70339 34.16859, -118.7033...   \n",
       "1             249.0  MULTIPOLYGON (((-118.30229 34.25870, -118.3009...   \n",
       "2             140.0  MULTIPOLYGON (((-118.30334 34.27371, -118.3033...   \n",
       "3             279.0  MULTIPOLYGON (((-118.29945 34.25598, -118.2979...   \n",
       "4             226.0  MULTIPOLYGON (((-118.28593 34.25227, -118.2859...   \n",
       "\n",
       "    B01003001  B01003001, Error  \n",
       "0  10081570.0               0.0  \n",
       "1      4283.0             443.0  \n",
       "2      3405.0             334.0  \n",
       "3      6347.0             484.0  \n",
       "4      3702.0             276.0  "
      ]
     },
     "execution_count": 6,
     "metadata": {},
     "output_type": "execute_result"
    }
   ],
   "source": [
    "gdf.head()"
   ]
  },
  {
   "cell_type": "code",
   "execution_count": 7,
   "id": "96f96e92-f3b3-4cdc-87b4-6ca0cb4fd51d",
   "metadata": {},
   "outputs": [],
   "source": [
    "#Dropping margin for error\n",
    "\n",
    "gdf = gdf.drop(columns=['B05015001, Error', \n",
    "                 'B05015002, Error', \n",
    "                 'B05015003, Error', \n",
    "                 'B05015004, Error', \n",
    "                 'B05015005, Error', \n",
    "                 'B05015006, Error', \n",
    "                 'B05015007, Error', \n",
    "                 'B05015008, Error', \n",
    "                 'B05015009, Error', \n",
    "                 'B05015010, Error', \n",
    "                 'B05015011, Error',\n",
    "                 'B05015012, Error', \n",
    "                 'B05015013, Error', \n",
    "                 'B05015014, Error',\n",
    "                 'B05015015, Error',\n",
    "                 'B05015016, Error',\n",
    "                 'B05015017, Error',\n",
    "                 'B05015018, Error',\n",
    "                 'B05015019, Error',\n",
    "                 'B05015020, Error',\n",
    "                 'B05015021, Error',\n",
    "                 'B05015022, Error',\n",
    "                 'B05015023, Error',\n",
    "                 'B05015024, Error',\n",
    "                 'B05015025, Error',\n",
    "                 'B05015026, Error',\n",
    "                 'B05015027, Error',\n",
    "                 'B05015028, Error',\n",
    "                 'B05015029, Error',\n",
    "                 'B05015030, Error',\n",
    "                 'B05015031, Error',\n",
    "                 'B01003001, Error'])"
   ]
  },
  {
   "cell_type": "code",
   "execution_count": 8,
   "id": "d00c3b58-519e-4d98-be55-ad7131e0d360",
   "metadata": {},
   "outputs": [],
   "source": [
    "#Renaming our columns\n",
    "\n",
    "gdf.columns = [\n",
    " 'geoid',\n",
    " 'name',\n",
    " 'Total Foreign Born',\n",
    " 'China, Hong Kong, Taiwan',\n",
    " 'China et al Entered 2010 or later',\n",
    " 'China et al Before 2010',\n",
    " 'Cuba',\n",
    " 'Cuba Entered 2010 or later',\n",
    " 'Cuba Entered Before 2010',\n",
    " 'Dominican Republic',\n",
    " 'D.R. Entered 2010 or later',\n",
    " 'D.R. Entered Before 2010',\n",
    " 'El Salvador',\n",
    " 'E.S. Entered 2010 or later',\n",
    " 'E.S. Entered Before 2010',        \n",
    " 'Guatemala',\n",
    " 'Guatemala Entered 2010 or later',\n",
    " 'Guatemala Entered Before 2010',   \n",
    " 'India',\n",
    " 'India Entered 2010 or later',\n",
    " 'India Entered Before 2010', \n",
    " 'Mexico',\n",
    " 'Mexico Entered 2010 or later',\n",
    " 'Mexico Entered Before 2010', \n",
    " 'Philippines',\n",
    " 'Philippines Entered 2010 or later',\n",
    " 'Philippines Entered Before 2010', \n",
    " 'Vietnam',\n",
    " 'Vietnam Entered 2010 or later',\n",
    " 'Vietnam Entered Before 2010', \n",
    " 'All Other Countries',\n",
    " 'A.O.C. Entered 2010 or later',\n",
    " 'A.O.C. Entered Before 2010', \n",
    " 'geometry',\n",
    " 'Total Population']"
   ]
  },
  {
   "cell_type": "code",
   "execution_count": null,
   "id": "293cccd3-6106-4b6e-9d7e-f4a0e8871143",
   "metadata": {},
   "outputs": [],
   "source": []
  },
  {
   "cell_type": "code",
   "execution_count": 9,
   "id": "951f1ec9-214d-4c22-acf6-d57c8fa7e047",
   "metadata": {},
   "outputs": [
    {
     "data": {
      "text/html": [
       "<div>\n",
       "<style scoped>\n",
       "    .dataframe tbody tr th:only-of-type {\n",
       "        vertical-align: middle;\n",
       "    }\n",
       "\n",
       "    .dataframe tbody tr th {\n",
       "        vertical-align: top;\n",
       "    }\n",
       "\n",
       "    .dataframe thead th {\n",
       "        text-align: right;\n",
       "    }\n",
       "</style>\n",
       "<table border=\"1\" class=\"dataframe\">\n",
       "  <thead>\n",
       "    <tr style=\"text-align: right;\">\n",
       "      <th></th>\n",
       "      <th>geoid</th>\n",
       "      <th>name</th>\n",
       "      <th>Total Foreign Born</th>\n",
       "      <th>China, Hong Kong, Taiwan</th>\n",
       "      <th>China et al Entered 2010 or later</th>\n",
       "      <th>China et al Before 2010</th>\n",
       "      <th>Cuba</th>\n",
       "      <th>Cuba Entered 2010 or later</th>\n",
       "      <th>Cuba Entered Before 2010</th>\n",
       "      <th>Dominican Republic</th>\n",
       "      <th>D.R. Entered 2010 or later</th>\n",
       "      <th>D.R. Entered Before 2010</th>\n",
       "      <th>El Salvador</th>\n",
       "      <th>E.S. Entered 2010 or later</th>\n",
       "      <th>E.S. Entered Before 2010</th>\n",
       "      <th>Guatemala</th>\n",
       "      <th>Guatemala Entered 2010 or later</th>\n",
       "      <th>Guatemala Entered Before 2010</th>\n",
       "      <th>India</th>\n",
       "      <th>India Entered 2010 or later</th>\n",
       "      <th>India Entered Before 2010</th>\n",
       "      <th>Mexico</th>\n",
       "      <th>Mexico Entered 2010 or later</th>\n",
       "      <th>Mexico Entered Before 2010</th>\n",
       "      <th>Philippines</th>\n",
       "      <th>Philippines Entered 2010 or later</th>\n",
       "      <th>Philippines Entered Before 2010</th>\n",
       "      <th>Vietnam</th>\n",
       "      <th>Vietnam Entered 2010 or later</th>\n",
       "      <th>Vietnam Entered Before 2010</th>\n",
       "      <th>All Other Countries</th>\n",
       "      <th>A.O.C. Entered 2010 or later</th>\n",
       "      <th>A.O.C. Entered Before 2010</th>\n",
       "      <th>geometry</th>\n",
       "      <th>Total Population</th>\n",
       "    </tr>\n",
       "  </thead>\n",
       "  <tbody>\n",
       "    <tr>\n",
       "      <th>0</th>\n",
       "      <td>05000US06037</td>\n",
       "      <td>Los Angeles County, CA</td>\n",
       "      <td>3430507.0</td>\n",
       "      <td>288054.0</td>\n",
       "      <td>76162.0</td>\n",
       "      <td>211892.0</td>\n",
       "      <td>17332.0</td>\n",
       "      <td>1356.0</td>\n",
       "      <td>15976.0</td>\n",
       "      <td>12687.0</td>\n",
       "      <td>2696.0</td>\n",
       "      <td>9991.0</td>\n",
       "      <td>269579.0</td>\n",
       "      <td>34555.0</td>\n",
       "      <td>235024.0</td>\n",
       "      <td>175586.0</td>\n",
       "      <td>22808.0</td>\n",
       "      <td>152778.0</td>\n",
       "      <td>62139.0</td>\n",
       "      <td>21956.0</td>\n",
       "      <td>40183.0</td>\n",
       "      <td>1277142.0</td>\n",
       "      <td>65416.0</td>\n",
       "      <td>1211726.0</td>\n",
       "      <td>239804.0</td>\n",
       "      <td>31931.0</td>\n",
       "      <td>207873.0</td>\n",
       "      <td>98409.0</td>\n",
       "      <td>10841.0</td>\n",
       "      <td>87568.0</td>\n",
       "      <td>989775.0</td>\n",
       "      <td>173834.0</td>\n",
       "      <td>815941.0</td>\n",
       "      <td>MULTIPOLYGON (((-118.70339 34.16859, -118.7033...</td>\n",
       "      <td>10081570.0</td>\n",
       "    </tr>\n",
       "    <tr>\n",
       "      <th>1</th>\n",
       "      <td>14000US06037101110</td>\n",
       "      <td>Census Tract 1011.10, Los Angeles, CA</td>\n",
       "      <td>1424.0</td>\n",
       "      <td>13.0</td>\n",
       "      <td>0.0</td>\n",
       "      <td>13.0</td>\n",
       "      <td>8.0</td>\n",
       "      <td>0.0</td>\n",
       "      <td>8.0</td>\n",
       "      <td>0.0</td>\n",
       "      <td>0.0</td>\n",
       "      <td>0.0</td>\n",
       "      <td>11.0</td>\n",
       "      <td>0.0</td>\n",
       "      <td>11.0</td>\n",
       "      <td>0.0</td>\n",
       "      <td>0.0</td>\n",
       "      <td>0.0</td>\n",
       "      <td>0.0</td>\n",
       "      <td>0.0</td>\n",
       "      <td>0.0</td>\n",
       "      <td>310.0</td>\n",
       "      <td>26.0</td>\n",
       "      <td>284.0</td>\n",
       "      <td>172.0</td>\n",
       "      <td>61.0</td>\n",
       "      <td>111.0</td>\n",
       "      <td>0.0</td>\n",
       "      <td>0.0</td>\n",
       "      <td>0.0</td>\n",
       "      <td>910.0</td>\n",
       "      <td>130.0</td>\n",
       "      <td>780.0</td>\n",
       "      <td>MULTIPOLYGON (((-118.30229 34.25870, -118.3009...</td>\n",
       "      <td>4283.0</td>\n",
       "    </tr>\n",
       "    <tr>\n",
       "      <th>2</th>\n",
       "      <td>14000US06037101122</td>\n",
       "      <td>Census Tract 1011.22, Los Angeles, CA</td>\n",
       "      <td>810.0</td>\n",
       "      <td>0.0</td>\n",
       "      <td>0.0</td>\n",
       "      <td>0.0</td>\n",
       "      <td>0.0</td>\n",
       "      <td>0.0</td>\n",
       "      <td>0.0</td>\n",
       "      <td>18.0</td>\n",
       "      <td>9.0</td>\n",
       "      <td>9.0</td>\n",
       "      <td>24.0</td>\n",
       "      <td>0.0</td>\n",
       "      <td>24.0</td>\n",
       "      <td>0.0</td>\n",
       "      <td>0.0</td>\n",
       "      <td>0.0</td>\n",
       "      <td>0.0</td>\n",
       "      <td>0.0</td>\n",
       "      <td>0.0</td>\n",
       "      <td>0.0</td>\n",
       "      <td>0.0</td>\n",
       "      <td>0.0</td>\n",
       "      <td>78.0</td>\n",
       "      <td>0.0</td>\n",
       "      <td>78.0</td>\n",
       "      <td>0.0</td>\n",
       "      <td>0.0</td>\n",
       "      <td>0.0</td>\n",
       "      <td>690.0</td>\n",
       "      <td>36.0</td>\n",
       "      <td>654.0</td>\n",
       "      <td>MULTIPOLYGON (((-118.30334 34.27371, -118.3033...</td>\n",
       "      <td>3405.0</td>\n",
       "    </tr>\n",
       "    <tr>\n",
       "      <th>3</th>\n",
       "      <td>14000US06037101210</td>\n",
       "      <td>Census Tract 1012.10, Los Angeles, CA</td>\n",
       "      <td>3167.0</td>\n",
       "      <td>0.0</td>\n",
       "      <td>0.0</td>\n",
       "      <td>0.0</td>\n",
       "      <td>0.0</td>\n",
       "      <td>0.0</td>\n",
       "      <td>0.0</td>\n",
       "      <td>53.0</td>\n",
       "      <td>0.0</td>\n",
       "      <td>53.0</td>\n",
       "      <td>226.0</td>\n",
       "      <td>0.0</td>\n",
       "      <td>226.0</td>\n",
       "      <td>259.0</td>\n",
       "      <td>73.0</td>\n",
       "      <td>186.0</td>\n",
       "      <td>0.0</td>\n",
       "      <td>0.0</td>\n",
       "      <td>0.0</td>\n",
       "      <td>499.0</td>\n",
       "      <td>0.0</td>\n",
       "      <td>499.0</td>\n",
       "      <td>76.0</td>\n",
       "      <td>0.0</td>\n",
       "      <td>76.0</td>\n",
       "      <td>0.0</td>\n",
       "      <td>0.0</td>\n",
       "      <td>0.0</td>\n",
       "      <td>2054.0</td>\n",
       "      <td>198.0</td>\n",
       "      <td>1856.0</td>\n",
       "      <td>MULTIPOLYGON (((-118.29945 34.25598, -118.2979...</td>\n",
       "      <td>6347.0</td>\n",
       "    </tr>\n",
       "    <tr>\n",
       "      <th>4</th>\n",
       "      <td>14000US06037101220</td>\n",
       "      <td>Census Tract 1012.20, Los Angeles, CA</td>\n",
       "      <td>1749.0</td>\n",
       "      <td>0.0</td>\n",
       "      <td>0.0</td>\n",
       "      <td>0.0</td>\n",
       "      <td>29.0</td>\n",
       "      <td>0.0</td>\n",
       "      <td>29.0</td>\n",
       "      <td>36.0</td>\n",
       "      <td>0.0</td>\n",
       "      <td>36.0</td>\n",
       "      <td>54.0</td>\n",
       "      <td>25.0</td>\n",
       "      <td>29.0</td>\n",
       "      <td>82.0</td>\n",
       "      <td>0.0</td>\n",
       "      <td>82.0</td>\n",
       "      <td>15.0</td>\n",
       "      <td>0.0</td>\n",
       "      <td>15.0</td>\n",
       "      <td>334.0</td>\n",
       "      <td>0.0</td>\n",
       "      <td>334.0</td>\n",
       "      <td>79.0</td>\n",
       "      <td>12.0</td>\n",
       "      <td>67.0</td>\n",
       "      <td>0.0</td>\n",
       "      <td>0.0</td>\n",
       "      <td>0.0</td>\n",
       "      <td>1120.0</td>\n",
       "      <td>147.0</td>\n",
       "      <td>973.0</td>\n",
       "      <td>MULTIPOLYGON (((-118.28593 34.25227, -118.2859...</td>\n",
       "      <td>3702.0</td>\n",
       "    </tr>\n",
       "  </tbody>\n",
       "</table>\n",
       "</div>"
      ],
      "text/plain": [
       "                geoid                                   name  \\\n",
       "0        05000US06037                 Los Angeles County, CA   \n",
       "1  14000US06037101110  Census Tract 1011.10, Los Angeles, CA   \n",
       "2  14000US06037101122  Census Tract 1011.22, Los Angeles, CA   \n",
       "3  14000US06037101210  Census Tract 1012.10, Los Angeles, CA   \n",
       "4  14000US06037101220  Census Tract 1012.20, Los Angeles, CA   \n",
       "\n",
       "   Total Foreign Born  China, Hong Kong, Taiwan  \\\n",
       "0           3430507.0                  288054.0   \n",
       "1              1424.0                      13.0   \n",
       "2               810.0                       0.0   \n",
       "3              3167.0                       0.0   \n",
       "4              1749.0                       0.0   \n",
       "\n",
       "   China et al Entered 2010 or later  China et al Before 2010     Cuba  \\\n",
       "0                            76162.0                 211892.0  17332.0   \n",
       "1                                0.0                     13.0      8.0   \n",
       "2                                0.0                      0.0      0.0   \n",
       "3                                0.0                      0.0      0.0   \n",
       "4                                0.0                      0.0     29.0   \n",
       "\n",
       "   Cuba Entered 2010 or later  Cuba Entered Before 2010  Dominican Republic  \\\n",
       "0                      1356.0                   15976.0             12687.0   \n",
       "1                         0.0                       8.0                 0.0   \n",
       "2                         0.0                       0.0                18.0   \n",
       "3                         0.0                       0.0                53.0   \n",
       "4                         0.0                      29.0                36.0   \n",
       "\n",
       "   D.R. Entered 2010 or later  D.R. Entered Before 2010  El Salvador  \\\n",
       "0                      2696.0                    9991.0     269579.0   \n",
       "1                         0.0                       0.0         11.0   \n",
       "2                         9.0                       9.0         24.0   \n",
       "3                         0.0                      53.0        226.0   \n",
       "4                         0.0                      36.0         54.0   \n",
       "\n",
       "   E.S. Entered 2010 or later  E.S. Entered Before 2010  Guatemala  \\\n",
       "0                     34555.0                  235024.0   175586.0   \n",
       "1                         0.0                      11.0        0.0   \n",
       "2                         0.0                      24.0        0.0   \n",
       "3                         0.0                     226.0      259.0   \n",
       "4                        25.0                      29.0       82.0   \n",
       "\n",
       "   Guatemala Entered 2010 or later  Guatemala Entered Before 2010    India  \\\n",
       "0                          22808.0                       152778.0  62139.0   \n",
       "1                              0.0                            0.0      0.0   \n",
       "2                              0.0                            0.0      0.0   \n",
       "3                             73.0                          186.0      0.0   \n",
       "4                              0.0                           82.0     15.0   \n",
       "\n",
       "   India Entered 2010 or later  India Entered Before 2010     Mexico  \\\n",
       "0                      21956.0                    40183.0  1277142.0   \n",
       "1                          0.0                        0.0      310.0   \n",
       "2                          0.0                        0.0        0.0   \n",
       "3                          0.0                        0.0      499.0   \n",
       "4                          0.0                       15.0      334.0   \n",
       "\n",
       "   Mexico Entered 2010 or later  Mexico Entered Before 2010  Philippines  \\\n",
       "0                       65416.0                   1211726.0     239804.0   \n",
       "1                          26.0                       284.0        172.0   \n",
       "2                           0.0                         0.0         78.0   \n",
       "3                           0.0                       499.0         76.0   \n",
       "4                           0.0                       334.0         79.0   \n",
       "\n",
       "   Philippines Entered 2010 or later  Philippines Entered Before 2010  \\\n",
       "0                            31931.0                         207873.0   \n",
       "1                               61.0                            111.0   \n",
       "2                                0.0                             78.0   \n",
       "3                                0.0                             76.0   \n",
       "4                               12.0                             67.0   \n",
       "\n",
       "   Vietnam  Vietnam Entered 2010 or later  Vietnam Entered Before 2010  \\\n",
       "0  98409.0                        10841.0                      87568.0   \n",
       "1      0.0                            0.0                          0.0   \n",
       "2      0.0                            0.0                          0.0   \n",
       "3      0.0                            0.0                          0.0   \n",
       "4      0.0                            0.0                          0.0   \n",
       "\n",
       "   All Other Countries  A.O.C. Entered 2010 or later  \\\n",
       "0             989775.0                      173834.0   \n",
       "1                910.0                         130.0   \n",
       "2                690.0                          36.0   \n",
       "3               2054.0                         198.0   \n",
       "4               1120.0                         147.0   \n",
       "\n",
       "   A.O.C. Entered Before 2010  \\\n",
       "0                    815941.0   \n",
       "1                       780.0   \n",
       "2                       654.0   \n",
       "3                      1856.0   \n",
       "4                       973.0   \n",
       "\n",
       "                                            geometry  Total Population  \n",
       "0  MULTIPOLYGON (((-118.70339 34.16859, -118.7033...        10081570.0  \n",
       "1  MULTIPOLYGON (((-118.30229 34.25870, -118.3009...            4283.0  \n",
       "2  MULTIPOLYGON (((-118.30334 34.27371, -118.3033...            3405.0  \n",
       "3  MULTIPOLYGON (((-118.29945 34.25598, -118.2979...            6347.0  \n",
       "4  MULTIPOLYGON (((-118.28593 34.25227, -118.2859...            3702.0  "
      ]
     },
     "execution_count": 9,
     "metadata": {},
     "output_type": "execute_result"
    }
   ],
   "source": [
    "gdf.head()"
   ]
  },
  {
   "cell_type": "code",
   "execution_count": 20,
   "id": "c6bc8b9d-b629-4752-b59c-e863bddadd1b",
   "metadata": {},
   "outputs": [],
   "source": [
    "# Ok let's take a stab at making a function to trim our data to give us the above table for each station\n",
    "\n",
    "def stn_trim(stationname,geoid1,geoid2,geoid3,geoid4): \n",
    "    # Using .isin to single out the rows we want\n",
    "    df = gdf[gdf[\"geoid\"].isin([geoid1,geoid2,geoid3,geoid4])] \n",
    "    \n",
    "    # Creating our sum row\n",
    "    df = df.append(df.sum(numeric_only=True), ignore_index=True)\n",
    "\n",
    "    # Keeping only summation row\n",
    "    df = df.iloc[-1:]\n",
    "    \n",
    "    # Creating percentages\n",
    "    df['Percent From China, Hong Kong, Taiwan'] = df['China, Hong Kong, Taiwan']/df['Total Foreign Born']*100\n",
    "    df['Percent From China et al Entered 2010 or later'] = df['China et al Entered 2010 or later']/df['Total Foreign Born']*100\n",
    "    df['Percent From China et al Before 2010'] = df['China et al Before 2010']/df['Total Foreign Born']*100\n",
    "    df['Percent From Cuba'] = df['Cuba']/df['Total Foreign Born']*100\n",
    "    df['Percent From Cuba Entered 2010 or later'] = df['Cuba Entered 2010 or later']/df['Total Foreign Born']*100\n",
    "    df['Percent From Cuba Entered Before 2010'] = df['Cuba Entered Before 2010']/df['Total Foreign Born']*100\n",
    "    df['Percent From Dominican Republic'] = df['Dominican Republic']/df['Total Foreign Born']*100\n",
    "    df['Percent From D.R. Entered 2010 or later'] = df['D.R. Entered 2010 or later']/df['Total Foreign Born']*100\n",
    "    df['Percent From D.R. Entered Before 2010'] = df['D.R. Entered Before 2010']/df['Total Foreign Born']*100\n",
    "    df['Percent From El Salvador'] = df['El Salvador']/df['Total Foreign Born']*100\n",
    "    df['Percent From E.S. Entered 2010 or later'] = df['E.S. Entered 2010 or later']/df['Total Foreign Born']*100\n",
    "    df['Percent From E.S. Entered Before 2010'] = df['E.S. Entered Before 2010']/df['Total Foreign Born']*100\n",
    "    df['Percent From Guatemala'] = df['Guatemala']/df['Total Foreign Born']*100\n",
    "    df['Percent From Guatemala Entered 2010 or later'] = df['Guatemala Entered 2010 or later']/df['Total Foreign Born']*100\n",
    "    df['Percent From Guatemala Entered Before 2010'] = df['Guatemala Entered Before 2010']/df['Total Foreign Born']*100\n",
    "    df['Percent From India'] = df['India']/df['Total Foreign Born']*100\n",
    "    df['Percent From India Entered 2010 or later'] = df['India Entered 2010 or later']/df['Total Foreign Born']*100\n",
    "    df['Percent From India Entered Before 2010'] = df['India Entered Before 2010']/df['Total Foreign Born']*100\n",
    "    df['Percent From Mexico'] = df['Mexico']/df['Total Foreign Born']*100\n",
    "    df['Percent From Mexico Entered 2010 or later'] = df['Mexico Entered 2010 or later']/df['Total Foreign Born']*100\n",
    "    df['Percent From Mexico Entered Before 2010'] = df['Mexico Entered Before 2010']/df['Total Foreign Born']*100\n",
    "    df['Percent From Philippines'] = df['Mexico']/df['Total Foreign Born']*100\n",
    "    df['Percent From Philippines Entered 2010 or later'] = df['Philippines Entered 2010 or later']/df['Total Foreign Born']*100\n",
    "    df['Percent From Philippines Entered Before 2010'] = df['Philippines Entered Before 2010']/df['Total Foreign Born']*100\n",
    "    df['Percent From Vietnam'] = df['Vietnam']/df['Total Foreign Born']*100\n",
    "    df['Percent From Vietnam Entered 2010 or later'] = df['Vietnam Entered 2010 or later']/df['Total Foreign Born']*100\n",
    "    df['Percent From Vietnam Entered Before 2010'] = df['Vietnam Entered Before 2010']/df['Total Foreign Born']*100\n",
    "    df['Percent From All Other Countries'] = df['All Other Countries']/df['Total Foreign Born']*100\n",
    "    df['Percent From A.O.C. Entered 2010 or later'] = df['A.O.C. Entered 2010 or later']/df['Total Foreign Born']*100\n",
    "    df['Percent From A.O.C. Entered Before 2010'] = df['A.O.C. Entered Before 2010']/df['Total Foreign Born']*100\n",
    "\n",
    "    #Keeping only the Country totals for now\n",
    "    df = df[['Percent From China, Hong Kong, Taiwan', \n",
    "             'Percent From Cuba', \n",
    "             'Percent From Dominican Republic', \n",
    "             'Percent From El Salvador', \n",
    "             'Percent From Guatemala', \n",
    "             'Percent From India', \n",
    "             'Percent From Mexico', \n",
    "             'Percent From Philippines', \n",
    "             'Percent From Vietnam', \n",
    "             'Percent From All Other Countries']]\n",
    "        \n",
    "        \n",
    "    # Flipping rows and columns\n",
    "    df = df.transpose()\n",
    "    \n",
    "    # Reseting index\n",
    "    df = df.reset_index()\n",
    "    \n",
    "    # Renaming columns\n",
    "    df.columns = ['Country of Origin', 'Percentage']\n",
    "    \n",
    "    display(df)\n",
    "    \n",
    "    # Plotting\n",
    "    \n",
    "    graph = px.bar(df, x=\"Country of Origin\", y=\"Percentage\", \n",
    "                    title=stationname + \" \" + \"Station Foreign Born Population Breakdown\"\n",
    "        )\n",
    "    \n",
    "    display(graph)\n"
   ]
  },
  {
   "cell_type": "code",
   "execution_count": 21,
   "id": "df521925-256e-4253-8af2-1f8a4dee2b8c",
   "metadata": {},
   "outputs": [
    {
     "data": {
      "text/html": [
       "<div>\n",
       "<style scoped>\n",
       "    .dataframe tbody tr th:only-of-type {\n",
       "        vertical-align: middle;\n",
       "    }\n",
       "\n",
       "    .dataframe tbody tr th {\n",
       "        vertical-align: top;\n",
       "    }\n",
       "\n",
       "    .dataframe thead th {\n",
       "        text-align: right;\n",
       "    }\n",
       "</style>\n",
       "<table border=\"1\" class=\"dataframe\">\n",
       "  <thead>\n",
       "    <tr style=\"text-align: right;\">\n",
       "      <th></th>\n",
       "      <th>Country of Origin</th>\n",
       "      <th>Percentage</th>\n",
       "    </tr>\n",
       "  </thead>\n",
       "  <tbody>\n",
       "    <tr>\n",
       "      <th>0</th>\n",
       "      <td>Percent From China, Hong Kong, Taiwan</td>\n",
       "      <td>31.631342</td>\n",
       "    </tr>\n",
       "    <tr>\n",
       "      <th>1</th>\n",
       "      <td>Percent From Cuba</td>\n",
       "      <td>0.192678</td>\n",
       "    </tr>\n",
       "    <tr>\n",
       "      <th>2</th>\n",
       "      <td>Percent From Dominican Republic</td>\n",
       "      <td>0.000000</td>\n",
       "    </tr>\n",
       "    <tr>\n",
       "      <th>3</th>\n",
       "      <td>Percent From El Salvador</td>\n",
       "      <td>3.114965</td>\n",
       "    </tr>\n",
       "    <tr>\n",
       "      <th>4</th>\n",
       "      <td>Percent From Guatemala</td>\n",
       "      <td>0.000000</td>\n",
       "    </tr>\n",
       "    <tr>\n",
       "      <th>5</th>\n",
       "      <td>Percent From India</td>\n",
       "      <td>6.326268</td>\n",
       "    </tr>\n",
       "    <tr>\n",
       "      <th>6</th>\n",
       "      <td>Percent From Mexico</td>\n",
       "      <td>5.330764</td>\n",
       "    </tr>\n",
       "    <tr>\n",
       "      <th>7</th>\n",
       "      <td>Percent From Philippines</td>\n",
       "      <td>5.330764</td>\n",
       "    </tr>\n",
       "    <tr>\n",
       "      <th>8</th>\n",
       "      <td>Percent From Vietnam</td>\n",
       "      <td>0.353243</td>\n",
       "    </tr>\n",
       "    <tr>\n",
       "      <th>9</th>\n",
       "      <td>Percent From All Other Countries</td>\n",
       "      <td>48.972383</td>\n",
       "    </tr>\n",
       "  </tbody>\n",
       "</table>\n",
       "</div>"
      ],
      "text/plain": [
       "                       Country of Origin  Percentage\n",
       "0  Percent From China, Hong Kong, Taiwan   31.631342\n",
       "1                      Percent From Cuba    0.192678\n",
       "2        Percent From Dominican Republic    0.000000\n",
       "3               Percent From El Salvador    3.114965\n",
       "4                 Percent From Guatemala    0.000000\n",
       "5                     Percent From India    6.326268\n",
       "6                    Percent From Mexico    5.330764\n",
       "7               Percent From Philippines    5.330764\n",
       "8                   Percent From Vietnam    0.353243\n",
       "9       Percent From All Other Countries   48.972383"
      ]
     },
     "metadata": {},
     "output_type": "display_data"
    },
    {
     "data": {
      "application/vnd.plotly.v1+json": {
       "config": {
        "plotlyServerURL": "https://plot.ly"
       },
       "data": [
        {
         "alignmentgroup": "True",
         "hovertemplate": "Country of Origin=%{x}<br>Percentage=%{y}<extra></extra>",
         "legendgroup": "",
         "marker": {
          "color": "#636efa",
          "pattern": {
           "shape": ""
          }
         },
         "name": "",
         "offsetgroup": "",
         "orientation": "v",
         "showlegend": false,
         "textposition": "auto",
         "type": "bar",
         "x": [
          "Percent From China, Hong Kong, Taiwan",
          "Percent From Cuba",
          "Percent From Dominican Republic",
          "Percent From El Salvador",
          "Percent From Guatemala",
          "Percent From India",
          "Percent From Mexico",
          "Percent From Philippines",
          "Percent From Vietnam",
          "Percent From All Other Countries"
         ],
         "xaxis": "x",
         "y": [
          31.63134232498394,
          0.1926782273603083,
          0,
          3.1149646756583174,
          0,
          6.326268464996788,
          5.330764290301863,
          5.330764290301863,
          0.35324341682723187,
          48.97238278741169
         ],
         "yaxis": "y"
        }
       ],
       "layout": {
        "autosize": true,
        "barmode": "relative",
        "legend": {
         "tracegroupgap": 0
        },
        "template": {
         "data": {
          "bar": [
           {
            "error_x": {
             "color": "#2a3f5f"
            },
            "error_y": {
             "color": "#2a3f5f"
            },
            "marker": {
             "line": {
              "color": "#E5ECF6",
              "width": 0.5
             },
             "pattern": {
              "fillmode": "overlay",
              "size": 10,
              "solidity": 0.2
             }
            },
            "type": "bar"
           }
          ],
          "barpolar": [
           {
            "marker": {
             "line": {
              "color": "#E5ECF6",
              "width": 0.5
             },
             "pattern": {
              "fillmode": "overlay",
              "size": 10,
              "solidity": 0.2
             }
            },
            "type": "barpolar"
           }
          ],
          "carpet": [
           {
            "aaxis": {
             "endlinecolor": "#2a3f5f",
             "gridcolor": "white",
             "linecolor": "white",
             "minorgridcolor": "white",
             "startlinecolor": "#2a3f5f"
            },
            "baxis": {
             "endlinecolor": "#2a3f5f",
             "gridcolor": "white",
             "linecolor": "white",
             "minorgridcolor": "white",
             "startlinecolor": "#2a3f5f"
            },
            "type": "carpet"
           }
          ],
          "choropleth": [
           {
            "colorbar": {
             "outlinewidth": 0,
             "ticks": ""
            },
            "type": "choropleth"
           }
          ],
          "contour": [
           {
            "colorbar": {
             "outlinewidth": 0,
             "ticks": ""
            },
            "colorscale": [
             [
              0,
              "#0d0887"
             ],
             [
              0.1111111111111111,
              "#46039f"
             ],
             [
              0.2222222222222222,
              "#7201a8"
             ],
             [
              0.3333333333333333,
              "#9c179e"
             ],
             [
              0.4444444444444444,
              "#bd3786"
             ],
             [
              0.5555555555555556,
              "#d8576b"
             ],
             [
              0.6666666666666666,
              "#ed7953"
             ],
             [
              0.7777777777777778,
              "#fb9f3a"
             ],
             [
              0.8888888888888888,
              "#fdca26"
             ],
             [
              1,
              "#f0f921"
             ]
            ],
            "type": "contour"
           }
          ],
          "contourcarpet": [
           {
            "colorbar": {
             "outlinewidth": 0,
             "ticks": ""
            },
            "type": "contourcarpet"
           }
          ],
          "heatmap": [
           {
            "colorbar": {
             "outlinewidth": 0,
             "ticks": ""
            },
            "colorscale": [
             [
              0,
              "#0d0887"
             ],
             [
              0.1111111111111111,
              "#46039f"
             ],
             [
              0.2222222222222222,
              "#7201a8"
             ],
             [
              0.3333333333333333,
              "#9c179e"
             ],
             [
              0.4444444444444444,
              "#bd3786"
             ],
             [
              0.5555555555555556,
              "#d8576b"
             ],
             [
              0.6666666666666666,
              "#ed7953"
             ],
             [
              0.7777777777777778,
              "#fb9f3a"
             ],
             [
              0.8888888888888888,
              "#fdca26"
             ],
             [
              1,
              "#f0f921"
             ]
            ],
            "type": "heatmap"
           }
          ],
          "heatmapgl": [
           {
            "colorbar": {
             "outlinewidth": 0,
             "ticks": ""
            },
            "colorscale": [
             [
              0,
              "#0d0887"
             ],
             [
              0.1111111111111111,
              "#46039f"
             ],
             [
              0.2222222222222222,
              "#7201a8"
             ],
             [
              0.3333333333333333,
              "#9c179e"
             ],
             [
              0.4444444444444444,
              "#bd3786"
             ],
             [
              0.5555555555555556,
              "#d8576b"
             ],
             [
              0.6666666666666666,
              "#ed7953"
             ],
             [
              0.7777777777777778,
              "#fb9f3a"
             ],
             [
              0.8888888888888888,
              "#fdca26"
             ],
             [
              1,
              "#f0f921"
             ]
            ],
            "type": "heatmapgl"
           }
          ],
          "histogram": [
           {
            "marker": {
             "pattern": {
              "fillmode": "overlay",
              "size": 10,
              "solidity": 0.2
             }
            },
            "type": "histogram"
           }
          ],
          "histogram2d": [
           {
            "colorbar": {
             "outlinewidth": 0,
             "ticks": ""
            },
            "colorscale": [
             [
              0,
              "#0d0887"
             ],
             [
              0.1111111111111111,
              "#46039f"
             ],
             [
              0.2222222222222222,
              "#7201a8"
             ],
             [
              0.3333333333333333,
              "#9c179e"
             ],
             [
              0.4444444444444444,
              "#bd3786"
             ],
             [
              0.5555555555555556,
              "#d8576b"
             ],
             [
              0.6666666666666666,
              "#ed7953"
             ],
             [
              0.7777777777777778,
              "#fb9f3a"
             ],
             [
              0.8888888888888888,
              "#fdca26"
             ],
             [
              1,
              "#f0f921"
             ]
            ],
            "type": "histogram2d"
           }
          ],
          "histogram2dcontour": [
           {
            "colorbar": {
             "outlinewidth": 0,
             "ticks": ""
            },
            "colorscale": [
             [
              0,
              "#0d0887"
             ],
             [
              0.1111111111111111,
              "#46039f"
             ],
             [
              0.2222222222222222,
              "#7201a8"
             ],
             [
              0.3333333333333333,
              "#9c179e"
             ],
             [
              0.4444444444444444,
              "#bd3786"
             ],
             [
              0.5555555555555556,
              "#d8576b"
             ],
             [
              0.6666666666666666,
              "#ed7953"
             ],
             [
              0.7777777777777778,
              "#fb9f3a"
             ],
             [
              0.8888888888888888,
              "#fdca26"
             ],
             [
              1,
              "#f0f921"
             ]
            ],
            "type": "histogram2dcontour"
           }
          ],
          "mesh3d": [
           {
            "colorbar": {
             "outlinewidth": 0,
             "ticks": ""
            },
            "type": "mesh3d"
           }
          ],
          "parcoords": [
           {
            "line": {
             "colorbar": {
              "outlinewidth": 0,
              "ticks": ""
             }
            },
            "type": "parcoords"
           }
          ],
          "pie": [
           {
            "automargin": true,
            "type": "pie"
           }
          ],
          "scatter": [
           {
            "marker": {
             "colorbar": {
              "outlinewidth": 0,
              "ticks": ""
             }
            },
            "type": "scatter"
           }
          ],
          "scatter3d": [
           {
            "line": {
             "colorbar": {
              "outlinewidth": 0,
              "ticks": ""
             }
            },
            "marker": {
             "colorbar": {
              "outlinewidth": 0,
              "ticks": ""
             }
            },
            "type": "scatter3d"
           }
          ],
          "scattercarpet": [
           {
            "marker": {
             "colorbar": {
              "outlinewidth": 0,
              "ticks": ""
             }
            },
            "type": "scattercarpet"
           }
          ],
          "scattergeo": [
           {
            "marker": {
             "colorbar": {
              "outlinewidth": 0,
              "ticks": ""
             }
            },
            "type": "scattergeo"
           }
          ],
          "scattergl": [
           {
            "marker": {
             "colorbar": {
              "outlinewidth": 0,
              "ticks": ""
             }
            },
            "type": "scattergl"
           }
          ],
          "scattermapbox": [
           {
            "marker": {
             "colorbar": {
              "outlinewidth": 0,
              "ticks": ""
             }
            },
            "type": "scattermapbox"
           }
          ],
          "scatterpolar": [
           {
            "marker": {
             "colorbar": {
              "outlinewidth": 0,
              "ticks": ""
             }
            },
            "type": "scatterpolar"
           }
          ],
          "scatterpolargl": [
           {
            "marker": {
             "colorbar": {
              "outlinewidth": 0,
              "ticks": ""
             }
            },
            "type": "scatterpolargl"
           }
          ],
          "scatterternary": [
           {
            "marker": {
             "colorbar": {
              "outlinewidth": 0,
              "ticks": ""
             }
            },
            "type": "scatterternary"
           }
          ],
          "surface": [
           {
            "colorbar": {
             "outlinewidth": 0,
             "ticks": ""
            },
            "colorscale": [
             [
              0,
              "#0d0887"
             ],
             [
              0.1111111111111111,
              "#46039f"
             ],
             [
              0.2222222222222222,
              "#7201a8"
             ],
             [
              0.3333333333333333,
              "#9c179e"
             ],
             [
              0.4444444444444444,
              "#bd3786"
             ],
             [
              0.5555555555555556,
              "#d8576b"
             ],
             [
              0.6666666666666666,
              "#ed7953"
             ],
             [
              0.7777777777777778,
              "#fb9f3a"
             ],
             [
              0.8888888888888888,
              "#fdca26"
             ],
             [
              1,
              "#f0f921"
             ]
            ],
            "type": "surface"
           }
          ],
          "table": [
           {
            "cells": {
             "fill": {
              "color": "#EBF0F8"
             },
             "line": {
              "color": "white"
             }
            },
            "header": {
             "fill": {
              "color": "#C8D4E3"
             },
             "line": {
              "color": "white"
             }
            },
            "type": "table"
           }
          ]
         },
         "layout": {
          "annotationdefaults": {
           "arrowcolor": "#2a3f5f",
           "arrowhead": 0,
           "arrowwidth": 1
          },
          "autotypenumbers": "strict",
          "coloraxis": {
           "colorbar": {
            "outlinewidth": 0,
            "ticks": ""
           }
          },
          "colorscale": {
           "diverging": [
            [
             0,
             "#8e0152"
            ],
            [
             0.1,
             "#c51b7d"
            ],
            [
             0.2,
             "#de77ae"
            ],
            [
             0.3,
             "#f1b6da"
            ],
            [
             0.4,
             "#fde0ef"
            ],
            [
             0.5,
             "#f7f7f7"
            ],
            [
             0.6,
             "#e6f5d0"
            ],
            [
             0.7,
             "#b8e186"
            ],
            [
             0.8,
             "#7fbc41"
            ],
            [
             0.9,
             "#4d9221"
            ],
            [
             1,
             "#276419"
            ]
           ],
           "sequential": [
            [
             0,
             "#0d0887"
            ],
            [
             0.1111111111111111,
             "#46039f"
            ],
            [
             0.2222222222222222,
             "#7201a8"
            ],
            [
             0.3333333333333333,
             "#9c179e"
            ],
            [
             0.4444444444444444,
             "#bd3786"
            ],
            [
             0.5555555555555556,
             "#d8576b"
            ],
            [
             0.6666666666666666,
             "#ed7953"
            ],
            [
             0.7777777777777778,
             "#fb9f3a"
            ],
            [
             0.8888888888888888,
             "#fdca26"
            ],
            [
             1,
             "#f0f921"
            ]
           ],
           "sequentialminus": [
            [
             0,
             "#0d0887"
            ],
            [
             0.1111111111111111,
             "#46039f"
            ],
            [
             0.2222222222222222,
             "#7201a8"
            ],
            [
             0.3333333333333333,
             "#9c179e"
            ],
            [
             0.4444444444444444,
             "#bd3786"
            ],
            [
             0.5555555555555556,
             "#d8576b"
            ],
            [
             0.6666666666666666,
             "#ed7953"
            ],
            [
             0.7777777777777778,
             "#fb9f3a"
            ],
            [
             0.8888888888888888,
             "#fdca26"
            ],
            [
             1,
             "#f0f921"
            ]
           ]
          },
          "colorway": [
           "#636efa",
           "#EF553B",
           "#00cc96",
           "#ab63fa",
           "#FFA15A",
           "#19d3f3",
           "#FF6692",
           "#B6E880",
           "#FF97FF",
           "#FECB52"
          ],
          "font": {
           "color": "#2a3f5f"
          },
          "geo": {
           "bgcolor": "white",
           "lakecolor": "white",
           "landcolor": "#E5ECF6",
           "showlakes": true,
           "showland": true,
           "subunitcolor": "white"
          },
          "hoverlabel": {
           "align": "left"
          },
          "hovermode": "closest",
          "mapbox": {
           "style": "light"
          },
          "paper_bgcolor": "white",
          "plot_bgcolor": "#E5ECF6",
          "polar": {
           "angularaxis": {
            "gridcolor": "white",
            "linecolor": "white",
            "ticks": ""
           },
           "bgcolor": "#E5ECF6",
           "radialaxis": {
            "gridcolor": "white",
            "linecolor": "white",
            "ticks": ""
           }
          },
          "scene": {
           "xaxis": {
            "backgroundcolor": "#E5ECF6",
            "gridcolor": "white",
            "gridwidth": 2,
            "linecolor": "white",
            "showbackground": true,
            "ticks": "",
            "zerolinecolor": "white"
           },
           "yaxis": {
            "backgroundcolor": "#E5ECF6",
            "gridcolor": "white",
            "gridwidth": 2,
            "linecolor": "white",
            "showbackground": true,
            "ticks": "",
            "zerolinecolor": "white"
           },
           "zaxis": {
            "backgroundcolor": "#E5ECF6",
            "gridcolor": "white",
            "gridwidth": 2,
            "linecolor": "white",
            "showbackground": true,
            "ticks": "",
            "zerolinecolor": "white"
           }
          },
          "shapedefaults": {
           "line": {
            "color": "#2a3f5f"
           }
          },
          "ternary": {
           "aaxis": {
            "gridcolor": "white",
            "linecolor": "white",
            "ticks": ""
           },
           "baxis": {
            "gridcolor": "white",
            "linecolor": "white",
            "ticks": ""
           },
           "bgcolor": "#E5ECF6",
           "caxis": {
            "gridcolor": "white",
            "linecolor": "white",
            "ticks": ""
           }
          },
          "title": {
           "x": 0.05
          },
          "xaxis": {
           "automargin": true,
           "gridcolor": "white",
           "linecolor": "white",
           "ticks": "",
           "title": {
            "standoff": 15
           },
           "zerolinecolor": "white",
           "zerolinewidth": 2
          },
          "yaxis": {
           "automargin": true,
           "gridcolor": "white",
           "linecolor": "white",
           "ticks": "",
           "title": {
            "standoff": 15
           },
           "zerolinecolor": "white",
           "zerolinewidth": 2
          }
         }
        },
        "title": {
         "text": "Del Mar Station Foreign Born Population Breakdown"
        },
        "xaxis": {
         "anchor": "y",
         "autorange": true,
         "domain": [
          0,
          1
         ],
         "range": [
          -0.5,
          9.5
         ],
         "title": {
          "text": "Country of Origin"
         },
         "type": "category"
        },
        "yaxis": {
         "anchor": "x",
         "autorange": true,
         "domain": [
          0,
          1
         ],
         "range": [
          0,
          51.54987661832809
         ],
         "title": {
          "text": "Percentage"
         },
         "type": "linear"
        }
       }
      },
      "image/png": "[encoded data removed]",
      "text/html": [
       "<div>                            <div id=\"26b3fcf1-d171-428d-a92c-e100f1c382ce\" class=\"plotly-graph-div\" style=\"height:525px; width:100%;\"></div>            <script type=\"text/javascript\">                require([\"plotly\"], function(Plotly) {                    window.PLOTLYENV=window.PLOTLYENV || {};                                    if (document.getElementById(\"26b3fcf1-d171-428d-a92c-e100f1c382ce\")) {                    Plotly.newPlot(                        \"26b3fcf1-d171-428d-a92c-e100f1c382ce\",                        [{\"alignmentgroup\":\"True\",\"hovertemplate\":\"Country of Origin=%{x}<br>Percentage=%{y}<extra></extra>\",\"legendgroup\":\"\",\"marker\":{\"color\":\"#636efa\",\"pattern\":{\"shape\":\"\"}},\"name\":\"\",\"offsetgroup\":\"\",\"orientation\":\"v\",\"showlegend\":false,\"textposition\":\"auto\",\"type\":\"bar\",\"x\":[\"Percent From China, Hong Kong, Taiwan\",\"Percent From Cuba\",\"Percent From Dominican Republic\",\"Percent From El Salvador\",\"Percent From Guatemala\",\"Percent From India\",\"Percent From Mexico\",\"Percent From Philippines\",\"Percent From Vietnam\",\"Percent From All Other Countries\"],\"xaxis\":\"x\",\"y\":[31.63134232498394,0.1926782273603083,0.0,3.1149646756583174,0.0,6.326268464996788,5.330764290301863,5.330764290301863,0.35324341682723187,48.97238278741169],\"yaxis\":\"y\"}],                        {\"barmode\":\"relative\",\"legend\":{\"tracegroupgap\":0},\"template\":{\"data\":{\"bar\":[{\"error_x\":{\"color\":\"#2a3f5f\"},\"error_y\":{\"color\":\"#2a3f5f\"},\"marker\":{\"line\":{\"color\":\"#E5ECF6\",\"width\":0.5},\"pattern\":{\"fillmode\":\"overlay\",\"size\":10,\"solidity\":0.2}},\"type\":\"bar\"}],\"barpolar\":[{\"marker\":{\"line\":{\"color\":\"#E5ECF6\",\"width\":0.5},\"pattern\":{\"fillmode\":\"overlay\",\"size\":10,\"solidity\":0.2}},\"type\":\"barpolar\"}],\"carpet\":[{\"aaxis\":{\"endlinecolor\":\"#2a3f5f\",\"gridcolor\":\"white\",\"linecolor\":\"white\",\"minorgridcolor\":\"white\",\"startlinecolor\":\"#2a3f5f\"},\"baxis\":{\"endlinecolor\":\"#2a3f5f\",\"gridcolor\":\"white\",\"linecolor\":\"white\",\"minorgridcolor\":\"white\",\"startlinecolor\":\"#2a3f5f\"},\"type\":\"carpet\"}],\"choropleth\":[{\"colorbar\":{\"outlinewidth\":0,\"ticks\":\"\"},\"type\":\"choropleth\"}],\"contour\":[{\"colorbar\":{\"outlinewidth\":0,\"ticks\":\"\"},\"colorscale\":[[0.0,\"#0d0887\"],[0.1111111111111111,\"#46039f\"],[0.2222222222222222,\"#7201a8\"],[0.3333333333333333,\"#9c179e\"],[0.4444444444444444,\"#bd3786\"],[0.5555555555555556,\"#d8576b\"],[0.6666666666666666,\"#ed7953\"],[0.7777777777777778,\"#fb9f3a\"],[0.8888888888888888,\"#fdca26\"],[1.0,\"#f0f921\"]],\"type\":\"contour\"}],\"contourcarpet\":[{\"colorbar\":{\"outlinewidth\":0,\"ticks\":\"\"},\"type\":\"contourcarpet\"}],\"heatmap\":[{\"colorbar\":{\"outlinewidth\":0,\"ticks\":\"\"},\"colorscale\":[[0.0,\"#0d0887\"],[0.1111111111111111,\"#46039f\"],[0.2222222222222222,\"#7201a8\"],[0.3333333333333333,\"#9c179e\"],[0.4444444444444444,\"#bd3786\"],[0.5555555555555556,\"#d8576b\"],[0.6666666666666666,\"#ed7953\"],[0.7777777777777778,\"#fb9f3a\"],[0.8888888888888888,\"#fdca26\"],[1.0,\"#f0f921\"]],\"type\":\"heatmap\"}],\"heatmapgl\":[{\"colorbar\":{\"outlinewidth\":0,\"ticks\":\"\"},\"colorscale\":[[0.0,\"#0d0887\"],[0.1111111111111111,\"#46039f\"],[0.2222222222222222,\"#7201a8\"],[0.3333333333333333,\"#9c179e\"],[0.4444444444444444,\"#bd3786\"],[0.5555555555555556,\"#d8576b\"],[0.6666666666666666,\"#ed7953\"],[0.7777777777777778,\"#fb9f3a\"],[0.8888888888888888,\"#fdca26\"],[1.0,\"#f0f921\"]],\"type\":\"heatmapgl\"}],\"histogram\":[{\"marker\":{\"pattern\":{\"fillmode\":\"overlay\",\"size\":10,\"solidity\":0.2}},\"type\":\"histogram\"}],\"histogram2d\":[{\"colorbar\":{\"outlinewidth\":0,\"ticks\":\"\"},\"colorscale\":[[0.0,\"#0d0887\"],[0.1111111111111111,\"#46039f\"],[0.2222222222222222,\"#7201a8\"],[0.3333333333333333,\"#9c179e\"],[0.4444444444444444,\"#bd3786\"],[0.5555555555555556,\"#d8576b\"],[0.6666666666666666,\"#ed7953\"],[0.7777777777777778,\"#fb9f3a\"],[0.8888888888888888,\"#fdca26\"],[1.0,\"#f0f921\"]],\"type\":\"histogram2d\"}],\"histogram2dcontour\":[{\"colorbar\":{\"outlinewidth\":0,\"ticks\":\"\"},\"colorscale\":[[0.0,\"#0d0887\"],[0.1111111111111111,\"#46039f\"],[0.2222222222222222,\"#7201a8\"],[0.3333333333333333,\"#9c179e\"],[0.4444444444444444,\"#bd3786\"],[0.5555555555555556,\"#d8576b\"],[0.6666666666666666,\"#ed7953\"],[0.7777777777777778,\"#fb9f3a\"],[0.8888888888888888,\"#fdca26\"],[1.0,\"#f0f921\"]],\"type\":\"histogram2dcontour\"}],\"mesh3d\":[{\"colorbar\":{\"outlinewidth\":0,\"ticks\":\"\"},\"type\":\"mesh3d\"}],\"parcoords\":[{\"line\":{\"colorbar\":{\"outlinewidth\":0,\"ticks\":\"\"}},\"type\":\"parcoords\"}],\"pie\":[{\"automargin\":true,\"type\":\"pie\"}],\"scatter\":[{\"marker\":{\"colorbar\":{\"outlinewidth\":0,\"ticks\":\"\"}},\"type\":\"scatter\"}],\"scatter3d\":[{\"line\":{\"colorbar\":{\"outlinewidth\":0,\"ticks\":\"\"}},\"marker\":{\"colorbar\":{\"outlinewidth\":0,\"ticks\":\"\"}},\"type\":\"scatter3d\"}],\"scattercarpet\":[{\"marker\":{\"colorbar\":{\"outlinewidth\":0,\"ticks\":\"\"}},\"type\":\"scattercarpet\"}],\"scattergeo\":[{\"marker\":{\"colorbar\":{\"outlinewidth\":0,\"ticks\":\"\"}},\"type\":\"scattergeo\"}],\"scattergl\":[{\"marker\":{\"colorbar\":{\"outlinewidth\":0,\"ticks\":\"\"}},\"type\":\"scattergl\"}],\"scattermapbox\":[{\"marker\":{\"colorbar\":{\"outlinewidth\":0,\"ticks\":\"\"}},\"type\":\"scattermapbox\"}],\"scatterpolar\":[{\"marker\":{\"colorbar\":{\"outlinewidth\":0,\"ticks\":\"\"}},\"type\":\"scatterpolar\"}],\"scatterpolargl\":[{\"marker\":{\"colorbar\":{\"outlinewidth\":0,\"ticks\":\"\"}},\"type\":\"scatterpolargl\"}],\"scatterternary\":[{\"marker\":{\"colorbar\":{\"outlinewidth\":0,\"ticks\":\"\"}},\"type\":\"scatterternary\"}],\"surface\":[{\"colorbar\":{\"outlinewidth\":0,\"ticks\":\"\"},\"colorscale\":[[0.0,\"#0d0887\"],[0.1111111111111111,\"#46039f\"],[0.2222222222222222,\"#7201a8\"],[0.3333333333333333,\"#9c179e\"],[0.4444444444444444,\"#bd3786\"],[0.5555555555555556,\"#d8576b\"],[0.6666666666666666,\"#ed7953\"],[0.7777777777777778,\"#fb9f3a\"],[0.8888888888888888,\"#fdca26\"],[1.0,\"#f0f921\"]],\"type\":\"surface\"}],\"table\":[{\"cells\":{\"fill\":{\"color\":\"#EBF0F8\"},\"line\":{\"color\":\"white\"}},\"header\":{\"fill\":{\"color\":\"#C8D4E3\"},\"line\":{\"color\":\"white\"}},\"type\":\"table\"}]},\"layout\":{\"annotationdefaults\":{\"arrowcolor\":\"#2a3f5f\",\"arrowhead\":0,\"arrowwidth\":1},\"autotypenumbers\":\"strict\",\"coloraxis\":{\"colorbar\":{\"outlinewidth\":0,\"ticks\":\"\"}},\"colorscale\":{\"diverging\":[[0,\"#8e0152\"],[0.1,\"#c51b7d\"],[0.2,\"#de77ae\"],[0.3,\"#f1b6da\"],[0.4,\"#fde0ef\"],[0.5,\"#f7f7f7\"],[0.6,\"#e6f5d0\"],[0.7,\"#b8e186\"],[0.8,\"#7fbc41\"],[0.9,\"#4d9221\"],[1,\"#276419\"]],\"sequential\":[[0.0,\"#0d0887\"],[0.1111111111111111,\"#46039f\"],[0.2222222222222222,\"#7201a8\"],[0.3333333333333333,\"#9c179e\"],[0.4444444444444444,\"#bd3786\"],[0.5555555555555556,\"#d8576b\"],[0.6666666666666666,\"#ed7953\"],[0.7777777777777778,\"#fb9f3a\"],[0.8888888888888888,\"#fdca26\"],[1.0,\"#f0f921\"]],\"sequentialminus\":[[0.0,\"#0d0887\"],[0.1111111111111111,\"#46039f\"],[0.2222222222222222,\"#7201a8\"],[0.3333333333333333,\"#9c179e\"],[0.4444444444444444,\"#bd3786\"],[0.5555555555555556,\"#d8576b\"],[0.6666666666666666,\"#ed7953\"],[0.7777777777777778,\"#fb9f3a\"],[0.8888888888888888,\"#fdca26\"],[1.0,\"#f0f921\"]]},\"colorway\":[\"#636efa\",\"#EF553B\",\"#00cc96\",\"#ab63fa\",\"#FFA15A\",\"#19d3f3\",\"#FF6692\",\"#B6E880\",\"#FF97FF\",\"#FECB52\"],\"font\":{\"color\":\"#2a3f5f\"},\"geo\":{\"bgcolor\":\"white\",\"lakecolor\":\"white\",\"landcolor\":\"#E5ECF6\",\"showlakes\":true,\"showland\":true,\"subunitcolor\":\"white\"},\"hoverlabel\":{\"align\":\"left\"},\"hovermode\":\"closest\",\"mapbox\":{\"style\":\"light\"},\"paper_bgcolor\":\"white\",\"plot_bgcolor\":\"#E5ECF6\",\"polar\":{\"angularaxis\":{\"gridcolor\":\"white\",\"linecolor\":\"white\",\"ticks\":\"\"},\"bgcolor\":\"#E5ECF6\",\"radialaxis\":{\"gridcolor\":\"white\",\"linecolor\":\"white\",\"ticks\":\"\"}},\"scene\":{\"xaxis\":{\"backgroundcolor\":\"#E5ECF6\",\"gridcolor\":\"white\",\"gridwidth\":2,\"linecolor\":\"white\",\"showbackground\":true,\"ticks\":\"\",\"zerolinecolor\":\"white\"},\"yaxis\":{\"backgroundcolor\":\"#E5ECF6\",\"gridcolor\":\"white\",\"gridwidth\":2,\"linecolor\":\"white\",\"showbackground\":true,\"ticks\":\"\",\"zerolinecolor\":\"white\"},\"zaxis\":{\"backgroundcolor\":\"#E5ECF6\",\"gridcolor\":\"white\",\"gridwidth\":2,\"linecolor\":\"white\",\"showbackground\":true,\"ticks\":\"\",\"zerolinecolor\":\"white\"}},\"shapedefaults\":{\"line\":{\"color\":\"#2a3f5f\"}},\"ternary\":{\"aaxis\":{\"gridcolor\":\"white\",\"linecolor\":\"white\",\"ticks\":\"\"},\"baxis\":{\"gridcolor\":\"white\",\"linecolor\":\"white\",\"ticks\":\"\"},\"bgcolor\":\"#E5ECF6\",\"caxis\":{\"gridcolor\":\"white\",\"linecolor\":\"white\",\"ticks\":\"\"}},\"title\":{\"x\":0.05},\"xaxis\":{\"automargin\":true,\"gridcolor\":\"white\",\"linecolor\":\"white\",\"ticks\":\"\",\"title\":{\"standoff\":15},\"zerolinecolor\":\"white\",\"zerolinewidth\":2},\"yaxis\":{\"automargin\":true,\"gridcolor\":\"white\",\"linecolor\":\"white\",\"ticks\":\"\",\"title\":{\"standoff\":15},\"zerolinecolor\":\"white\",\"zerolinewidth\":2}}},\"title\":{\"text\":\"Del Mar Station Foreign Born Population Breakdown\"},\"xaxis\":{\"anchor\":\"y\",\"domain\":[0.0,1.0],\"title\":{\"text\":\"Country of Origin\"}},\"yaxis\":{\"anchor\":\"x\",\"domain\":[0.0,1.0],\"title\":{\"text\":\"Percentage\"}}},                        {\"responsive\": true}                    ).then(function(){\n",
       "                            \n",
       "var gd = document.getElementById('26b3fcf1-d171-428d-a92c-e100f1c382ce');\n",
       "var x = new MutationObserver(function (mutations, observer) {{\n",
       "        var display = window.getComputedStyle(gd).display;\n",
       "        if (!display || display === 'none') {{\n",
       "            console.log([gd, 'removed!']);\n",
       "            Plotly.purge(gd);\n",
       "            observer.disconnect();\n",
       "        }}\n",
       "}});\n",
       "\n",
       "// Listen for the removal of the full notebook cells\n",
       "var notebookContainer = gd.closest('#notebook-container');\n",
       "if (notebookContainer) {{\n",
       "    x.observe(notebookContainer, {childList: true});\n",
       "}}\n",
       "\n",
       "// Listen for the clearing of the current output cell\n",
       "var outputEl = gd.closest('.output');\n",
       "if (outputEl) {{\n",
       "    x.observe(outputEl, {childList: true});\n",
       "}}\n",
       "\n",
       "                        })                };                });            </script>        </div>"
      ]
     },
     "metadata": {},
     "output_type": "display_data"
    }
   ],
   "source": [
    "stn_trim(stationname = 'Del Mar',geoid1 = '14000US06037461902',geoid2 = '14000US06037463602',geoid3 = '14000US06037463700',geoid4 = ' ') "
   ]
  },
  {
   "cell_type": "code",
   "execution_count": 22,
   "id": "16402fab-6f7e-45fb-9cc7-5c3a05c504fa",
   "metadata": {},
   "outputs": [
    {
     "data": {
      "text/html": [
       "<div>\n",
       "<style scoped>\n",
       "    .dataframe tbody tr th:only-of-type {\n",
       "        vertical-align: middle;\n",
       "    }\n",
       "\n",
       "    .dataframe tbody tr th {\n",
       "        vertical-align: top;\n",
       "    }\n",
       "\n",
       "    .dataframe thead th {\n",
       "        text-align: right;\n",
       "    }\n",
       "</style>\n",
       "<table border=\"1\" class=\"dataframe\">\n",
       "  <thead>\n",
       "    <tr style=\"text-align: right;\">\n",
       "      <th></th>\n",
       "      <th>Country of Origin</th>\n",
       "      <th>Percentage</th>\n",
       "    </tr>\n",
       "  </thead>\n",
       "  <tbody>\n",
       "    <tr>\n",
       "      <th>0</th>\n",
       "      <td>Percent From China, Hong Kong, Taiwan</td>\n",
       "      <td>47.137030</td>\n",
       "    </tr>\n",
       "    <tr>\n",
       "      <th>1</th>\n",
       "      <td>Percent From Cuba</td>\n",
       "      <td>0.090648</td>\n",
       "    </tr>\n",
       "    <tr>\n",
       "      <th>2</th>\n",
       "      <td>Percent From Dominican Republic</td>\n",
       "      <td>0.120864</td>\n",
       "    </tr>\n",
       "    <tr>\n",
       "      <th>3</th>\n",
       "      <td>Percent From El Salvador</td>\n",
       "      <td>4.743919</td>\n",
       "    </tr>\n",
       "    <tr>\n",
       "      <th>4</th>\n",
       "      <td>Percent From Guatemala</td>\n",
       "      <td>2.356851</td>\n",
       "    </tr>\n",
       "    <tr>\n",
       "      <th>5</th>\n",
       "      <td>Percent From India</td>\n",
       "      <td>0.120864</td>\n",
       "    </tr>\n",
       "    <tr>\n",
       "      <th>6</th>\n",
       "      <td>Percent From Mexico</td>\n",
       "      <td>20.985043</td>\n",
       "    </tr>\n",
       "    <tr>\n",
       "      <th>7</th>\n",
       "      <td>Percent From Philippines</td>\n",
       "      <td>20.985043</td>\n",
       "    </tr>\n",
       "    <tr>\n",
       "      <th>8</th>\n",
       "      <td>Percent From Vietnam</td>\n",
       "      <td>6.118749</td>\n",
       "    </tr>\n",
       "    <tr>\n",
       "      <th>9</th>\n",
       "      <td>Percent From All Other Countries</td>\n",
       "      <td>16.452636</td>\n",
       "    </tr>\n",
       "  </tbody>\n",
       "</table>\n",
       "</div>"
      ],
      "text/plain": [
       "                       Country of Origin  Percentage\n",
       "0  Percent From China, Hong Kong, Taiwan   47.137030\n",
       "1                      Percent From Cuba    0.090648\n",
       "2        Percent From Dominican Republic    0.120864\n",
       "3               Percent From El Salvador    4.743919\n",
       "4                 Percent From Guatemala    2.356851\n",
       "5                     Percent From India    0.120864\n",
       "6                    Percent From Mexico   20.985043\n",
       "7               Percent From Philippines   20.985043\n",
       "8                   Percent From Vietnam    6.118749\n",
       "9       Percent From All Other Countries   16.452636"
      ]
     },
     "metadata": {},
     "output_type": "display_data"
    },
    {
     "data": {
      "application/vnd.plotly.v1+json": {
       "config": {
        "plotlyServerURL": "https://plot.ly"
       },
       "data": [
        {
         "alignmentgroup": "True",
         "hovertemplate": "Country of Origin=%{x}<br>Percentage=%{y}<extra></extra>",
         "legendgroup": "",
         "marker": {
          "color": "#636efa",
          "pattern": {
           "shape": ""
          }
         },
         "name": "",
         "offsetgroup": "",
         "orientation": "v",
         "showlegend": false,
         "textposition": "auto",
         "type": "bar",
         "x": [
          "Percent From China, Hong Kong, Taiwan",
          "Percent From Cuba",
          "Percent From Dominican Republic",
          "Percent From El Salvador",
          "Percent From Guatemala",
          "Percent From India",
          "Percent From Mexico",
          "Percent From Philippines",
          "Percent From Vietnam",
          "Percent From All Other Countries"
         ],
         "xaxis": "x",
         "y": [
          47.13702976280405,
          0.09064813415923856,
          0.12086417887898473,
          4.743919021000151,
          2.3568514881402023,
          0.12086417887898473,
          20.985043057863724,
          20.985043057863724,
          6.118749055748602,
          16.4526363499018
         ],
         "yaxis": "y"
        }
       ],
       "layout": {
        "autosize": true,
        "barmode": "relative",
        "legend": {
         "tracegroupgap": 0
        },
        "template": {
         "data": {
          "bar": [
           {
            "error_x": {
             "color": "#2a3f5f"
            },
            "error_y": {
             "color": "#2a3f5f"
            },
            "marker": {
             "line": {
              "color": "#E5ECF6",
              "width": 0.5
             },
             "pattern": {
              "fillmode": "overlay",
              "size": 10,
              "solidity": 0.2
             }
            },
            "type": "bar"
           }
          ],
          "barpolar": [
           {
            "marker": {
             "line": {
              "color": "#E5ECF6",
              "width": 0.5
             },
             "pattern": {
              "fillmode": "overlay",
              "size": 10,
              "solidity": 0.2
             }
            },
            "type": "barpolar"
           }
          ],
          "carpet": [
           {
            "aaxis": {
             "endlinecolor": "#2a3f5f",
             "gridcolor": "white",
             "linecolor": "white",
             "minorgridcolor": "white",
             "startlinecolor": "#2a3f5f"
            },
            "baxis": {
             "endlinecolor": "#2a3f5f",
             "gridcolor": "white",
             "linecolor": "white",
             "minorgridcolor": "white",
             "startlinecolor": "#2a3f5f"
            },
            "type": "carpet"
           }
          ],
          "choropleth": [
           {
            "colorbar": {
             "outlinewidth": 0,
             "ticks": ""
            },
            "type": "choropleth"
           }
          ],
          "contour": [
           {
            "colorbar": {
             "outlinewidth": 0,
             "ticks": ""
            },
            "colorscale": [
             [
              0,
              "#0d0887"
             ],
             [
              0.1111111111111111,
              "#46039f"
             ],
             [
              0.2222222222222222,
              "#7201a8"
             ],
             [
              0.3333333333333333,
              "#9c179e"
             ],
             [
              0.4444444444444444,
              "#bd3786"
             ],
             [
              0.5555555555555556,
              "#d8576b"
             ],
             [
              0.6666666666666666,
              "#ed7953"
             ],
             [
              0.7777777777777778,
              "#fb9f3a"
             ],
             [
              0.8888888888888888,
              "#fdca26"
             ],
             [
              1,
              "#f0f921"
             ]
            ],
            "type": "contour"
           }
          ],
          "contourcarpet": [
           {
            "colorbar": {
             "outlinewidth": 0,
             "ticks": ""
            },
            "type": "contourcarpet"
           }
          ],
          "heatmap": [
           {
            "colorbar": {
             "outlinewidth": 0,
             "ticks": ""
            },
            "colorscale": [
             [
              0,
              "#0d0887"
             ],
             [
              0.1111111111111111,
              "#46039f"
             ],
             [
              0.2222222222222222,
              "#7201a8"
             ],
             [
              0.3333333333333333,
              "#9c179e"
             ],
             [
              0.4444444444444444,
              "#bd3786"
             ],
             [
              0.5555555555555556,
              "#d8576b"
             ],
             [
              0.6666666666666666,
              "#ed7953"
             ],
             [
              0.7777777777777778,
              "#fb9f3a"
             ],
             [
              0.8888888888888888,
              "#fdca26"
             ],
             [
              1,
              "#f0f921"
             ]
            ],
            "type": "heatmap"
           }
          ],
          "heatmapgl": [
           {
            "colorbar": {
             "outlinewidth": 0,
             "ticks": ""
            },
            "colorscale": [
             [
              0,
              "#0d0887"
             ],
             [
              0.1111111111111111,
              "#46039f"
             ],
             [
              0.2222222222222222,
              "#7201a8"
             ],
             [
              0.3333333333333333,
              "#9c179e"
             ],
             [
              0.4444444444444444,
              "#bd3786"
             ],
             [
              0.5555555555555556,
              "#d8576b"
             ],
             [
              0.6666666666666666,
              "#ed7953"
             ],
             [
              0.7777777777777778,
              "#fb9f3a"
             ],
             [
              0.8888888888888888,
              "#fdca26"
             ],
             [
              1,
              "#f0f921"
             ]
            ],
            "type": "heatmapgl"
           }
          ],
          "histogram": [
           {
            "marker": {
             "pattern": {
              "fillmode": "overlay",
              "size": 10,
              "solidity": 0.2
             }
            },
            "type": "histogram"
           }
          ],
          "histogram2d": [
           {
            "colorbar": {
             "outlinewidth": 0,
             "ticks": ""
            },
            "colorscale": [
             [
              0,
              "#0d0887"
             ],
             [
              0.1111111111111111,
              "#46039f"
             ],
             [
              0.2222222222222222,
              "#7201a8"
             ],
             [
              0.3333333333333333,
              "#9c179e"
             ],
             [
              0.4444444444444444,
              "#bd3786"
             ],
             [
              0.5555555555555556,
              "#d8576b"
             ],
             [
              0.6666666666666666,
              "#ed7953"
             ],
             [
              0.7777777777777778,
              "#fb9f3a"
             ],
             [
              0.8888888888888888,
              "#fdca26"
             ],
             [
              1,
              "#f0f921"
             ]
            ],
            "type": "histogram2d"
           }
          ],
          "histogram2dcontour": [
           {
            "colorbar": {
             "outlinewidth": 0,
             "ticks": ""
            },
            "colorscale": [
             [
              0,
              "#0d0887"
             ],
             [
              0.1111111111111111,
              "#46039f"
             ],
             [
              0.2222222222222222,
              "#7201a8"
             ],
             [
              0.3333333333333333,
              "#9c179e"
             ],
             [
              0.4444444444444444,
              "#bd3786"
             ],
             [
              0.5555555555555556,
              "#d8576b"
             ],
             [
              0.6666666666666666,
              "#ed7953"
             ],
             [
              0.7777777777777778,
              "#fb9f3a"
             ],
             [
              0.8888888888888888,
              "#fdca26"
             ],
             [
              1,
              "#f0f921"
             ]
            ],
            "type": "histogram2dcontour"
           }
          ],
          "mesh3d": [
           {
            "colorbar": {
             "outlinewidth": 0,
             "ticks": ""
            },
            "type": "mesh3d"
           }
          ],
          "parcoords": [
           {
            "line": {
             "colorbar": {
              "outlinewidth": 0,
              "ticks": ""
             }
            },
            "type": "parcoords"
           }
          ],
          "pie": [
           {
            "automargin": true,
            "type": "pie"
           }
          ],
          "scatter": [
           {
            "marker": {
             "colorbar": {
              "outlinewidth": 0,
              "ticks": ""
             }
            },
            "type": "scatter"
           }
          ],
          "scatter3d": [
           {
            "line": {
             "colorbar": {
              "outlinewidth": 0,
              "ticks": ""
             }
            },
            "marker": {
             "colorbar": {
              "outlinewidth": 0,
              "ticks": ""
             }
            },
            "type": "scatter3d"
           }
          ],
          "scattercarpet": [
           {
            "marker": {
             "colorbar": {
              "outlinewidth": 0,
              "ticks": ""
             }
            },
            "type": "scattercarpet"
           }
          ],
          "scattergeo": [
           {
            "marker": {
             "colorbar": {
              "outlinewidth": 0,
              "ticks": ""
             }
            },
            "type": "scattergeo"
           }
          ],
          "scattergl": [
           {
            "marker": {
             "colorbar": {
              "outlinewidth": 0,
              "ticks": ""
             }
            },
            "type": "scattergl"
           }
          ],
          "scattermapbox": [
           {
            "marker": {
             "colorbar": {
              "outlinewidth": 0,
              "ticks": ""
             }
            },
            "type": "scattermapbox"
           }
          ],
          "scatterpolar": [
           {
            "marker": {
             "colorbar": {
              "outlinewidth": 0,
              "ticks": ""
             }
            },
            "type": "scatterpolar"
           }
          ],
          "scatterpolargl": [
           {
            "marker": {
             "colorbar": {
              "outlinewidth": 0,
              "ticks": ""
             }
            },
            "type": "scatterpolargl"
           }
          ],
          "scatterternary": [
           {
            "marker": {
             "colorbar": {
              "outlinewidth": 0,
              "ticks": ""
             }
            },
            "type": "scatterternary"
           }
          ],
          "surface": [
           {
            "colorbar": {
             "outlinewidth": 0,
             "ticks": ""
            },
            "colorscale": [
             [
              0,
              "#0d0887"
             ],
             [
              0.1111111111111111,
              "#46039f"
             ],
             [
              0.2222222222222222,
              "#7201a8"
             ],
             [
              0.3333333333333333,
              "#9c179e"
             ],
             [
              0.4444444444444444,
              "#bd3786"
             ],
             [
              0.5555555555555556,
              "#d8576b"
             ],
             [
              0.6666666666666666,
              "#ed7953"
             ],
             [
              0.7777777777777778,
              "#fb9f3a"
             ],
             [
              0.8888888888888888,
              "#fdca26"
             ],
             [
              1,
              "#f0f921"
             ]
            ],
            "type": "surface"
           }
          ],
          "table": [
           {
            "cells": {
             "fill": {
              "color": "#EBF0F8"
             },
             "line": {
              "color": "white"
             }
            },
            "header": {
             "fill": {
              "color": "#C8D4E3"
             },
             "line": {
              "color": "white"
             }
            },
            "type": "table"
           }
          ]
         },
         "layout": {
          "annotationdefaults": {
           "arrowcolor": "#2a3f5f",
           "arrowhead": 0,
           "arrowwidth": 1
          },
          "autotypenumbers": "strict",
          "coloraxis": {
           "colorbar": {
            "outlinewidth": 0,
            "ticks": ""
           }
          },
          "colorscale": {
           "diverging": [
            [
             0,
             "#8e0152"
            ],
            [
             0.1,
             "#c51b7d"
            ],
            [
             0.2,
             "#de77ae"
            ],
            [
             0.3,
             "#f1b6da"
            ],
            [
             0.4,
             "#fde0ef"
            ],
            [
             0.5,
             "#f7f7f7"
            ],
            [
             0.6,
             "#e6f5d0"
            ],
            [
             0.7,
             "#b8e186"
            ],
            [
             0.8,
             "#7fbc41"
            ],
            [
             0.9,
             "#4d9221"
            ],
            [
             1,
             "#276419"
            ]
           ],
           "sequential": [
            [
             0,
             "#0d0887"
            ],
            [
             0.1111111111111111,
             "#46039f"
            ],
            [
             0.2222222222222222,
             "#7201a8"
            ],
            [
             0.3333333333333333,
             "#9c179e"
            ],
            [
             0.4444444444444444,
             "#bd3786"
            ],
            [
             0.5555555555555556,
             "#d8576b"
            ],
            [
             0.6666666666666666,
             "#ed7953"
            ],
            [
             0.7777777777777778,
             "#fb9f3a"
            ],
            [
             0.8888888888888888,
             "#fdca26"
            ],
            [
             1,
             "#f0f921"
            ]
           ],
           "sequentialminus": [
            [
             0,
             "#0d0887"
            ],
            [
             0.1111111111111111,
             "#46039f"
            ],
            [
             0.2222222222222222,
             "#7201a8"
            ],
            [
             0.3333333333333333,
             "#9c179e"
            ],
            [
             0.4444444444444444,
             "#bd3786"
            ],
            [
             0.5555555555555556,
             "#d8576b"
            ],
            [
             0.6666666666666666,
             "#ed7953"
            ],
            [
             0.7777777777777778,
             "#fb9f3a"
            ],
            [
             0.8888888888888888,
             "#fdca26"
            ],
            [
             1,
             "#f0f921"
            ]
           ]
          },
          "colorway": [
           "#636efa",
           "#EF553B",
           "#00cc96",
           "#ab63fa",
           "#FFA15A",
           "#19d3f3",
           "#FF6692",
           "#B6E880",
           "#FF97FF",
           "#FECB52"
          ],
          "font": {
           "color": "#2a3f5f"
          },
          "geo": {
           "bgcolor": "white",
           "lakecolor": "white",
           "landcolor": "#E5ECF6",
           "showlakes": true,
           "showland": true,
           "subunitcolor": "white"
          },
          "hoverlabel": {
           "align": "left"
          },
          "hovermode": "closest",
          "mapbox": {
           "style": "light"
          },
          "paper_bgcolor": "white",
          "plot_bgcolor": "#E5ECF6",
          "polar": {
           "angularaxis": {
            "gridcolor": "white",
            "linecolor": "white",
            "ticks": ""
           },
           "bgcolor": "#E5ECF6",
           "radialaxis": {
            "gridcolor": "white",
            "linecolor": "white",
            "ticks": ""
           }
          },
          "scene": {
           "xaxis": {
            "backgroundcolor": "#E5ECF6",
            "gridcolor": "white",
            "gridwidth": 2,
            "linecolor": "white",
            "showbackground": true,
            "ticks": "",
            "zerolinecolor": "white"
           },
           "yaxis": {
            "backgroundcolor": "#E5ECF6",
            "gridcolor": "white",
            "gridwidth": 2,
            "linecolor": "white",
            "showbackground": true,
            "ticks": "",
            "zerolinecolor": "white"
           },
           "zaxis": {
            "backgroundcolor": "#E5ECF6",
            "gridcolor": "white",
            "gridwidth": 2,
            "linecolor": "white",
            "showbackground": true,
            "ticks": "",
            "zerolinecolor": "white"
           }
          },
          "shapedefaults": {
           "line": {
            "color": "#2a3f5f"
           }
          },
          "ternary": {
           "aaxis": {
            "gridcolor": "white",
            "linecolor": "white",
            "ticks": ""
           },
           "baxis": {
            "gridcolor": "white",
            "linecolor": "white",
            "ticks": ""
           },
           "bgcolor": "#E5ECF6",
           "caxis": {
            "gridcolor": "white",
            "linecolor": "white",
            "ticks": ""
           }
          },
          "title": {
           "x": 0.05
          },
          "xaxis": {
           "automargin": true,
           "gridcolor": "white",
           "linecolor": "white",
           "ticks": "",
           "title": {
            "standoff": 15
           },
           "zerolinecolor": "white",
           "zerolinewidth": 2
          },
          "yaxis": {
           "automargin": true,
           "gridcolor": "white",
           "linecolor": "white",
           "ticks": "",
           "title": {
            "standoff": 15
           },
           "zerolinecolor": "white",
           "zerolinewidth": 2
          }
         }
        },
        "title": {
         "text": "Chinatown Station Foreign Born Population Breakdown"
        },
        "xaxis": {
         "anchor": "y",
         "autorange": true,
         "domain": [
          0,
          1
         ],
         "range": [
          -0.5,
          9.5
         ],
         "title": {
          "text": "Country of Origin"
         },
         "type": "category"
        },
        "yaxis": {
         "anchor": "x",
         "autorange": true,
         "domain": [
          0,
          1
         ],
         "range": [
          0,
          49.617926066109526
         ],
         "title": {
          "text": "Percentage"
         },
         "type": "linear"
        }
       }
      },
      "image/png": "[encoded data removed]",
      "text/html": [
       "<div>                            <div id=\"b3594a3b-aefe-409a-be2e-1e0003c9f651\" class=\"plotly-graph-div\" style=\"height:525px; width:100%;\"></div>            <script type=\"text/javascript\">                require([\"plotly\"], function(Plotly) {                    window.PLOTLYENV=window.PLOTLYENV || {};                                    if (document.getElementById(\"b3594a3b-aefe-409a-be2e-1e0003c9f651\")) {                    Plotly.newPlot(                        \"b3594a3b-aefe-409a-be2e-1e0003c9f651\",                        [{\"alignmentgroup\":\"True\",\"hovertemplate\":\"Country of Origin=%{x}<br>Percentage=%{y}<extra></extra>\",\"legendgroup\":\"\",\"marker\":{\"color\":\"#636efa\",\"pattern\":{\"shape\":\"\"}},\"name\":\"\",\"offsetgroup\":\"\",\"orientation\":\"v\",\"showlegend\":false,\"textposition\":\"auto\",\"type\":\"bar\",\"x\":[\"Percent From China, Hong Kong, Taiwan\",\"Percent From Cuba\",\"Percent From Dominican Republic\",\"Percent From El Salvador\",\"Percent From Guatemala\",\"Percent From India\",\"Percent From Mexico\",\"Percent From Philippines\",\"Percent From Vietnam\",\"Percent From All Other Countries\"],\"xaxis\":\"x\",\"y\":[47.13702976280405,0.09064813415923856,0.12086417887898473,4.743919021000151,2.3568514881402023,0.12086417887898473,20.985043057863724,20.985043057863724,6.118749055748602,16.4526363499018],\"yaxis\":\"y\"}],                        {\"barmode\":\"relative\",\"legend\":{\"tracegroupgap\":0},\"template\":{\"data\":{\"bar\":[{\"error_x\":{\"color\":\"#2a3f5f\"},\"error_y\":{\"color\":\"#2a3f5f\"},\"marker\":{\"line\":{\"color\":\"#E5ECF6\",\"width\":0.5},\"pattern\":{\"fillmode\":\"overlay\",\"size\":10,\"solidity\":0.2}},\"type\":\"bar\"}],\"barpolar\":[{\"marker\":{\"line\":{\"color\":\"#E5ECF6\",\"width\":0.5},\"pattern\":{\"fillmode\":\"overlay\",\"size\":10,\"solidity\":0.2}},\"type\":\"barpolar\"}],\"carpet\":[{\"aaxis\":{\"endlinecolor\":\"#2a3f5f\",\"gridcolor\":\"white\",\"linecolor\":\"white\",\"minorgridcolor\":\"white\",\"startlinecolor\":\"#2a3f5f\"},\"baxis\":{\"endlinecolor\":\"#2a3f5f\",\"gridcolor\":\"white\",\"linecolor\":\"white\",\"minorgridcolor\":\"white\",\"startlinecolor\":\"#2a3f5f\"},\"type\":\"carpet\"}],\"choropleth\":[{\"colorbar\":{\"outlinewidth\":0,\"ticks\":\"\"},\"type\":\"choropleth\"}],\"contour\":[{\"colorbar\":{\"outlinewidth\":0,\"ticks\":\"\"},\"colorscale\":[[0.0,\"#0d0887\"],[0.1111111111111111,\"#46039f\"],[0.2222222222222222,\"#7201a8\"],[0.3333333333333333,\"#9c179e\"],[0.4444444444444444,\"#bd3786\"],[0.5555555555555556,\"#d8576b\"],[0.6666666666666666,\"#ed7953\"],[0.7777777777777778,\"#fb9f3a\"],[0.8888888888888888,\"#fdca26\"],[1.0,\"#f0f921\"]],\"type\":\"contour\"}],\"contourcarpet\":[{\"colorbar\":{\"outlinewidth\":0,\"ticks\":\"\"},\"type\":\"contourcarpet\"}],\"heatmap\":[{\"colorbar\":{\"outlinewidth\":0,\"ticks\":\"\"},\"colorscale\":[[0.0,\"#0d0887\"],[0.1111111111111111,\"#46039f\"],[0.2222222222222222,\"#7201a8\"],[0.3333333333333333,\"#9c179e\"],[0.4444444444444444,\"#bd3786\"],[0.5555555555555556,\"#d8576b\"],[0.6666666666666666,\"#ed7953\"],[0.7777777777777778,\"#fb9f3a\"],[0.8888888888888888,\"#fdca26\"],[1.0,\"#f0f921\"]],\"type\":\"heatmap\"}],\"heatmapgl\":[{\"colorbar\":{\"outlinewidth\":0,\"ticks\":\"\"},\"colorscale\":[[0.0,\"#0d0887\"],[0.1111111111111111,\"#46039f\"],[0.2222222222222222,\"#7201a8\"],[0.3333333333333333,\"#9c179e\"],[0.4444444444444444,\"#bd3786\"],[0.5555555555555556,\"#d8576b\"],[0.6666666666666666,\"#ed7953\"],[0.7777777777777778,\"#fb9f3a\"],[0.8888888888888888,\"#fdca26\"],[1.0,\"#f0f921\"]],\"type\":\"heatmapgl\"}],\"histogram\":[{\"marker\":{\"pattern\":{\"fillmode\":\"overlay\",\"size\":10,\"solidity\":0.2}},\"type\":\"histogram\"}],\"histogram2d\":[{\"colorbar\":{\"outlinewidth\":0,\"ticks\":\"\"},\"colorscale\":[[0.0,\"#0d0887\"],[0.1111111111111111,\"#46039f\"],[0.2222222222222222,\"#7201a8\"],[0.3333333333333333,\"#9c179e\"],[0.4444444444444444,\"#bd3786\"],[0.5555555555555556,\"#d8576b\"],[0.6666666666666666,\"#ed7953\"],[0.7777777777777778,\"#fb9f3a\"],[0.8888888888888888,\"#fdca26\"],[1.0,\"#f0f921\"]],\"type\":\"histogram2d\"}],\"histogram2dcontour\":[{\"colorbar\":{\"outlinewidth\":0,\"ticks\":\"\"},\"colorscale\":[[0.0,\"#0d0887\"],[0.1111111111111111,\"#46039f\"],[0.2222222222222222,\"#7201a8\"],[0.3333333333333333,\"#9c179e\"],[0.4444444444444444,\"#bd3786\"],[0.5555555555555556,\"#d8576b\"],[0.6666666666666666,\"#ed7953\"],[0.7777777777777778,\"#fb9f3a\"],[0.8888888888888888,\"#fdca26\"],[1.0,\"#f0f921\"]],\"type\":\"histogram2dcontour\"}],\"mesh3d\":[{\"colorbar\":{\"outlinewidth\":0,\"ticks\":\"\"},\"type\":\"mesh3d\"}],\"parcoords\":[{\"line\":{\"colorbar\":{\"outlinewidth\":0,\"ticks\":\"\"}},\"type\":\"parcoords\"}],\"pie\":[{\"automargin\":true,\"type\":\"pie\"}],\"scatter\":[{\"marker\":{\"colorbar\":{\"outlinewidth\":0,\"ticks\":\"\"}},\"type\":\"scatter\"}],\"scatter3d\":[{\"line\":{\"colorbar\":{\"outlinewidth\":0,\"ticks\":\"\"}},\"marker\":{\"colorbar\":{\"outlinewidth\":0,\"ticks\":\"\"}},\"type\":\"scatter3d\"}],\"scattercarpet\":[{\"marker\":{\"colorbar\":{\"outlinewidth\":0,\"ticks\":\"\"}},\"type\":\"scattercarpet\"}],\"scattergeo\":[{\"marker\":{\"colorbar\":{\"outlinewidth\":0,\"ticks\":\"\"}},\"type\":\"scattergeo\"}],\"scattergl\":[{\"marker\":{\"colorbar\":{\"outlinewidth\":0,\"ticks\":\"\"}},\"type\":\"scattergl\"}],\"scattermapbox\":[{\"marker\":{\"colorbar\":{\"outlinewidth\":0,\"ticks\":\"\"}},\"type\":\"scattermapbox\"}],\"scatterpolar\":[{\"marker\":{\"colorbar\":{\"outlinewidth\":0,\"ticks\":\"\"}},\"type\":\"scatterpolar\"}],\"scatterpolargl\":[{\"marker\":{\"colorbar\":{\"outlinewidth\":0,\"ticks\":\"\"}},\"type\":\"scatterpolargl\"}],\"scatterternary\":[{\"marker\":{\"colorbar\":{\"outlinewidth\":0,\"ticks\":\"\"}},\"type\":\"scatterternary\"}],\"surface\":[{\"colorbar\":{\"outlinewidth\":0,\"ticks\":\"\"},\"colorscale\":[[0.0,\"#0d0887\"],[0.1111111111111111,\"#46039f\"],[0.2222222222222222,\"#7201a8\"],[0.3333333333333333,\"#9c179e\"],[0.4444444444444444,\"#bd3786\"],[0.5555555555555556,\"#d8576b\"],[0.6666666666666666,\"#ed7953\"],[0.7777777777777778,\"#fb9f3a\"],[0.8888888888888888,\"#fdca26\"],[1.0,\"#f0f921\"]],\"type\":\"surface\"}],\"table\":[{\"cells\":{\"fill\":{\"color\":\"#EBF0F8\"},\"line\":{\"color\":\"white\"}},\"header\":{\"fill\":{\"color\":\"#C8D4E3\"},\"line\":{\"color\":\"white\"}},\"type\":\"table\"}]},\"layout\":{\"annotationdefaults\":{\"arrowcolor\":\"#2a3f5f\",\"arrowhead\":0,\"arrowwidth\":1},\"autotypenumbers\":\"strict\",\"coloraxis\":{\"colorbar\":{\"outlinewidth\":0,\"ticks\":\"\"}},\"colorscale\":{\"diverging\":[[0,\"#8e0152\"],[0.1,\"#c51b7d\"],[0.2,\"#de77ae\"],[0.3,\"#f1b6da\"],[0.4,\"#fde0ef\"],[0.5,\"#f7f7f7\"],[0.6,\"#e6f5d0\"],[0.7,\"#b8e186\"],[0.8,\"#7fbc41\"],[0.9,\"#4d9221\"],[1,\"#276419\"]],\"sequential\":[[0.0,\"#0d0887\"],[0.1111111111111111,\"#46039f\"],[0.2222222222222222,\"#7201a8\"],[0.3333333333333333,\"#9c179e\"],[0.4444444444444444,\"#bd3786\"],[0.5555555555555556,\"#d8576b\"],[0.6666666666666666,\"#ed7953\"],[0.7777777777777778,\"#fb9f3a\"],[0.8888888888888888,\"#fdca26\"],[1.0,\"#f0f921\"]],\"sequentialminus\":[[0.0,\"#0d0887\"],[0.1111111111111111,\"#46039f\"],[0.2222222222222222,\"#7201a8\"],[0.3333333333333333,\"#9c179e\"],[0.4444444444444444,\"#bd3786\"],[0.5555555555555556,\"#d8576b\"],[0.6666666666666666,\"#ed7953\"],[0.7777777777777778,\"#fb9f3a\"],[0.8888888888888888,\"#fdca26\"],[1.0,\"#f0f921\"]]},\"colorway\":[\"#636efa\",\"#EF553B\",\"#00cc96\",\"#ab63fa\",\"#FFA15A\",\"#19d3f3\",\"#FF6692\",\"#B6E880\",\"#FF97FF\",\"#FECB52\"],\"font\":{\"color\":\"#2a3f5f\"},\"geo\":{\"bgcolor\":\"white\",\"lakecolor\":\"white\",\"landcolor\":\"#E5ECF6\",\"showlakes\":true,\"showland\":true,\"subunitcolor\":\"white\"},\"hoverlabel\":{\"align\":\"left\"},\"hovermode\":\"closest\",\"mapbox\":{\"style\":\"light\"},\"paper_bgcolor\":\"white\",\"plot_bgcolor\":\"#E5ECF6\",\"polar\":{\"angularaxis\":{\"gridcolor\":\"white\",\"linecolor\":\"white\",\"ticks\":\"\"},\"bgcolor\":\"#E5ECF6\",\"radialaxis\":{\"gridcolor\":\"white\",\"linecolor\":\"white\",\"ticks\":\"\"}},\"scene\":{\"xaxis\":{\"backgroundcolor\":\"#E5ECF6\",\"gridcolor\":\"white\",\"gridwidth\":2,\"linecolor\":\"white\",\"showbackground\":true,\"ticks\":\"\",\"zerolinecolor\":\"white\"},\"yaxis\":{\"backgroundcolor\":\"#E5ECF6\",\"gridcolor\":\"white\",\"gridwidth\":2,\"linecolor\":\"white\",\"showbackground\":true,\"ticks\":\"\",\"zerolinecolor\":\"white\"},\"zaxis\":{\"backgroundcolor\":\"#E5ECF6\",\"gridcolor\":\"white\",\"gridwidth\":2,\"linecolor\":\"white\",\"showbackground\":true,\"ticks\":\"\",\"zerolinecolor\":\"white\"}},\"shapedefaults\":{\"line\":{\"color\":\"#2a3f5f\"}},\"ternary\":{\"aaxis\":{\"gridcolor\":\"white\",\"linecolor\":\"white\",\"ticks\":\"\"},\"baxis\":{\"gridcolor\":\"white\",\"linecolor\":\"white\",\"ticks\":\"\"},\"bgcolor\":\"#E5ECF6\",\"caxis\":{\"gridcolor\":\"white\",\"linecolor\":\"white\",\"ticks\":\"\"}},\"title\":{\"x\":0.05},\"xaxis\":{\"automargin\":true,\"gridcolor\":\"white\",\"linecolor\":\"white\",\"ticks\":\"\",\"title\":{\"standoff\":15},\"zerolinecolor\":\"white\",\"zerolinewidth\":2},\"yaxis\":{\"automargin\":true,\"gridcolor\":\"white\",\"linecolor\":\"white\",\"ticks\":\"\",\"title\":{\"standoff\":15},\"zerolinecolor\":\"white\",\"zerolinewidth\":2}}},\"title\":{\"text\":\"Chinatown Station Foreign Born Population Breakdown\"},\"xaxis\":{\"anchor\":\"y\",\"domain\":[0.0,1.0],\"title\":{\"text\":\"Country of Origin\"}},\"yaxis\":{\"anchor\":\"x\",\"domain\":[0.0,1.0],\"title\":{\"text\":\"Percentage\"}}},                        {\"responsive\": true}                    ).then(function(){\n",
       "                            \n",
       "var gd = document.getElementById('b3594a3b-aefe-409a-be2e-1e0003c9f651');\n",
       "var x = new MutationObserver(function (mutations, observer) {{\n",
       "        var display = window.getComputedStyle(gd).display;\n",
       "        if (!display || display === 'none') {{\n",
       "            console.log([gd, 'removed!']);\n",
       "            Plotly.purge(gd);\n",
       "            observer.disconnect();\n",
       "        }}\n",
       "}});\n",
       "\n",
       "// Listen for the removal of the full notebook cells\n",
       "var notebookContainer = gd.closest('#notebook-container');\n",
       "if (notebookContainer) {{\n",
       "    x.observe(notebookContainer, {childList: true});\n",
       "}}\n",
       "\n",
       "// Listen for the clearing of the current output cell\n",
       "var outputEl = gd.closest('.output');\n",
       "if (outputEl) {{\n",
       "    x.observe(outputEl, {childList: true});\n",
       "}}\n",
       "\n",
       "                        })                };                });            </script>        </div>"
      ]
     },
     "metadata": {},
     "output_type": "display_data"
    }
   ],
   "source": [
    "stn_trim(stationname = 'Chinatown',geoid1 = '14000US06037206010',geoid2 = '14000US06037207103',geoid3 = '14000US06037207102',geoid4 = '14000US06037206020')"
   ]
  },
  {
   "cell_type": "code",
   "execution_count": null,
   "id": "4673e86b-e763-46f6-946f-aadb8b5f413e",
   "metadata": {},
   "outputs": [],
   "source": []
  }
 ],
 "metadata": {
  "kernelspec": {
   "display_name": "Python 3 (ipykernel)",
   "language": "python",
   "name": "python3"
  },
  "language_info": {
   "codemirror_mode": {
    "name": "ipython",
    "version": 3
   },
   "file_extension": ".py",
   "mimetype": "text/x-python",
   "name": "python",
   "nbconvert_exporter": "python",
   "pygments_lexer": "ipython3",
   "version": "3.9.6"
  }
 },
 "nbformat": 4,
 "nbformat_minor": 5
}
