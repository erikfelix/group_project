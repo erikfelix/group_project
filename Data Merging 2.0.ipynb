{
 "cells": [
  {
   "cell_type": "code",
   "execution_count": 1,
   "id": "372c9405-d0c9-431d-bf7f-2661d939c047",
   "metadata": {},
   "outputs": [
    {
     "name": "stderr",
     "output_type": "stream",
     "text": [
      "/opt/conda/lib/python3.9/site-packages/geopandas/_compat.py:106: UserWarning: The Shapely GEOS version (3.9.1-CAPI-1.14.2) is incompatible with the GEOS version PyGEOS was compiled with (3.10.1-CAPI-1.16.0). Conversions between both will be slow.\n",
      "  warnings.warn(\n"
     ]
    }
   ],
   "source": [
    "import pandas as pd\n",
    "\n",
    "import geopandas as gpd\n",
    "\n",
    "import contextily as ctx\n",
    "\n",
    "import matplotlib.pyplot as plt\n",
    "\n",
    "# for interactive plots\n",
    "import plotly.express as px"
   ]
  },
  {
   "cell_type": "code",
   "execution_count": 15,
   "id": "05655269-52d6-40fc-950b-83f7b882f5ef",
   "metadata": {},
   "outputs": [],
   "source": [
    "gdf1 = gpd.read_file('acs2019_5yr_B01003_totalpop.geojson')"
   ]
  },
  {
   "cell_type": "code",
   "execution_count": 16,
   "id": "611be499-5593-4830-83d0-014ca7dff274",
   "metadata": {},
   "outputs": [],
   "source": [
    "df1 = pd.read_csv('acs2011_5yr_B01003_totalpop.csv')"
   ]
  },
  {
   "cell_type": "code",
   "execution_count": 17,
   "id": "02549950-5a4b-4205-9bf6-ba88da090265",
   "metadata": {},
   "outputs": [
    {
     "data": {
      "text/html": [
       "<div>\n",
       "<style scoped>\n",
       "    .dataframe tbody tr th:only-of-type {\n",
       "        vertical-align: middle;\n",
       "    }\n",
       "\n",
       "    .dataframe tbody tr th {\n",
       "        vertical-align: top;\n",
       "    }\n",
       "\n",
       "    .dataframe thead th {\n",
       "        text-align: right;\n",
       "    }\n",
       "</style>\n",
       "<table border=\"1\" class=\"dataframe\">\n",
       "  <thead>\n",
       "    <tr style=\"text-align: right;\">\n",
       "      <th></th>\n",
       "      <th>geoid</th>\n",
       "      <th>name</th>\n",
       "      <th>B01003001</th>\n",
       "      <th>B01003001, Error</th>\n",
       "      <th>geometry</th>\n",
       "    </tr>\n",
       "  </thead>\n",
       "  <tbody>\n",
       "    <tr>\n",
       "      <th>0</th>\n",
       "      <td>05000US06037</td>\n",
       "      <td>Los Angeles County, CA</td>\n",
       "      <td>10081570.0</td>\n",
       "      <td>0.0</td>\n",
       "      <td>MULTIPOLYGON (((-118.70339 34.16859, -118.7033...</td>\n",
       "    </tr>\n",
       "    <tr>\n",
       "      <th>1</th>\n",
       "      <td>14000US06037101110</td>\n",
       "      <td>Census Tract 1011.10, Los Angeles, CA</td>\n",
       "      <td>4283.0</td>\n",
       "      <td>443.0</td>\n",
       "      <td>MULTIPOLYGON (((-118.30229 34.25870, -118.3009...</td>\n",
       "    </tr>\n",
       "    <tr>\n",
       "      <th>2</th>\n",
       "      <td>14000US06037101122</td>\n",
       "      <td>Census Tract 1011.22, Los Angeles, CA</td>\n",
       "      <td>3405.0</td>\n",
       "      <td>334.0</td>\n",
       "      <td>MULTIPOLYGON (((-118.30334 34.27371, -118.3033...</td>\n",
       "    </tr>\n",
       "    <tr>\n",
       "      <th>3</th>\n",
       "      <td>14000US06037101210</td>\n",
       "      <td>Census Tract 1012.10, Los Angeles, CA</td>\n",
       "      <td>6347.0</td>\n",
       "      <td>484.0</td>\n",
       "      <td>MULTIPOLYGON (((-118.29945 34.25598, -118.2979...</td>\n",
       "    </tr>\n",
       "    <tr>\n",
       "      <th>4</th>\n",
       "      <td>14000US06037101220</td>\n",
       "      <td>Census Tract 1012.20, Los Angeles, CA</td>\n",
       "      <td>3702.0</td>\n",
       "      <td>276.0</td>\n",
       "      <td>MULTIPOLYGON (((-118.28593 34.25227, -118.2859...</td>\n",
       "    </tr>\n",
       "  </tbody>\n",
       "</table>\n",
       "</div>"
      ],
      "text/plain": [
       "                geoid                                   name   B01003001  \\\n",
       "0        05000US06037                 Los Angeles County, CA  10081570.0   \n",
       "1  14000US06037101110  Census Tract 1011.10, Los Angeles, CA      4283.0   \n",
       "2  14000US06037101122  Census Tract 1011.22, Los Angeles, CA      3405.0   \n",
       "3  14000US06037101210  Census Tract 1012.10, Los Angeles, CA      6347.0   \n",
       "4  14000US06037101220  Census Tract 1012.20, Los Angeles, CA      3702.0   \n",
       "\n",
       "   B01003001, Error                                           geometry  \n",
       "0               0.0  MULTIPOLYGON (((-118.70339 34.16859, -118.7033...  \n",
       "1             443.0  MULTIPOLYGON (((-118.30229 34.25870, -118.3009...  \n",
       "2             334.0  MULTIPOLYGON (((-118.30334 34.27371, -118.3033...  \n",
       "3             484.0  MULTIPOLYGON (((-118.29945 34.25598, -118.2979...  \n",
       "4             276.0  MULTIPOLYGON (((-118.28593 34.25227, -118.2859...  "
      ]
     },
     "execution_count": 17,
     "metadata": {},
     "output_type": "execute_result"
    }
   ],
   "source": [
    "gdf1.head()"
   ]
  },
  {
   "cell_type": "code",
   "execution_count": 18,
   "id": "900dd8df-1742-4edb-88ed-318f8ccecef5",
   "metadata": {},
   "outputs": [
    {
     "data": {
      "text/html": [
       "<div>\n",
       "<style scoped>\n",
       "    .dataframe tbody tr th:only-of-type {\n",
       "        vertical-align: middle;\n",
       "    }\n",
       "\n",
       "    .dataframe tbody tr th {\n",
       "        vertical-align: top;\n",
       "    }\n",
       "\n",
       "    .dataframe thead th {\n",
       "        text-align: right;\n",
       "    }\n",
       "</style>\n",
       "<table border=\"1\" class=\"dataframe\">\n",
       "  <thead>\n",
       "    <tr style=\"text-align: right;\">\n",
       "      <th></th>\n",
       "      <th>B01003_001E</th>\n",
       "      <th>B01003_001M</th>\n",
       "      <th>GEO_ID</th>\n",
       "      <th>NAME</th>\n",
       "    </tr>\n",
       "  </thead>\n",
       "  <tbody>\n",
       "    <tr>\n",
       "      <th>0</th>\n",
       "      <td>Estimate!!Total</td>\n",
       "      <td>Margin of Error!!Total</td>\n",
       "      <td>id</td>\n",
       "      <td>Geographic Area Name</td>\n",
       "    </tr>\n",
       "    <tr>\n",
       "      <th>1</th>\n",
       "      <td>5012</td>\n",
       "      <td>424</td>\n",
       "      <td>1400000US06037101110</td>\n",
       "      <td>Census Tract 1011.10, Los Angeles County, Cali...</td>\n",
       "    </tr>\n",
       "    <tr>\n",
       "      <th>2</th>\n",
       "      <td>3584</td>\n",
       "      <td>388</td>\n",
       "      <td>1400000US06037101122</td>\n",
       "      <td>Census Tract 1011.22, Los Angeles County, Cali...</td>\n",
       "    </tr>\n",
       "    <tr>\n",
       "      <th>3</th>\n",
       "      <td>6529</td>\n",
       "      <td>533</td>\n",
       "      <td>1400000US06037101210</td>\n",
       "      <td>Census Tract 1012.10, Los Angeles County, Cali...</td>\n",
       "    </tr>\n",
       "    <tr>\n",
       "      <th>4</th>\n",
       "      <td>2751</td>\n",
       "      <td>319</td>\n",
       "      <td>1400000US06037101220</td>\n",
       "      <td>Census Tract 1012.20, Los Angeles County, Cali...</td>\n",
       "    </tr>\n",
       "  </tbody>\n",
       "</table>\n",
       "</div>"
      ],
      "text/plain": [
       "       B01003_001E             B01003_001M                GEO_ID  \\\n",
       "0  Estimate!!Total  Margin of Error!!Total                    id   \n",
       "1             5012                     424  1400000US06037101110   \n",
       "2             3584                     388  1400000US06037101122   \n",
       "3             6529                     533  1400000US06037101210   \n",
       "4             2751                     319  1400000US06037101220   \n",
       "\n",
       "                                                NAME  \n",
       "0                               Geographic Area Name  \n",
       "1  Census Tract 1011.10, Los Angeles County, Cali...  \n",
       "2  Census Tract 1011.22, Los Angeles County, Cali...  \n",
       "3  Census Tract 1012.10, Los Angeles County, Cali...  \n",
       "4  Census Tract 1012.20, Los Angeles County, Cali...  "
      ]
     },
     "execution_count": 18,
     "metadata": {},
     "output_type": "execute_result"
    }
   ],
   "source": [
    "df1.head()"
   ]
  },
  {
   "cell_type": "code",
   "execution_count": 19,
   "id": "f7f5854a-66c3-419b-bdf7-f66615a9ffd8",
   "metadata": {},
   "outputs": [],
   "source": [
    "df1 = df1.rename(columns = {'GEO_ID':'geoid'})"
   ]
  },
  {
   "cell_type": "code",
   "execution_count": 20,
   "id": "265a7b3f-b59a-4efa-9734-809f870eeb15",
   "metadata": {},
   "outputs": [],
   "source": [
    "gdf1 = gdf1.drop([0])"
   ]
  },
  {
   "cell_type": "code",
   "execution_count": 21,
   "id": "4aae93af-166c-43c4-b2b3-88062a3bf16d",
   "metadata": {},
   "outputs": [],
   "source": [
    "df1 = df1.drop([0])"
   ]
  },
  {
   "cell_type": "code",
   "execution_count": 22,
   "id": "0191c994-5362-46e2-a389-f178c2cc142b",
   "metadata": {},
   "outputs": [
    {
     "data": {
      "text/html": [
       "<div>\n",
       "<style scoped>\n",
       "    .dataframe tbody tr th:only-of-type {\n",
       "        vertical-align: middle;\n",
       "    }\n",
       "\n",
       "    .dataframe tbody tr th {\n",
       "        vertical-align: top;\n",
       "    }\n",
       "\n",
       "    .dataframe thead th {\n",
       "        text-align: right;\n",
       "    }\n",
       "</style>\n",
       "<table border=\"1\" class=\"dataframe\">\n",
       "  <thead>\n",
       "    <tr style=\"text-align: right;\">\n",
       "      <th></th>\n",
       "      <th>geoid</th>\n",
       "      <th>name</th>\n",
       "      <th>B01003001</th>\n",
       "      <th>B01003001, Error</th>\n",
       "      <th>geometry</th>\n",
       "    </tr>\n",
       "  </thead>\n",
       "  <tbody>\n",
       "    <tr>\n",
       "      <th>1</th>\n",
       "      <td>14000US06037101110</td>\n",
       "      <td>Census Tract 1011.10, Los Angeles, CA</td>\n",
       "      <td>4283.0</td>\n",
       "      <td>443.0</td>\n",
       "      <td>MULTIPOLYGON (((-118.30229 34.25870, -118.3009...</td>\n",
       "    </tr>\n",
       "    <tr>\n",
       "      <th>2</th>\n",
       "      <td>14000US06037101122</td>\n",
       "      <td>Census Tract 1011.22, Los Angeles, CA</td>\n",
       "      <td>3405.0</td>\n",
       "      <td>334.0</td>\n",
       "      <td>MULTIPOLYGON (((-118.30334 34.27371, -118.3033...</td>\n",
       "    </tr>\n",
       "    <tr>\n",
       "      <th>3</th>\n",
       "      <td>14000US06037101210</td>\n",
       "      <td>Census Tract 1012.10, Los Angeles, CA</td>\n",
       "      <td>6347.0</td>\n",
       "      <td>484.0</td>\n",
       "      <td>MULTIPOLYGON (((-118.29945 34.25598, -118.2979...</td>\n",
       "    </tr>\n",
       "    <tr>\n",
       "      <th>4</th>\n",
       "      <td>14000US06037101220</td>\n",
       "      <td>Census Tract 1012.20, Los Angeles, CA</td>\n",
       "      <td>3702.0</td>\n",
       "      <td>276.0</td>\n",
       "      <td>MULTIPOLYGON (((-118.28593 34.25227, -118.2859...</td>\n",
       "    </tr>\n",
       "    <tr>\n",
       "      <th>5</th>\n",
       "      <td>14000US06037101300</td>\n",
       "      <td>Census Tract 1013, Los Angeles, CA</td>\n",
       "      <td>3884.0</td>\n",
       "      <td>394.0</td>\n",
       "      <td>MULTIPOLYGON (((-118.27822 34.25068, -118.2782...</td>\n",
       "    </tr>\n",
       "  </tbody>\n",
       "</table>\n",
       "</div>"
      ],
      "text/plain": [
       "                geoid                                   name  B01003001  \\\n",
       "1  14000US06037101110  Census Tract 1011.10, Los Angeles, CA     4283.0   \n",
       "2  14000US06037101122  Census Tract 1011.22, Los Angeles, CA     3405.0   \n",
       "3  14000US06037101210  Census Tract 1012.10, Los Angeles, CA     6347.0   \n",
       "4  14000US06037101220  Census Tract 1012.20, Los Angeles, CA     3702.0   \n",
       "5  14000US06037101300     Census Tract 1013, Los Angeles, CA     3884.0   \n",
       "\n",
       "   B01003001, Error                                           geometry  \n",
       "1             443.0  MULTIPOLYGON (((-118.30229 34.25870, -118.3009...  \n",
       "2             334.0  MULTIPOLYGON (((-118.30334 34.27371, -118.3033...  \n",
       "3             484.0  MULTIPOLYGON (((-118.29945 34.25598, -118.2979...  \n",
       "4             276.0  MULTIPOLYGON (((-118.28593 34.25227, -118.2859...  \n",
       "5             394.0  MULTIPOLYGON (((-118.27822 34.25068, -118.2782...  "
      ]
     },
     "execution_count": 22,
     "metadata": {},
     "output_type": "execute_result"
    }
   ],
   "source": [
    "gdf1.head()"
   ]
  },
  {
   "cell_type": "code",
   "execution_count": 23,
   "id": "7ff38b7e-06b7-434a-b5b1-985c52f51312",
   "metadata": {},
   "outputs": [
    {
     "data": {
      "text/html": [
       "<div>\n",
       "<style scoped>\n",
       "    .dataframe tbody tr th:only-of-type {\n",
       "        vertical-align: middle;\n",
       "    }\n",
       "\n",
       "    .dataframe tbody tr th {\n",
       "        vertical-align: top;\n",
       "    }\n",
       "\n",
       "    .dataframe thead th {\n",
       "        text-align: right;\n",
       "    }\n",
       "</style>\n",
       "<table border=\"1\" class=\"dataframe\">\n",
       "  <thead>\n",
       "    <tr style=\"text-align: right;\">\n",
       "      <th></th>\n",
       "      <th>B01003_001E</th>\n",
       "      <th>B01003_001M</th>\n",
       "      <th>geoid</th>\n",
       "      <th>NAME</th>\n",
       "    </tr>\n",
       "  </thead>\n",
       "  <tbody>\n",
       "    <tr>\n",
       "      <th>1</th>\n",
       "      <td>5012</td>\n",
       "      <td>424</td>\n",
       "      <td>1400000US06037101110</td>\n",
       "      <td>Census Tract 1011.10, Los Angeles County, Cali...</td>\n",
       "    </tr>\n",
       "    <tr>\n",
       "      <th>2</th>\n",
       "      <td>3584</td>\n",
       "      <td>388</td>\n",
       "      <td>1400000US06037101122</td>\n",
       "      <td>Census Tract 1011.22, Los Angeles County, Cali...</td>\n",
       "    </tr>\n",
       "    <tr>\n",
       "      <th>3</th>\n",
       "      <td>6529</td>\n",
       "      <td>533</td>\n",
       "      <td>1400000US06037101210</td>\n",
       "      <td>Census Tract 1012.10, Los Angeles County, Cali...</td>\n",
       "    </tr>\n",
       "    <tr>\n",
       "      <th>4</th>\n",
       "      <td>2751</td>\n",
       "      <td>319</td>\n",
       "      <td>1400000US06037101220</td>\n",
       "      <td>Census Tract 1012.20, Los Angeles County, Cali...</td>\n",
       "    </tr>\n",
       "    <tr>\n",
       "      <th>5</th>\n",
       "      <td>4123</td>\n",
       "      <td>332</td>\n",
       "      <td>1400000US06037101300</td>\n",
       "      <td>Census Tract 1013, Los Angeles County, California</td>\n",
       "    </tr>\n",
       "  </tbody>\n",
       "</table>\n",
       "</div>"
      ],
      "text/plain": [
       "  B01003_001E B01003_001M                 geoid  \\\n",
       "1        5012         424  1400000US06037101110   \n",
       "2        3584         388  1400000US06037101122   \n",
       "3        6529         533  1400000US06037101210   \n",
       "4        2751         319  1400000US06037101220   \n",
       "5        4123         332  1400000US06037101300   \n",
       "\n",
       "                                                NAME  \n",
       "1  Census Tract 1011.10, Los Angeles County, Cali...  \n",
       "2  Census Tract 1011.22, Los Angeles County, Cali...  \n",
       "3  Census Tract 1012.10, Los Angeles County, Cali...  \n",
       "4  Census Tract 1012.20, Los Angeles County, Cali...  \n",
       "5  Census Tract 1013, Los Angeles County, California  "
      ]
     },
     "execution_count": 23,
     "metadata": {},
     "output_type": "execute_result"
    }
   ],
   "source": [
    "df1.head()"
   ]
  },
  {
   "cell_type": "code",
   "execution_count": 24,
   "id": "d7641938-72bd-4f60-ba49-c33907c838fd",
   "metadata": {},
   "outputs": [],
   "source": [
    "tpop = gdf1.merge(df1, on='geoid')"
   ]
  },
  {
   "cell_type": "code",
   "execution_count": 25,
   "id": "39061fda-0f28-47ed-804f-2a0f8be2b298",
   "metadata": {},
   "outputs": [
    {
     "data": {
      "text/html": [
       "<div>\n",
       "<style scoped>\n",
       "    .dataframe tbody tr th:only-of-type {\n",
       "        vertical-align: middle;\n",
       "    }\n",
       "\n",
       "    .dataframe tbody tr th {\n",
       "        vertical-align: top;\n",
       "    }\n",
       "\n",
       "    .dataframe thead th {\n",
       "        text-align: right;\n",
       "    }\n",
       "</style>\n",
       "<table border=\"1\" class=\"dataframe\">\n",
       "  <thead>\n",
       "    <tr style=\"text-align: right;\">\n",
       "      <th></th>\n",
       "      <th>geoid</th>\n",
       "      <th>name</th>\n",
       "      <th>B01003001</th>\n",
       "      <th>B01003001, Error</th>\n",
       "      <th>geometry</th>\n",
       "      <th>B01003_001E</th>\n",
       "      <th>B01003_001M</th>\n",
       "      <th>NAME</th>\n",
       "    </tr>\n",
       "  </thead>\n",
       "  <tbody>\n",
       "  </tbody>\n",
       "</table>\n",
       "</div>"
      ],
      "text/plain": [
       "Empty GeoDataFrame\n",
       "Columns: [geoid, name, B01003001, B01003001, Error, geometry, B01003_001E, B01003_001M, NAME]\n",
       "Index: []"
      ]
     },
     "execution_count": 25,
     "metadata": {},
     "output_type": "execute_result"
    }
   ],
   "source": [
    "tpop.head()"
   ]
  },
  {
   "cell_type": "code",
   "execution_count": null,
   "id": "5a07accc-4872-4cf0-a997-f48af876e365",
   "metadata": {},
   "outputs": [],
   "source": []
  }
 ],
 "metadata": {
  "kernelspec": {
   "display_name": "Python 3 (ipykernel)",
   "language": "python",
   "name": "python3"
  },
  "language_info": {
   "codemirror_mode": {
    "name": "ipython",
    "version": 3
   },
   "file_extension": ".py",
   "mimetype": "text/x-python",
   "name": "python",
   "nbconvert_exporter": "python",
   "pygments_lexer": "ipython3",
   "version": "3.9.6"
  }
 },
 "nbformat": 4,
 "nbformat_minor": 5
}
